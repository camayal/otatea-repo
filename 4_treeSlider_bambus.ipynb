{
 "cells": [
  {
   "cell_type": "markdown",
   "id": "ba84fb1d-c408-43d8-874b-4ba8e5339c8b",
   "metadata": {
    "tags": []
   },
   "source": [
    "# Otatea exploration (TreeSlider for Astral and NANUQ)\n",
    "\n",
    "With this I want to produce trees for every radloci, in this way I can have trees for Astral and NANUQ."
   ]
  },
  {
   "cell_type": "code",
   "execution_count": 16,
   "id": "85e39eea-ae25-49b7-b465-cd2f24f76467",
   "metadata": {},
   "outputs": [],
   "source": [
    "import toytree\n",
    "import toyplot.pdf\n",
    "import pandas as pd\n",
    "import ipyrad.analysis as ipa\n",
    "import numpy as np"
   ]
  },
  {
   "cell_type": "code",
   "execution_count": 17,
   "id": "0509d685-6f42-442a-9dee-ba0b9ca7bc53",
   "metadata": {},
   "outputs": [
    {
     "data": {
      "text/plain": [
       "'0.9.84'"
      ]
     },
     "execution_count": 17,
     "metadata": {},
     "output_type": "execute_result"
    }
   ],
   "source": [
    "ipa.__version__"
   ]
  },
  {
   "cell_type": "code",
   "execution_count": 25,
   "id": "8806f9dc-fbd0-4ce4-8d46-707dbe84cfad",
   "metadata": {},
   "outputs": [],
   "source": [
    "assembly = \"otatea7_fullOlmeca\""
   ]
  },
  {
   "cell_type": "code",
   "execution_count": 26,
   "id": "f69b895e-f49b-499d-86f7-ef2946c9cc46",
   "metadata": {},
   "outputs": [],
   "source": [
    "##this hdf5 has strings instead of bytes in the names and produces a error with ipyrad 0.9.81\n",
    "#in order to solve it I did a copy of the hdf5 file into a new location and change all the strings\n",
    "#with bytes\n",
    "\n",
    "SEQS = f\"./{assembly}_outfiles/{assembly}.seqs.hdf5\"\n",
    "# SEQS = \"./otatea1_outfiles/otatea1.seqs.hdf5\"\n",
    "# SEQS = \"./TEST/min_sample_locus02.seqs.hdf5\" --> Test worked well, it is something in the otatea data"
   ]
  },
  {
   "cell_type": "code",
   "execution_count": 27,
   "id": "802efca0-8972-4205-9693-708a5c3c33d2",
   "metadata": {},
   "outputs": [],
   "source": [
    "# #solving bytes problems in hdf5\n",
    "# # load h5py module\n",
    "# import h5py\n",
    "# import numpy as np\n",
    "\n",
    "\n",
    "# #iterate over all names and change them to bytes\n",
    "# with h5py.File(SEQS, \"a\") as io5:\n",
    "#     names = io5[\"phymap\"].attrs[\"phynames\"]\n",
    "#     del io5[\"phymap\"].attrs[\"phynames\"]\n",
    "#     io5[\"phymap\"].attrs[\"phynames\"] = np.asarray([str.encode(i) for i in names], dtype=bytes)"
   ]
  },
  {
   "cell_type": "code",
   "execution_count": 28,
   "id": "03e895b1-56a0-47b9-b249-ac6c6ae76569",
   "metadata": {},
   "outputs": [],
   "source": [
    "scaff = ipa.treeslider(SEQS)"
   ]
  },
  {
   "cell_type": "code",
   "execution_count": 29,
   "id": "697f6ef3-9375-4b05-8628-c370268d3856",
   "metadata": {},
   "outputs": [
    {
     "data": {
      "text/html": [
       "<div>\n",
       "<style scoped>\n",
       "    .dataframe tbody tr th:only-of-type {\n",
       "        vertical-align: middle;\n",
       "    }\n",
       "\n",
       "    .dataframe tbody tr th {\n",
       "        vertical-align: top;\n",
       "    }\n",
       "\n",
       "    .dataframe thead th {\n",
       "        text-align: right;\n",
       "    }\n",
       "</style>\n",
       "<table border=\"1\" class=\"dataframe\">\n",
       "  <thead>\n",
       "    <tr style=\"text-align: right;\">\n",
       "      <th></th>\n",
       "      <th>scaffold_name</th>\n",
       "      <th>scaffold_length</th>\n",
       "    </tr>\n",
       "  </thead>\n",
       "  <tbody>\n",
       "    <tr>\n",
       "      <th>54</th>\n",
       "      <td>CM029663.1</td>\n",
       "      <td>65826467</td>\n",
       "    </tr>\n",
       "    <tr>\n",
       "      <th>56</th>\n",
       "      <td>CM029665.1</td>\n",
       "      <td>64776662</td>\n",
       "    </tr>\n",
       "    <tr>\n",
       "      <th>57</th>\n",
       "      <td>CM029666.1</td>\n",
       "      <td>64602909</td>\n",
       "    </tr>\n",
       "    <tr>\n",
       "      <th>55</th>\n",
       "      <td>CM029664.1</td>\n",
       "      <td>63230822</td>\n",
       "    </tr>\n",
       "    <tr>\n",
       "      <th>32</th>\n",
       "      <td>CM029641.1</td>\n",
       "      <td>62589432</td>\n",
       "    </tr>\n",
       "    <tr>\n",
       "      <th>...</th>\n",
       "      <td>...</td>\n",
       "      <td>...</td>\n",
       "    </tr>\n",
       "    <tr>\n",
       "      <th>272</th>\n",
       "      <td>JACBGG010000355.1</td>\n",
       "      <td>4338</td>\n",
       "    </tr>\n",
       "    <tr>\n",
       "      <th>153</th>\n",
       "      <td>JACBGG010000185.1</td>\n",
       "      <td>4168</td>\n",
       "    </tr>\n",
       "    <tr>\n",
       "      <th>177</th>\n",
       "      <td>JACBGG010000086.1</td>\n",
       "      <td>4145</td>\n",
       "    </tr>\n",
       "    <tr>\n",
       "      <th>351</th>\n",
       "      <td>JACBGG010000250.1</td>\n",
       "      <td>4127</td>\n",
       "    </tr>\n",
       "    <tr>\n",
       "      <th>334</th>\n",
       "      <td>JACBGG010000347.1</td>\n",
       "      <td>4015</td>\n",
       "    </tr>\n",
       "  </tbody>\n",
       "</table>\n",
       "<p>411 rows × 2 columns</p>\n",
       "</div>"
      ],
      "text/plain": [
       "         scaffold_name  scaffold_length\n",
       "54          CM029663.1         65826467\n",
       "56          CM029665.1         64776662\n",
       "57          CM029666.1         64602909\n",
       "55          CM029664.1         63230822\n",
       "32          CM029641.1         62589432\n",
       "..                 ...              ...\n",
       "272  JACBGG010000355.1             4338\n",
       "153  JACBGG010000185.1             4168\n",
       "177  JACBGG010000086.1             4145\n",
       "351  JACBGG010000250.1             4127\n",
       "334  JACBGG010000347.1             4015\n",
       "\n",
       "[411 rows x 2 columns]"
      ]
     },
     "metadata": {},
     "output_type": "display_data"
    }
   ],
   "source": [
    "scaff_table = scaff.scaffold_table.sort_values(by=\"scaffold_length\", ascending=False)\n",
    "display (scaff_table)\n",
    "\n",
    "# #use 400 scaffolds (\"radloci\")\n",
    "# scaff_toUse = scaff_table.index[:400].tolist()\n",
    "# print (scaff_toUse)"
   ]
  },
  {
   "cell_type": "code",
   "execution_count": 30,
   "id": "2e75aecb-889a-495d-97b9-7f7f229f1e75",
   "metadata": {},
   "outputs": [],
   "source": [
    "wex = ipa.window_extracter(data=SEQS)"
   ]
  },
  {
   "cell_type": "code",
   "execution_count": 32,
   "id": "bff39feb-bcc9-411e-af3e-3586334ea398",
   "metadata": {},
   "outputs": [
    {
     "name": "stdout",
     "output_type": "stream",
     "text": [
      "ingroup: 36 outgroup: 5\n"
     ]
    },
    {
     "data": {
      "text/plain": [
       "{'ingroup': ['MM_A1',\n",
       "  'MM_A2',\n",
       "  'MM_A3',\n",
       "  'MM_A4',\n",
       "  'MM_A5',\n",
       "  'MM_B1',\n",
       "  'MM_B2',\n",
       "  'MM_B3',\n",
       "  'MM_B4',\n",
       "  'MM_B5',\n",
       "  'MM_C1',\n",
       "  'MM_C2',\n",
       "  'MM_C3',\n",
       "  'MM_C4',\n",
       "  'MM_C8',\n",
       "  'MM_D1',\n",
       "  'MM_D2',\n",
       "  'MM_D3',\n",
       "  'MM_D4',\n",
       "  'MM_E1',\n",
       "  'MM_E2',\n",
       "  'MM_E3',\n",
       "  'MM_E4',\n",
       "  'MM_F1',\n",
       "  'MM_F2',\n",
       "  'MM_F3',\n",
       "  'MM_F4',\n",
       "  'MM_G1',\n",
       "  'MM_G2',\n",
       "  'MM_G3',\n",
       "  'MM_G4',\n",
       "  'MM_H1',\n",
       "  'MM_H2',\n",
       "  'MM_H3',\n",
       "  'MM_H4',\n",
       "  'MM_H7'],\n",
       " 'outgroup': ['MM_C5', 'MM_D5', 'MM_E5', 'MM_F5', 'MM_G5']}"
      ]
     },
     "execution_count": 32,
     "metadata": {},
     "output_type": "execute_result"
    }
   ],
   "source": [
    "# create imap with only otatea species and one guadua and one olmeca as outgroup\n",
    "names = pd.read_csv(\"nombres_especies_RAD.csv\", index_col=0, squeeze=True, usecols=[0,1])\n",
    "names = names.to_dict() # put them in dict form\n",
    "names[\"reference\"] = \"ref\"\n",
    "\n",
    "imap = {\"ingroup\": [], \"outgroup\":[]} \n",
    "for n in wex.allnames:\n",
    "    #include only otateas in ingroup\n",
    "    if \"O.\" in names[n]:\n",
    "        imap[\"ingroup\"].append(n)\n",
    "    #include only MM_A6 (G.longifolia) and MM_C5 (Ol.reflexa) as outgroups. Those were the samples with highest number of reads\n",
    "    # if \"G.longifolia\" in names[n] or \"Ol.reflexa\" in names[n]:\n",
    "    if \"Ol.\" in names[n]:\n",
    "        imap[\"outgroup\"].append(n)\n",
    "\n",
    "print(\"ingroup:\", len(imap[\"ingroup\"]), \"outgroup:\", len(imap[\"outgroup\"]))\n",
    "imap"
   ]
  },
  {
   "cell_type": "code",
   "execution_count": 49,
   "id": "4e5f1b4b-4ca2-472f-bcfb-516fd5fcdf98",
   "metadata": {},
   "outputs": [],
   "source": [
    "# define treeslider object and parameters\n",
    "ts = ipa.treeslider(\n",
    "    name=assembly,\n",
    "    data=SEQS, #include sequences\n",
    "    workdir=\"analysis-treeslider\",\n",
    "    inference_method=\"raxml\", #use raxml as software for tree individuals tree reconstruction\n",
    "    inference_args={\"N\": 100, \"T\": 2},\n",
    "    window_size=2000,\n",
    "    slide_size=2000,\n",
    "    minsnps=1,\n",
    "    mincov=0,\n",
    "    rmincov=0.5,\n",
    "    consensus_reduce=False,\n",
    "    # scaffold_idxs=list(scaff.scaffold_table[0:10000].index), #only select the first 10000 loci\n",
    "    imap=imap,\n",
    ")"
   ]
  },
  {
   "cell_type": "code",
   "execution_count": 50,
   "id": "40eacb57-d0ca-4ee0-8f42-8138a2cb7e60",
   "metadata": {},
   "outputs": [
    {
     "data": {
      "text/html": [
       "<div>\n",
       "<style scoped>\n",
       "    .dataframe tbody tr th:only-of-type {\n",
       "        vertical-align: middle;\n",
       "    }\n",
       "\n",
       "    .dataframe tbody tr th {\n",
       "        vertical-align: top;\n",
       "    }\n",
       "\n",
       "    .dataframe thead th {\n",
       "        text-align: right;\n",
       "    }\n",
       "</style>\n",
       "<table border=\"1\" class=\"dataframe\">\n",
       "  <thead>\n",
       "    <tr style=\"text-align: right;\">\n",
       "      <th></th>\n",
       "      <th>scaffold</th>\n",
       "      <th>start</th>\n",
       "      <th>end</th>\n",
       "      <th>sites</th>\n",
       "      <th>snps</th>\n",
       "      <th>samples</th>\n",
       "      <th>missing</th>\n",
       "      <th>tree</th>\n",
       "    </tr>\n",
       "  </thead>\n",
       "  <tbody>\n",
       "    <tr>\n",
       "      <th>0</th>\n",
       "      <td>0</td>\n",
       "      <td>0</td>\n",
       "      <td>2000</td>\n",
       "      <td>0</td>\n",
       "      <td>0</td>\n",
       "      <td>0</td>\n",
       "      <td>0.0</td>\n",
       "      <td>0</td>\n",
       "    </tr>\n",
       "    <tr>\n",
       "      <th>1</th>\n",
       "      <td>0</td>\n",
       "      <td>2000</td>\n",
       "      <td>4000</td>\n",
       "      <td>0</td>\n",
       "      <td>0</td>\n",
       "      <td>0</td>\n",
       "      <td>0.0</td>\n",
       "      <td>0</td>\n",
       "    </tr>\n",
       "    <tr>\n",
       "      <th>2</th>\n",
       "      <td>0</td>\n",
       "      <td>4000</td>\n",
       "      <td>6000</td>\n",
       "      <td>0</td>\n",
       "      <td>0</td>\n",
       "      <td>0</td>\n",
       "      <td>0.0</td>\n",
       "      <td>0</td>\n",
       "    </tr>\n",
       "    <tr>\n",
       "      <th>3</th>\n",
       "      <td>0</td>\n",
       "      <td>6000</td>\n",
       "      <td>8000</td>\n",
       "      <td>0</td>\n",
       "      <td>0</td>\n",
       "      <td>0</td>\n",
       "      <td>0.0</td>\n",
       "      <td>0</td>\n",
       "    </tr>\n",
       "    <tr>\n",
       "      <th>4</th>\n",
       "      <td>0</td>\n",
       "      <td>8000</td>\n",
       "      <td>10000</td>\n",
       "      <td>0</td>\n",
       "      <td>0</td>\n",
       "      <td>0</td>\n",
       "      <td>0.0</td>\n",
       "      <td>0</td>\n",
       "    </tr>\n",
       "    <tr>\n",
       "      <th>...</th>\n",
       "      <td>...</td>\n",
       "      <td>...</td>\n",
       "      <td>...</td>\n",
       "      <td>...</td>\n",
       "      <td>...</td>\n",
       "      <td>...</td>\n",
       "      <td>...</td>\n",
       "      <td>...</td>\n",
       "    </tr>\n",
       "    <tr>\n",
       "      <th>1374144</th>\n",
       "      <td>410</td>\n",
       "      <td>54000</td>\n",
       "      <td>56000</td>\n",
       "      <td>0</td>\n",
       "      <td>0</td>\n",
       "      <td>0</td>\n",
       "      <td>0.0</td>\n",
       "      <td>0</td>\n",
       "    </tr>\n",
       "    <tr>\n",
       "      <th>1374145</th>\n",
       "      <td>410</td>\n",
       "      <td>56000</td>\n",
       "      <td>58000</td>\n",
       "      <td>0</td>\n",
       "      <td>0</td>\n",
       "      <td>0</td>\n",
       "      <td>0.0</td>\n",
       "      <td>0</td>\n",
       "    </tr>\n",
       "    <tr>\n",
       "      <th>1374146</th>\n",
       "      <td>410</td>\n",
       "      <td>58000</td>\n",
       "      <td>60000</td>\n",
       "      <td>0</td>\n",
       "      <td>0</td>\n",
       "      <td>0</td>\n",
       "      <td>0.0</td>\n",
       "      <td>0</td>\n",
       "    </tr>\n",
       "    <tr>\n",
       "      <th>1374147</th>\n",
       "      <td>410</td>\n",
       "      <td>60000</td>\n",
       "      <td>62000</td>\n",
       "      <td>0</td>\n",
       "      <td>0</td>\n",
       "      <td>0</td>\n",
       "      <td>0.0</td>\n",
       "      <td>0</td>\n",
       "    </tr>\n",
       "    <tr>\n",
       "      <th>1374148</th>\n",
       "      <td>410</td>\n",
       "      <td>62000</td>\n",
       "      <td>64000</td>\n",
       "      <td>0</td>\n",
       "      <td>0</td>\n",
       "      <td>0</td>\n",
       "      <td>0.0</td>\n",
       "      <td>0</td>\n",
       "    </tr>\n",
       "  </tbody>\n",
       "</table>\n",
       "<p>1374149 rows × 8 columns</p>\n",
       "</div>"
      ],
      "text/plain": [
       "         scaffold  start    end  sites  snps  samples  missing  tree\n",
       "0               0      0   2000      0     0        0      0.0     0\n",
       "1               0   2000   4000      0     0        0      0.0     0\n",
       "2               0   4000   6000      0     0        0      0.0     0\n",
       "3               0   6000   8000      0     0        0      0.0     0\n",
       "4               0   8000  10000      0     0        0      0.0     0\n",
       "...           ...    ...    ...    ...   ...      ...      ...   ...\n",
       "1374144       410  54000  56000      0     0        0      0.0     0\n",
       "1374145       410  56000  58000      0     0        0      0.0     0\n",
       "1374146       410  58000  60000      0     0        0      0.0     0\n",
       "1374147       410  60000  62000      0     0        0      0.0     0\n",
       "1374148       410  62000  64000      0     0        0      0.0     0\n",
       "\n",
       "[1374149 rows x 8 columns]"
      ]
     },
     "execution_count": 50,
     "metadata": {},
     "output_type": "execute_result"
    }
   ],
   "source": [
    "ts.tree_table"
   ]
  },
  {
   "cell_type": "code",
   "execution_count": 51,
   "id": "f98f689b-d904-4888-ac00-2319dc61573a",
   "metadata": {},
   "outputs": [],
   "source": [
    "# set parallelization parameters\n",
    "ts.ipcluster['cores'] = 40\n",
    "ts.ipcluster['threads'] = 2"
   ]
  },
  {
   "cell_type": "code",
   "execution_count": 52,
   "id": "d4b183d6-07c7-4f6f-894c-e6563cea5c77",
   "metadata": {},
   "outputs": [
    {
     "name": "stdout",
     "output_type": "stream",
     "text": [
      "/home/camayal/miniconda3/envs/ipyrad/bin/raxmlHPC-PTHREADS-AVX2 -f a -T 2 -m GTRGAMMA -n ... -w ... -s ... -p 54321 -N 100 -x 12345\n"
     ]
    }
   ],
   "source": [
    "ts.show_inference_command()"
   ]
  },
  {
   "cell_type": "code",
   "execution_count": null,
   "id": "86e2ed31-8be4-4e94-9938-98afb6d0a8fb",
   "metadata": {},
   "outputs": [],
   "source": [
    "ts.run(auto=True, force=True)"
   ]
  },
  {
   "cell_type": "code",
   "execution_count": null,
   "id": "cf126b49-706e-44b2-a8f5-6dcc52623557",
   "metadata": {},
   "outputs": [],
   "source": [
    "ts.tree_table"
   ]
  },
  {
   "cell_type": "code",
   "execution_count": null,
   "id": "9d1c9e6e-b1e7-4481-bad3-5ae32b9a45ac",
   "metadata": {},
   "outputs": [],
   "source": [
    "ts.tree_table[ts.tree_table.tree.notna()]"
   ]
  },
  {
   "cell_type": "code",
   "execution_count": null,
   "id": "4f2023aa-7a1c-4408-92b4-a7727a975940",
   "metadata": {},
   "outputs": [],
   "source": []
  },
  {
   "cell_type": "code",
   "execution_count": null,
   "id": "47ccb3d3-e7c8-42e4-bb25-860846a13620",
   "metadata": {},
   "outputs": [],
   "source": []
  },
  {
   "cell_type": "code",
   "execution_count": null,
   "id": "9840dba6-1c9a-4ec5-b405-df34fd71aa56",
   "metadata": {},
   "outputs": [],
   "source": []
  },
  {
   "cell_type": "code",
   "execution_count": null,
   "id": "ba194e09-fe58-4792-a373-e14baa03d405",
   "metadata": {},
   "outputs": [],
   "source": []
  },
  {
   "cell_type": "code",
   "execution_count": null,
   "id": "45788077-23d2-4cdb-bac8-9a4964b49f30",
   "metadata": {},
   "outputs": [],
   "source": []
  },
  {
   "cell_type": "code",
   "execution_count": null,
   "id": "50a16f0e-6543-4be4-bef0-49bb86b4e91b",
   "metadata": {},
   "outputs": [],
   "source": []
  },
  {
   "cell_type": "code",
   "execution_count": 44,
   "id": "0e04dff7-fa9a-47c7-b366-1fb93e242c3d",
   "metadata": {},
   "outputs": [],
   "source": [
    "#reload tablet\n",
    "import pandas as pd\n",
    "name = \"otatea7_fullOlmeca\"\n",
    "table = pd.read_csv(f\"analysis-treeslider/{name}.tree_table.csv\", index_col=0)"
   ]
  },
  {
   "cell_type": "code",
   "execution_count": 45,
   "id": "6c4254ff-0575-497f-ad63-f49131583b91",
   "metadata": {},
   "outputs": [
    {
     "data": {
      "text/html": [
       "<div>\n",
       "<style scoped>\n",
       "    .dataframe tbody tr th:only-of-type {\n",
       "        vertical-align: middle;\n",
       "    }\n",
       "\n",
       "    .dataframe tbody tr th {\n",
       "        vertical-align: top;\n",
       "    }\n",
       "\n",
       "    .dataframe thead th {\n",
       "        text-align: right;\n",
       "    }\n",
       "</style>\n",
       "<table border=\"1\" class=\"dataframe\">\n",
       "  <thead>\n",
       "    <tr style=\"text-align: right;\">\n",
       "      <th></th>\n",
       "      <th>scaffold</th>\n",
       "      <th>start</th>\n",
       "      <th>end</th>\n",
       "      <th>sites</th>\n",
       "      <th>snps</th>\n",
       "      <th>samples</th>\n",
       "      <th>missing</th>\n",
       "      <th>tree</th>\n",
       "    </tr>\n",
       "  </thead>\n",
       "  <tbody>\n",
       "    <tr>\n",
       "      <th>0</th>\n",
       "      <td>0</td>\n",
       "      <td>0</td>\n",
       "      <td>20000</td>\n",
       "      <td>0</td>\n",
       "      <td>0</td>\n",
       "      <td>0</td>\n",
       "      <td>0.00</td>\n",
       "      <td>NaN</td>\n",
       "    </tr>\n",
       "    <tr>\n",
       "      <th>1</th>\n",
       "      <td>0</td>\n",
       "      <td>20000</td>\n",
       "      <td>40000</td>\n",
       "      <td>0</td>\n",
       "      <td>0</td>\n",
       "      <td>0</td>\n",
       "      <td>0.00</td>\n",
       "      <td>NaN</td>\n",
       "    </tr>\n",
       "    <tr>\n",
       "      <th>2</th>\n",
       "      <td>0</td>\n",
       "      <td>40000</td>\n",
       "      <td>60000</td>\n",
       "      <td>236</td>\n",
       "      <td>0</td>\n",
       "      <td>41</td>\n",
       "      <td>0.93</td>\n",
       "      <td>NaN</td>\n",
       "    </tr>\n",
       "    <tr>\n",
       "      <th>3</th>\n",
       "      <td>0</td>\n",
       "      <td>60000</td>\n",
       "      <td>80000</td>\n",
       "      <td>0</td>\n",
       "      <td>0</td>\n",
       "      <td>0</td>\n",
       "      <td>0.00</td>\n",
       "      <td>NaN</td>\n",
       "    </tr>\n",
       "    <tr>\n",
       "      <th>4</th>\n",
       "      <td>0</td>\n",
       "      <td>80000</td>\n",
       "      <td>100000</td>\n",
       "      <td>0</td>\n",
       "      <td>0</td>\n",
       "      <td>0</td>\n",
       "      <td>0.00</td>\n",
       "      <td>NaN</td>\n",
       "    </tr>\n",
       "  </tbody>\n",
       "</table>\n",
       "</div>"
      ],
      "text/plain": [
       "   scaffold  start     end  sites  snps  samples  missing tree\n",
       "0         0      0   20000      0     0        0     0.00  NaN\n",
       "1         0  20000   40000      0     0        0     0.00  NaN\n",
       "2         0  40000   60000    236     0       41     0.93  NaN\n",
       "3         0  60000   80000      0     0        0     0.00  NaN\n",
       "4         0  80000  100000      0     0        0     0.00  NaN"
      ]
     },
     "execution_count": 45,
     "metadata": {},
     "output_type": "execute_result"
    }
   ],
   "source": [
    "table.head()"
   ]
  },
  {
   "cell_type": "code",
   "execution_count": 46,
   "id": "ec4068f0-18d4-4523-a718-08ae064f2797",
   "metadata": {},
   "outputs": [
    {
     "name": "stdout",
     "output_type": "stream",
     "text": [
      "[astral.5.7.1.jar]\n",
      "inferred tree written to (/mnt/data0/camayal/GDRIVE/otherCAML/bambus/analysis-astral/astral_otatea7_fullOlmeca.tre)\n"
     ]
    }
   ],
   "source": [
    "#run astral with only trees that were reconsctructed \n",
    "astral = ipa.astral(\n",
    "    data=table[table.tree.notna()].tree.tolist(),\n",
    "    # data=table[table.snps > 300].tree.tolist(),\n",
    "    name=f'astral_{name}',\n",
    "    workdir='analysis-astral',\n",
    "    annotation=3\n",
    ")\n",
    "astral.run()"
   ]
  },
  {
   "cell_type": "code",
   "execution_count": 48,
   "id": "104e8555-4cad-41f4-912d-072caa5eac23",
   "metadata": {},
   "outputs": [
    {
     "data": {
      "text/html": [
       "<div class=\"toyplot\" id=\"t9adb22ced760453a8b549fdab8295778\" style=\"text-align:center\"><svg class=\"toyplot-canvas-Canvas\" height=\"738.0px\" id=\"tf1d7d4be45f1425da645daee4ebe3aa3\" preserveAspectRatio=\"xMidYMid meet\" style=\"background-color:transparent;border-color:#292724;border-style:none;border-width:1.0;fill:rgb(16.1%,15.3%,14.1%);fill-opacity:1.0;font-family:Helvetica;font-size:12px;opacity:1.0;stroke:rgb(16.1%,15.3%,14.1%);stroke-opacity:1.0;stroke-width:1.0\" viewBox=\"0 0 1000.0 738.0\" width=\"1000.0px\" xmlns=\"http://www.w3.org/2000/svg\" xmlns:toyplot=\"http://www.sandia.gov/toyplot\" xmlns:xlink=\"http://www.w3.org/1999/xlink\"><g class=\"toyplot-coordinates-Cartesian\" id=\"t5b7be53d6aab455fbe95ccf8c23dac2e\"><clipPath id=\"t07837e0ff3a54e2999ccca4a7387a22d\"><rect height=\"678.0\" width=\"940.0\" x=\"30.0\" y=\"30.0\"></rect></clipPath><g clip-path=\"url(#t07837e0ff3a54e2999ccca4a7387a22d)\"><g class=\"toytree-mark-Toytree\" id=\"tea41c93f85864c1b82dc44cd26ac469a\"><g class=\"toytree-Edges\" style=\"fill:none;stroke:rgb(14.9%,14.9%,14.9%);stroke-linecap:round;stroke-opacity:1;stroke-width:2\"><path d=\"M 50.0 447.4 L 50.0 105.6 L 96.0 105.6\" id=\"54,53\"></path><path d=\"M 50.0 447.4 L 50.0 256.7 L 81.6 256.7\" id=\"54,52\"></path><path d=\"M 50.0 447.4 L 50.0 392.0 L 122.7 392.0\" id=\"54,51\"></path><path d=\"M 50.0 447.4 L 50.0 458.5 L 122.9 458.5\" id=\"54,50\"></path><path d=\"M 50.0 447.4 L 50.0 560.8 L 154.7 560.8\" id=\"54,49\"></path><path d=\"M 50.0 447.4 L 50.0 622.2 L 132.6 622.2\" id=\"54,48\"></path><path d=\"M 96.0 105.6 L 96.0 85.1 L 169.8 85.1\" id=\"53,47\"></path><path d=\"M 81.6 256.7 L 81.6 207.9 L 138.3 207.9\" id=\"52,46\"></path><path d=\"M 81.6 256.7 L 81.6 238.6 L 227.9 238.6\" id=\"52,45\"></path><path d=\"M 81.6 256.7 L 81.6 284.6 L 140.6 284.6\" id=\"52,44\"></path><path d=\"M 122.9 458.5 L 122.9 438.0 L 180.0 438.0\" id=\"50,43\"></path><path d=\"M 122.9 458.5 L 122.9 479.0 L 165.2 479.0\" id=\"50,42\"></path><path d=\"M 165.2 479.0 L 165.2 499.4 L 346.1 499.4\" id=\"42,41\"></path><path d=\"M 50.0 447.4 L 50.0 62.1 L 479.0 62.1\" id=\"54,40\"></path><path d=\"M 169.8 85.1 L 169.8 77.5 L 598.8 77.5\" id=\"47,39\"></path><path d=\"M 169.8 85.1 L 169.8 92.8 L 598.8 92.8\" id=\"47,38\"></path><path d=\"M 96.0 105.6 L 96.0 108.2 L 525.0 108.2\" id=\"53,37\"></path><path d=\"M 96.0 105.6 L 96.0 123.5 L 525.0 123.5\" id=\"53,36\"></path><path d=\"M 50.0 447.4 L 50.0 138.8 L 479.0 138.8\" id=\"54,35\"></path><path d=\"M 81.6 256.7 L 81.6 154.2 L 510.6 154.2\" id=\"52,34\"></path><path d=\"M 81.6 256.7 L 81.6 169.5 L 510.6 169.5\" id=\"52,33\"></path><path d=\"M 81.6 256.7 L 81.6 184.9 L 510.6 184.9\" id=\"52,32\"></path><path d=\"M 138.3 207.9 L 138.3 200.2 L 567.2 200.2\" id=\"46,31\"></path><path d=\"M 138.3 207.9 L 138.3 215.6 L 567.2 215.6\" id=\"46,30\"></path><path d=\"M 227.9 238.6 L 227.9 230.9 L 656.9 230.9\" id=\"45,29\"></path><path d=\"M 227.9 238.6 L 227.9 246.2 L 656.9 246.2\" id=\"45,28\"></path><path d=\"M 81.6 256.7 L 81.6 261.6 L 510.6 261.6\" id=\"52,27\"></path><path d=\"M 140.6 284.6 L 140.6 276.9 L 569.6 276.9\" id=\"44,26\"></path><path d=\"M 140.6 284.6 L 140.6 292.3 L 569.6 292.3\" id=\"44,25\"></path><path d=\"M 81.6 256.7 L 81.6 307.6 L 510.6 307.6\" id=\"52,24\"></path><path d=\"M 81.6 256.7 L 81.6 323.0 L 510.6 323.0\" id=\"52,23\"></path><path d=\"M 81.6 256.7 L 81.6 338.3 L 510.6 338.3\" id=\"52,22\"></path><path d=\"M 81.6 256.7 L 81.6 353.7 L 510.6 353.7\" id=\"52,21\"></path><path d=\"M 50.0 447.4 L 50.0 369.0 L 479.0 369.0\" id=\"54,20\"></path><path d=\"M 122.7 392.0 L 122.7 384.3 L 551.6 384.3\" id=\"51,19\"></path><path d=\"M 122.7 392.0 L 122.7 399.7 L 551.6 399.7\" id=\"51,18\"></path><path d=\"M 50.0 447.4 L 50.0 415.0 L 479.0 415.0\" id=\"54,17\"></path><path d=\"M 180.0 438.0 L 180.0 430.4 L 609.0 430.4\" id=\"43,16\"></path><path d=\"M 180.0 438.0 L 180.0 445.7 L 609.0 445.7\" id=\"43,15\"></path><path d=\"M 165.2 479.0 L 165.2 461.1 L 594.2 461.1\" id=\"42,14\"></path><path d=\"M 165.2 479.0 L 165.2 476.4 L 594.2 476.4\" id=\"42,13\"></path><path d=\"M 346.1 499.4 L 346.1 491.8 L 775.1 491.8\" id=\"41,12\"></path><path d=\"M 346.1 499.4 L 346.1 507.1 L 775.1 507.1\" id=\"41,11\"></path><path d=\"M 50.0 447.4 L 50.0 522.4 L 479.0 522.4\" id=\"54,10\"></path><path d=\"M 50.0 447.4 L 50.0 537.8 L 479.0 537.8\" id=\"54,9\"></path><path d=\"M 154.7 560.8 L 154.7 553.1 L 583.7 553.1\" id=\"49,8\"></path><path d=\"M 154.7 560.8 L 154.7 568.5 L 583.7 568.5\" id=\"49,7\"></path><path d=\"M 50.0 447.4 L 50.0 583.8 L 479.0 583.8\" id=\"54,6\"></path><path d=\"M 50.0 447.4 L 50.0 599.2 L 479.0 599.2\" id=\"54,5\"></path><path d=\"M 132.6 622.2 L 132.6 614.5 L 561.6 614.5\" id=\"48,4\"></path><path d=\"M 132.6 622.2 L 132.6 629.8 L 561.6 629.8\" id=\"48,3\"></path><path d=\"M 50.0 447.4 L 50.0 645.2 L 479.0 645.2\" id=\"54,2\"></path><path d=\"M 50.0 447.4 L 50.0 660.5 L 479.0 660.5\" id=\"54,1\"></path><path d=\"M 50.0 447.4 L 50.0 675.9 L 479.0 675.9\" id=\"54,0\"></path></g><g class=\"toytree-Nodes\" style=\"fill:rgb(40%,76.1%,64.7%);fill-opacity:1.0;stroke:None;stroke-width:1\"><g id=\"node-0\" transform=\"translate(478.958,675.879)\"><circle r=\"0.0\"></circle></g><g id=\"node-1\" transform=\"translate(478.958,660.535)\"><circle r=\"0.0\"></circle></g><g id=\"node-2\" transform=\"translate(478.958,645.191)\"><circle r=\"0.0\"></circle></g><g id=\"node-3\" transform=\"translate(561.589,629.847)\"><circle r=\"0.0\"></circle></g><g id=\"node-4\" transform=\"translate(561.589,614.503)\"><circle r=\"0.0\"></circle></g><g id=\"node-5\" transform=\"translate(478.958,599.159)\"><circle r=\"0.0\"></circle></g><g id=\"node-6\" transform=\"translate(478.958,583.815)\"><circle r=\"0.0\"></circle></g><g id=\"node-7\" transform=\"translate(583.671,568.471)\"><circle r=\"0.0\"></circle></g><g id=\"node-8\" transform=\"translate(583.671,553.127)\"><circle r=\"0.0\"></circle></g><g id=\"node-9\" transform=\"translate(478.958,537.783)\"><circle r=\"0.0\"></circle></g><g id=\"node-10\" transform=\"translate(478.958,522.439)\"><circle r=\"0.0\"></circle></g><g id=\"node-11\" transform=\"translate(775.093,507.095)\"><circle r=\"0.0\"></circle></g><g id=\"node-12\" transform=\"translate(775.093,491.752)\"><circle r=\"0.0\"></circle></g><g id=\"node-13\" transform=\"translate(594.162,476.408)\"><circle r=\"0.0\"></circle></g><g id=\"node-14\" transform=\"translate(594.162,461.064)\"><circle r=\"0.0\"></circle></g><g id=\"node-15\" transform=\"translate(608.982,445.720)\"><circle r=\"0.0\"></circle></g><g id=\"node-16\" transform=\"translate(608.982,430.376)\"><circle r=\"0.0\"></circle></g><g id=\"node-17\" transform=\"translate(478.958,415.032)\"><circle r=\"0.0\"></circle></g><g id=\"node-18\" transform=\"translate(551.645,399.688)\"><circle r=\"0.0\"></circle></g><g id=\"node-19\" transform=\"translate(551.645,384.344)\"><circle r=\"0.0\"></circle></g><g id=\"node-20\" transform=\"translate(478.958,369.000)\"><circle r=\"0.0\"></circle></g><g id=\"node-21\" transform=\"translate(510.571,353.656)\"><circle r=\"0.0\"></circle></g><g id=\"node-22\" transform=\"translate(510.571,338.312)\"><circle r=\"0.0\"></circle></g><g id=\"node-23\" transform=\"translate(510.571,322.968)\"><circle r=\"0.0\"></circle></g><g id=\"node-24\" transform=\"translate(510.571,307.624)\"><circle r=\"0.0\"></circle></g><g id=\"node-25\" transform=\"translate(569.591,292.280)\"><circle r=\"0.0\"></circle></g><g id=\"node-26\" transform=\"translate(569.591,276.936)\"><circle r=\"0.0\"></circle></g><g id=\"node-27\" transform=\"translate(510.571,261.592)\"><circle r=\"0.0\"></circle></g><g id=\"node-28\" transform=\"translate(656.870,246.248)\"><circle r=\"0.0\"></circle></g><g id=\"node-29\" transform=\"translate(656.870,230.905)\"><circle r=\"0.0\"></circle></g><g id=\"node-30\" transform=\"translate(567.214,215.561)\"><circle r=\"0.0\"></circle></g><g id=\"node-31\" transform=\"translate(567.214,200.217)\"><circle r=\"0.0\"></circle></g><g id=\"node-32\" transform=\"translate(510.571,184.873)\"><circle r=\"0.0\"></circle></g><g id=\"node-33\" transform=\"translate(510.571,169.529)\"><circle r=\"0.0\"></circle></g><g id=\"node-34\" transform=\"translate(510.571,154.185)\"><circle r=\"0.0\"></circle></g><g id=\"node-35\" transform=\"translate(478.958,138.841)\"><circle r=\"0.0\"></circle></g><g id=\"node-36\" transform=\"translate(524.994,123.497)\"><circle r=\"0.0\"></circle></g><g id=\"node-37\" transform=\"translate(524.994,108.153)\"><circle r=\"0.0\"></circle></g><g id=\"node-38\" transform=\"translate(598.767,92.809)\"><circle r=\"0.0\"></circle></g><g id=\"node-39\" transform=\"translate(598.767,77.465)\"><circle r=\"0.0\"></circle></g><g id=\"node-40\" transform=\"translate(478.958,62.121)\"><circle r=\"0.0\"></circle></g><g id=\"node-41\" transform=\"translate(346.135,499.423)\"><circle r=\"7.5\"></circle></g><g id=\"node-42\" transform=\"translate(165.204,478.965)\"><circle r=\"7.5\"></circle></g><g id=\"node-43\" transform=\"translate(180.024,438.048)\"><circle r=\"7.5\"></circle></g><g id=\"node-44\" transform=\"translate(140.633,284.608)\"><circle r=\"7.5\"></circle></g><g id=\"node-45\" transform=\"translate(227.912,238.577)\"><circle r=\"7.5\"></circle></g><g id=\"node-46\" transform=\"translate(138.256,207.889)\"><circle r=\"7.5\"></circle></g><g id=\"node-47\" transform=\"translate(169.809,85.137)\"><circle r=\"7.5\"></circle></g><g id=\"node-48\" transform=\"translate(132.631,622.175)\"><circle r=\"7.5\"></circle></g><g id=\"node-49\" transform=\"translate(154.713,560.799)\"><circle r=\"7.5\"></circle></g><g id=\"node-50\" transform=\"translate(122.880,458.506)\"><circle r=\"7.5\"></circle></g><g id=\"node-51\" transform=\"translate(122.687,392.016)\"><circle r=\"7.5\"></circle></g><g id=\"node-52\" transform=\"translate(81.613,256.710)\"><circle r=\"7.5\"></circle></g><g id=\"node-53\" transform=\"translate(96.036,105.596)\"><circle r=\"7.5\"></circle></g><g id=\"node-54\" transform=\"translate(50.000,447.388)\"><circle r=\"0.0\"></circle></g></g><g class=\"toytree-NodeLabels\" style=\"fill:rgb(14.9%,14.9%,14.9%);fill-opacity:1.0;font-size:9px;stroke:none\"><g transform=\"translate(337.38,501.72)\"><text>0.92</text></g><g transform=\"translate(156.45,481.26)\"><text>0.54</text></g><g transform=\"translate(171.27,440.35)\"><text>0.57</text></g><g transform=\"translate(131.88,286.91)\"><text>0.61</text></g><g transform=\"translate(219.15,240.88)\"><text>0.85</text></g><g transform=\"translate(129.50,210.19)\"><text>0.58</text></g><g transform=\"translate(161.05,87.44)\"><text>0.67</text></g><g transform=\"translate(123.87,624.47)\"><text>0.69</text></g><g transform=\"translate(145.96,563.10)\"><text>0.77</text></g><g transform=\"translate(114.12,460.81)\"><text>0.66</text></g><g transform=\"translate(113.93,394.32)\"><text>0.66</text></g><g transform=\"translate(75.36,259.01)\"><text>0.5</text></g><g transform=\"translate(87.28,107.90)\"><text>0.51</text></g></g><g class=\"toytree-TipLabels\" style=\"fill:rgb(14.9%,14.9%,14.9%);fill-opacity:1.0;font-family:helvetica;font-size:11px;font-weight:normal;stroke:none;white-space:pre\"><g transform=\"translate(478.96,675.88)rotate(0)\"><text style=\"\" x=\"15.00\" y=\"2.81\">O.nayeeri_E4</text></g><g transform=\"translate(478.96,660.53)rotate(0)\"><text style=\"\" x=\"15.00\" y=\"2.81\">O.carrilloi_F4</text></g><g transform=\"translate(478.96,645.19)rotate(0)\"><text style=\"\" x=\"15.00\" y=\"2.81\">O.acuminata_CG_Jal_G1</text></g><g transform=\"translate(561.59,629.85)rotate(0)\"><text style=\"\" x=\"15.00\" y=\"2.81\">O.acuminata_Ver1_A1</text></g><g transform=\"translate(561.59,614.50)rotate(0)\"><text style=\"\" x=\"15.00\" y=\"2.81\">O.ramirezii_C8</text></g><g transform=\"translate(478.96,599.16)rotate(0)\"><text style=\"\" x=\"15.00\" y=\"2.81\">O.acuminata_Mich_Luz_C2</text></g><g transform=\"translate(478.96,583.82)rotate(0)\"><text style=\"\" x=\"15.00\" y=\"2.81\">O.acuminata_Mich_A2</text></g><g transform=\"translate(583.67,568.47)rotate(0)\"><text style=\"\" x=\"15.00\" y=\"2.81\">O.acuminata_Oax_H7</text></g><g transform=\"translate(583.67,553.13)rotate(0)\"><text style=\"\" x=\"15.00\" y=\"2.81\">O.acuminata_SG_Jal1_H2</text></g><g transform=\"translate(478.96,537.78)rotate(0)\"><text style=\"\" x=\"15.00\" y=\"2.81\">O.acuminata_SG_Jal2_A3</text></g><g transform=\"translate(478.96,522.44)rotate(0)\"><text style=\"\" x=\"15.00\" y=\"2.81\">O.nayeeri_478_A5</text></g><g transform=\"translate(775.09,507.10)rotate(0)\"><text style=\"\" x=\"15.00\" y=\"2.81\">O.acuminata_Ags2_E2</text></g><g transform=\"translate(775.09,491.75)rotate(0)\"><text style=\"\" x=\"15.00\" y=\"2.81\">O.acuminata_Ags1_D2</text></g><g transform=\"translate(594.16,476.41)rotate(0)\"><text style=\"\" x=\"15.00\" y=\"2.81\">O.acuminata_Zac2_G2</text></g><g transform=\"translate(594.16,461.06)rotate(0)\"><text style=\"\" x=\"15.00\" y=\"2.81\">O.acuminata_Zac1_F2</text></g><g transform=\"translate(608.98,445.72)rotate(0)\"><text style=\"\" x=\"15.00\" y=\"2.81\">O.acuminata_Seb_Jal_B3</text></g><g transform=\"translate(608.98,430.38)rotate(0)\"><text style=\"\" x=\"15.00\" y=\"2.81\">O.acuminata_Gro_B2</text></g><g transform=\"translate(478.96,415.03)rotate(0)\"><text style=\"\" x=\"15.00\" y=\"2.81\">O.acuminata_Ver2_B1</text></g><g transform=\"translate(551.64,399.69)rotate(0)\"><text style=\"\" x=\"15.00\" y=\"2.81\">O.victoriae_Mich2_D4</text></g><g transform=\"translate(551.64,384.34)rotate(0)\"><text style=\"\" x=\"15.00\" y=\"2.81\">O.victoriae_Mich1_C4</text></g><g transform=\"translate(478.96,369.00)rotate(0)\"><text style=\"\" x=\"15.00\" y=\"2.81\">O.reynosoana_H4</text></g><g transform=\"translate(510.57,353.66)rotate(0)\"><text style=\"\" x=\"15.00\" y=\"2.81\">O.acuminata_PV_Jal_C3</text></g><g transform=\"translate(510.57,338.31)rotate(0)\"><text style=\"\" x=\"15.00\" y=\"2.81\">O.acuminata_Teq_Jal_E1</text></g><g transform=\"translate(510.57,322.97)rotate(0)\"><text style=\"\" x=\"15.00\" y=\"2.81\">O. odam_D3</text></g><g transform=\"translate(510.57,307.62)rotate(0)\"><text style=\"\" x=\"15.00\" y=\"2.81\">O.acuminata_Colima_F1</text></g><g transform=\"translate(569.59,292.28)rotate(0)\"><text style=\"\" x=\"15.00\" y=\"2.81\">O.fimbriata_F3</text></g><g transform=\"translate(569.59,276.94)rotate(0)\"><text style=\"\" x=\"15.00\" y=\"2.81\">O.rezdowskiourm_E3</text></g><g transform=\"translate(510.57,261.59)rotate(0)\"><text style=\"\" x=\"15.00\" y=\"2.81\">O.transvolcanica_B5</text></g><g transform=\"translate(656.87,246.25)rotate(0)\"><text style=\"\" x=\"15.00\" y=\"2.81\">O.victoriae2_B4</text></g><g transform=\"translate(656.87,230.90)rotate(0)\"><text style=\"\" x=\"15.00\" y=\"2.81\">O.victoriae1_A4</text></g><g transform=\"translate(567.21,215.56)rotate(0)\"><text style=\"\" x=\"15.00\" y=\"2.81\">O.acuminata_Oax1_C1</text></g><g transform=\"translate(567.21,200.22)rotate(0)\"><text style=\"\" x=\"15.00\" y=\"2.81\">O.acuminata_Oax2_D1</text></g><g transform=\"translate(510.57,184.87)rotate(0)\"><text style=\"\" x=\"15.00\" y=\"2.81\">O.ximenae_Oax2_H3</text></g><g transform=\"translate(510.57,169.53)rotate(0)\"><text style=\"\" x=\"15.00\" y=\"2.81\">O.glauca_G4</text></g><g transform=\"translate(510.57,154.18)rotate(0)\"><text style=\"\" x=\"15.00\" y=\"2.81\">O.ximenae_Oax1_G3</text></g><g transform=\"translate(478.96,138.84)rotate(0)\"><text style=\"\" x=\"15.00\" y=\"2.81\">O.acuminata_SLP_H1</text></g><g transform=\"translate(524.99,123.50)rotate(0)\"><text style=\"\" x=\"15.00\" y=\"2.81\">Ol.clarkiae_D5</text></g><g transform=\"translate(524.99,108.15)rotate(0)\"><text style=\"\" x=\"15.00\" y=\"2.81\">Ol.fulgor_G5</text></g><g transform=\"translate(598.77,92.81)rotate(0)\"><text style=\"\" x=\"15.00\" y=\"2.81\">Ol.reflexa_C5</text></g><g transform=\"translate(598.77,77.47)rotate(0)\"><text style=\"\" x=\"15.00\" y=\"2.81\">Ol.zapoptecorum_F5</text></g><g transform=\"translate(478.96,62.12)rotate(0)\"><text style=\"\" x=\"15.00\" y=\"2.81\">Ol.recta_E5</text></g></g></g></g></g></svg><div class=\"toyplot-behavior\"><script>(function()\n",
       "{\n",
       "var modules={};\n",
       "})();</script></div></div>"
      ]
     },
     "metadata": {},
     "output_type": "display_data"
    }
   ],
   "source": [
    "import toytree\n",
    "import pandas\n",
    "\n",
    "tree = toytree.tree(\"/mnt/data0/camayal/GDRIVE/otherCAML/bambus/analysis-astral/astral_otatea7_fullOlmeca.tre\")\n",
    "\n",
    "#import real names as dict\n",
    "names = pandas.read_csv(\"nombres_especies_RAD.csv\", index_col=0, squeeze=True, usecols=[0,1])\n",
    "names = names.to_dict() # put them in dict form\n",
    "names[\"reference\"] = \"ref\"\n",
    "\n",
    "\n",
    "# new_tips = [f\"{names[tip]}_{tip[3:]}\" for tip in tree.get_tip_labels()]\n",
    "\n",
    "# set dict with new tips (real name and code)\n",
    "new_tips = {tip:f\"{names[tip]}_{tip[3:]}\" for tip in tree.get_tip_labels()}\n",
    "\n",
    "# alter the tree itself to mantain new names\n",
    "tree = tree.set_node_values(feature=\"name\", values=new_tips)\n",
    "\n",
    "# root tree in Guadua\n",
    "tree = tree.root(wildcard=\"Ol.\")\n",
    "\n",
    "# collapse low support\n",
    "tree = tree.collapse_nodes(min_support=0.5)\n",
    "\n",
    "# set colors for very bad samples (few reads) AFTER ROOTING\n",
    "# new_colors = [\"red\" if tip in [f\"{names[i]}_{i[3:]}\" for i in bad_samples] else \"black\" for tip in tree.get_tip_labels()]\n",
    "\n",
    "c,a,m = tree.draw(width=1000, \n",
    "                  node_labels=tree.get_node_values(\"support\"), \n",
    "                  node_sizes=15,\n",
    "                  # tip_labels_colors=new_colors\n",
    "                 )"
   ]
  },
  {
   "cell_type": "markdown",
   "id": "786c6bdf-1a37-4659-8246-ef61734a47ff",
   "metadata": {},
   "source": [
    "## Distribution of loci in Otatea1\n",
    "\n",
    "This run has been difficult because apparently, none of the radloci is shared by all samples in the assembly. I am here doublechecking it by counting the number of samples per loci in the loci file.\n"
   ]
  },
  {
   "cell_type": "code",
   "execution_count": null,
   "id": "fd68ff15-7a57-47ca-92b6-fedf6e58747b",
   "metadata": {},
   "outputs": [],
   "source": [
    "with open(\"./otatea1_outfiles/otatea1.loci\", \"r\") as file:\n",
    "    lines = file.readlines()\n",
    "    freqs = []\n",
    "    count = 0\n",
    "    for line in lines:\n",
    "        if line.startswith(\"//\"):\n",
    "            #get final count of a given loci\n",
    "            freqs.append(count)\n",
    "            count = 0\n",
    "        else:\n",
    "            #add counter\n",
    "            count += 1"
   ]
  },
  {
   "cell_type": "code",
   "execution_count": null,
   "id": "d5bb3032-6ffe-484d-af20-ff7b9bfa12f2",
   "metadata": {},
   "outputs": [
    {
     "data": {
      "image/png": "[encoded data removed]",
      "text/plain": [
       "<Figure size 1152x432 with 1 Axes>"
      ]
     },
     "metadata": {
      "needs_background": "light"
     },
     "output_type": "display_data"
    }
   ],
   "source": [
    "import matplotlib.pyplot as plt\n",
    "import numpy as np\n",
    "\n",
    "fig, ax = plt.subplots(figsize=(16, 6))\n",
    "ax.hist(freqs, density=False, bins=np.arange(40)-0.5)\n",
    "\n",
    "\n",
    "\n",
    "for rect in ax.patches:\n",
    "    height = rect.get_height()\n",
    "    ax.annotate(f'{int(height)}', xy=(rect.get_x()+rect.get_width()/2, height), \n",
    "                xytext=(0, 5), textcoords='offset points', ha='center', va='bottom', rotation=90) \n",
    "\n",
    "\n",
    "ax.set_xticks(range(39))\n",
    "\n",
    "ax.set_xlabel(\"N.samples\")\n",
    "ax.set_ylabel(\"N. radloci\")\n",
    "\n",
    "ax.spines['right'].set_visible(False)\n",
    "ax.spines['top'].set_visible(False)\n",
    "\n",
    "# plt.tight_layout()\n",
    "plt.show()\n"
   ]
  },
  {
   "cell_type": "markdown",
   "id": "3c4a06bd-e21e-4751-8d05-a2e914ef0a40",
   "metadata": {},
   "source": [
    "## Distribution of loci in Otatea7\n",
    "\n",
    "Here can see that at least 31 loci are shared with all samples\n"
   ]
  },
  {
   "cell_type": "code",
   "execution_count": 72,
   "id": "c10b24e0-7531-4615-9147-d93e4f84adf7",
   "metadata": {},
   "outputs": [],
   "source": [
    "with open(\"./otatea7_outfiles/otatea7.loci\", \"r\") as file:\n",
    "    lines = file.readlines()\n",
    "    freqs = []\n",
    "    count = 0\n",
    "    for line in lines:\n",
    "        if line.startswith(\"//\"):\n",
    "            #get final count of a given loci\n",
    "            freqs.append(count)\n",
    "            count = 0\n",
    "        else:\n",
    "            #add counter\n",
    "            count += 1"
   ]
  },
  {
   "cell_type": "code",
   "execution_count": 73,
   "id": "73163c1d-6e24-48fd-874a-73252d525f2f",
   "metadata": {},
   "outputs": [
    {
     "data": {
      "image/png": "[encoded data removed]",
      "text/plain": [
       "<Figure size 1152x432 with 1 Axes>"
      ]
     },
     "metadata": {
      "needs_background": "light"
     },
     "output_type": "display_data"
    }
   ],
   "source": [
    "import matplotlib.pyplot as plt\n",
    "import numpy as np\n",
    "\n",
    "fig, ax = plt.subplots(figsize=(16, 6))\n",
    "ax.hist(freqs, density=False, bins=np.arange(40)-0.5)\n",
    "\n",
    "\n",
    "\n",
    "for rect in ax.patches:\n",
    "    height = rect.get_height()\n",
    "    ax.annotate(f'{int(height)}', xy=(rect.get_x()+rect.get_width()/2, height), \n",
    "                xytext=(0, 5), textcoords='offset points', ha='center', va='bottom', rotation=90) \n",
    "\n",
    "\n",
    "ax.set_xticks(range(39))\n",
    "\n",
    "ax.set_xlabel(\"N.samples\")\n",
    "ax.set_ylabel(\"N. radloci\")\n",
    "\n",
    "ax.spines['right'].set_visible(False)\n",
    "ax.spines['top'].set_visible(False)\n",
    "\n",
    "# plt.tight_layout()\n",
    "plt.show()\n"
   ]
  },
  {
   "cell_type": "code",
   "execution_count": null,
   "id": "f9c4d1e3-01a2-4e2e-8656-b8cbbb563dfd",
   "metadata": {},
   "outputs": [],
   "source": []
  }
 ],
 "metadata": {
  "kernelspec": {
   "display_name": "Python 3 (ipykernel)",
   "language": "python",
   "name": "python3"
  },
  "language_info": {
   "codemirror_mode": {
    "name": "ipython",
    "version": 3
   },
   "file_extension": ".py",
   "mimetype": "text/x-python",
   "name": "python",
   "nbconvert_exporter": "python",
   "pygments_lexer": "ipython3",
   "version": "3.7.12"
  }
 },
 "nbformat": 4,
 "nbformat_minor": 5
}
