{
 "cells": [
  {
   "cell_type": "markdown",
   "id": "ddc83eec-83cd-483a-a54a-79cefb21210d",
   "metadata": {},
   "source": [
    "# Otatea (only) trees\n"
   ]
  },
  {
   "cell_type": "markdown",
   "id": "46728fac-1f16-482f-b611-3b1395b0daa0",
   "metadata": {},
   "source": [
    "## Otatea 1\n",
    "\n",
    "\n",
    "In this notebook, I reduced the outgroup only to 2 samples. I will branch bambus1 with min_sample_locus=2 (further filtering will be done with window extacter)\n",
    "\n",
    "The command used is:\n",
    "```bash\n",
    "ipyrad -p params-bambus1.txt -b otatea1 MM_A1 MM_A2 MM_A3 MM_A4 MM_A5 MM_B1 MM_B2 MM_B3 MM_B4 MM_B5 MM_C1 MM_C2 MM_C3 MM_C4 MM_C8 MM_D1 MM_D2 MM_D3 MM_D4 MM_E1 MM_E2 MM_E3 MM_E4 MM_F1 MM_F2 MM_F3 MM_F4 MM_G1 MM_G2 MM_G3 MM_G4 MM_H1 MM_H2 MM_H3 MM_H4 MM_H7 MM_A6 MM_C5\n",
    "```"
   ]
  },
  {
   "cell_type": "code",
   "execution_count": 37,
   "id": "fe59da59-36bb-47f7-9b42-ad093e447d31",
   "metadata": {},
   "outputs": [],
   "source": [
    "import ipyrad.analysis as ipa"
   ]
  },
  {
   "cell_type": "code",
   "execution_count": 38,
   "id": "6f2405b2-688a-47fe-8426-c8e0800fdec4",
   "metadata": {},
   "outputs": [
    {
     "name": "stdout",
     "output_type": "stream",
     "text": [
      "ERROR! Session/line number was not unique in database. History logging moved to new session 32\n"
     ]
    }
   ],
   "source": [
    "# using winddow extracter to filter bad samples\n",
    "\n",
    "# path for hdf5\n",
    "SEQS = \"./otatea1_outfiles/otatea1.seqs.hdf5\""
   ]
  },
  {
   "cell_type": "code",
   "execution_count": 39,
   "id": "212ba464-8021-4197-8b62-bb7ebb282b14",
   "metadata": {},
   "outputs": [],
   "source": [
    "# ##solving bytes problems in hdf5\n",
    "# # load h5py module\n",
    "# import h5py\n",
    "# import numpy as np\n",
    "\n",
    "\n",
    "# #iterate over all names and change them to bytes\n",
    "# with h5py.File(SEQS, \"a\") as io5:\n",
    "#     names = io5[\"phymap\"].attrs[\"phynames\"]\n",
    "#     del io5[\"phymap\"].attrs[\"phynames\"]\n",
    "#     io5[\"phymap\"].attrs[\"phynames\"] = np.asarray([str.encode(i) for i in names], dtype=bytes)"
   ]
  },
  {
   "cell_type": "code",
   "execution_count": 40,
   "id": "c8ac2a32-d9fe-4fd3-b1a1-52016444bca6",
   "metadata": {},
   "outputs": [],
   "source": [
    "# check the number of loci to be sure include all in the analysis.\n",
    "radloci = ipa.window_extracter(SEQS)\n",
    "n_radloci = radloci.scaffold_table.shape[0]\n",
    "\n",
    "loci_toUse = radloci.scaffold_table.index[:-1].tolist() #all loci"
   ]
  },
  {
   "cell_type": "code",
   "execution_count": null,
   "id": "a47311a3-9cba-4452-8b86-d332bc2864f4",
   "metadata": {},
   "outputs": [],
   "source": [
    "wex = ipa.window_extracter(data=SEQS,\n",
    "                           scaffold_idxs=loci_toUse,\n",
    "                           # exclude=bad_samples, #maintaining all samples\n",
    "                           name=\"otatea1\",\n",
    "                           mincov=2,\n",
    "                           # rmincov=0.1,\n",
    "                          )"
   ]
  },
  {
   "cell_type": "code",
   "execution_count": null,
   "id": "94a1fdc9-151e-4f13-81a8-3a1ae19cb1f4",
   "metadata": {},
   "outputs": [],
   "source": [
    "wex.stats"
   ]
  },
  {
   "cell_type": "code",
   "execution_count": null,
   "id": "668deda9-d8a4-4212-9225-59938ac84417",
   "metadata": {},
   "outputs": [],
   "source": [
    "wex.run(force=True)"
   ]
  },
  {
   "cell_type": "code",
   "execution_count": null,
   "id": "3caff2ef-50ae-4799-9245-da97133e78e5",
   "metadata": {},
   "outputs": [],
   "source": [
    "rax = ipa.raxml(wex.outfile, name=wex.name, T=40, N=100, m=\"GTRCAT\")\n",
    "print(rax.command)"
   ]
  },
  {
   "cell_type": "code",
   "execution_count": null,
   "id": "28176de8-d55f-48d0-b6d7-a0b034747d1b",
   "metadata": {},
   "outputs": [],
   "source": [
    "rax.run(force=True)"
   ]
  },
  {
   "cell_type": "code",
   "execution_count": 76,
   "id": "2eba1be0-3346-4088-846f-20a930951622",
   "metadata": {},
   "outputs": [
    {
     "data": {
      "text/plain": [
       "bestTree                   /mnt/data0/camayal/GDRIVE/otherCAML/bambus/analysis-raxml/RAxML_bestTree.otatea1\n",
       "bipartitions               /mnt/data0/camayal/GDRIVE/otherCAML/bambus/analysis-raxml/RAxML_bipartitions.otatea1\n",
       "bipartitionsBranchLabels   /mnt/data0/camayal/GDRIVE/otherCAML/bambus/analysis-raxml/RAxML_bipartitionsBranchLabels.otatea1\n",
       "bootstrap                  /mnt/data0/camayal/GDRIVE/otherCAML/bambus/analysis-raxml/RAxML_bootstrap.otatea1\n",
       "info                       /mnt/data0/camayal/GDRIVE/otherCAML/bambus/analysis-raxml/RAxML_info.otatea1"
      ]
     },
     "execution_count": 76,
     "metadata": {},
     "output_type": "execute_result"
    }
   ],
   "source": [
    "rax.trees"
   ]
  },
  {
   "cell_type": "code",
   "execution_count": 77,
   "id": "d244886a-d2f2-4fcb-b19c-a57f907aea71",
   "metadata": {},
   "outputs": [],
   "source": [
    "import toytree\n",
    "import pandas"
   ]
  },
  {
   "cell_type": "code",
   "execution_count": 78,
   "id": "c54bfaaa-8f42-4224-9107-c8001f60b1d7",
   "metadata": {},
   "outputs": [
    {
     "data": {
      "text/html": [
       "<div class=\"toyplot\" id=\"t17866f4b82df42cb8f89f9d3105d4369\" style=\"text-align:center\"><svg class=\"toyplot-canvas-Canvas\" height=\"684.0px\" id=\"t6348626eb05f4911a0f5c4922a997a34\" preserveAspectRatio=\"xMidYMid meet\" style=\"background-color:transparent;border-color:#292724;border-style:none;border-width:1.0;fill:rgb(16.1%,15.3%,14.1%);fill-opacity:1.0;font-family:Helvetica;font-size:12px;opacity:1.0;stroke:rgb(16.1%,15.3%,14.1%);stroke-opacity:1.0;stroke-width:1.0\" viewBox=\"0 0 1000.0 684.0\" width=\"1000.0px\" xmlns=\"http://www.w3.org/2000/svg\" xmlns:toyplot=\"http://www.sandia.gov/toyplot\" xmlns:xlink=\"http://www.w3.org/1999/xlink\"><g class=\"toyplot-coordinates-Cartesian\" id=\"t9e471eb1836c42e1b4fb8c16e7eb9e18\"><clipPath id=\"t2e4232e319cb43d0b065e367e1d06958\"><rect height=\"624.0\" width=\"940.0\" x=\"30.0\" y=\"30.0\"></rect></clipPath><g clip-path=\"url(#t2e4232e319cb43d0b065e367e1d06958)\"><g class=\"toytree-mark-Toytree\" id=\"t6e9dff444e004bb5bc2361c73c42d0a4\"><g class=\"toytree-Edges\" style=\"fill:none;stroke:rgb(14.9%,14.9%,14.9%);stroke-linecap:round;stroke-opacity:1;stroke-width:2\"><path d=\"M 50.0 175.6 L 50.0 289.2 L 146.6 289.2\" id=\"69,68\"></path><path d=\"M 146.6 289.2 L 146.6 115.0 L 219.9 115.0\" id=\"68,67\"></path><path d=\"M 146.6 289.2 L 146.6 245.1 L 235.2 245.1\" id=\"68,66\"></path><path d=\"M 146.6 289.2 L 146.6 404.9 L 244.1 404.9\" id=\"68,65\"></path><path d=\"M 146.6 289.2 L 146.6 514.1 L 156.0 514.1\" id=\"68,64\"></path><path d=\"M 146.6 289.2 L 146.6 575.6 L 207.6 575.6\" id=\"68,63\"></path><path d=\"M 235.2 245.1 L 235.2 190.7 L 298.7 190.7\" id=\"66,62\"></path><path d=\"M 235.2 245.1 L 235.2 299.4 L 287.0 299.4\" id=\"66,61\"></path><path d=\"M 244.1 404.9 L 244.1 429.9 L 245.2 429.9\" id=\"65,60\"></path><path d=\"M 156.0 514.1 L 156.0 527.4 L 187.6 527.4\" id=\"64,59\"></path><path d=\"M 207.6 575.6 L 207.6 589.8 L 227.9 589.8\" id=\"63,58\"></path><path d=\"M 298.7 190.7 L 298.7 160.4 L 323.8 160.4\" id=\"62,57\"></path><path d=\"M 298.7 190.7 L 298.7 221.0 L 301.3 221.0\" id=\"62,56\"></path><path d=\"M 287.0 299.4 L 287.0 270.1 L 339.6 270.1\" id=\"61,55\"></path><path d=\"M 287.0 299.4 L 287.0 328.8 L 297.6 328.8\" id=\"61,54\"></path><path d=\"M 245.2 429.9 L 245.2 406.3 L 289.8 406.3\" id=\"60,53\"></path><path d=\"M 245.2 429.9 L 245.2 453.6 L 299.0 453.6\" id=\"60,52\"></path><path d=\"M 187.6 527.4 L 187.6 538.7 L 248.1 538.7\" id=\"59,51\"></path><path d=\"M 227.9 589.8 L 227.9 603.0 L 310.1 603.0\" id=\"58,50\"></path><path d=\"M 323.8 160.4 L 323.8 145.3 L 416.9 145.3\" id=\"57,49\"></path><path d=\"M 323.8 160.4 L 323.8 175.6 L 333.8 175.6\" id=\"57,48\"></path><path d=\"M 301.3 221.0 L 301.3 205.8 L 354.2 205.8\" id=\"56,47\"></path><path d=\"M 301.3 221.0 L 301.3 236.1 L 433.3 236.1\" id=\"56,46\"></path><path d=\"M 339.6 270.1 L 339.6 281.5 L 394.6 281.5\" id=\"55,45\"></path><path d=\"M 297.6 328.8 L 297.6 311.7 L 361.3 311.7\" id=\"54,44\"></path><path d=\"M 297.6 328.8 L 297.6 345.8 L 356.3 345.8\" id=\"54,43\"></path><path d=\"M 289.8 406.3 L 289.8 417.7 L 357.0 417.7\" id=\"53,42\"></path><path d=\"M 299.0 453.6 L 299.0 466.8 L 327.5 466.8\" id=\"52,41\"></path><path d=\"M 310.1 603.0 L 310.1 614.4 L 417.4 614.4\" id=\"50,40\"></path><path d=\"M 356.3 345.8 L 356.3 357.1 L 368.7 357.1\" id=\"43,39\"></path><path d=\"M 327.5 466.8 L 327.5 478.2 L 339.4 478.2\" id=\"41,38\"></path><path d=\"M 50.0 175.6 L 50.0 62.1 L 146.6 62.1\" id=\"69,37\"></path><path d=\"M 146.6 289.2 L 146.6 77.2 L 164.1 77.2\" id=\"68,36\"></path><path d=\"M 146.6 289.2 L 146.6 92.3 L 201.3 92.3\" id=\"68,35\"></path><path d=\"M 219.9 115.0 L 219.9 107.5 L 656.1 107.5\" id=\"67,34\"></path><path d=\"M 219.9 115.0 L 219.9 122.6 L 426.6 122.6\" id=\"67,33\"></path><path d=\"M 416.9 145.3 L 416.9 137.7 L 609.5 137.7\" id=\"49,32\"></path><path d=\"M 416.9 145.3 L 416.9 152.9 L 578.3 152.9\" id=\"49,31\"></path><path d=\"M 333.8 175.6 L 333.8 168.0 L 446.9 168.0\" id=\"48,30\"></path><path d=\"M 333.8 175.6 L 333.8 183.1 L 487.0 183.1\" id=\"48,29\"></path><path d=\"M 354.2 205.8 L 354.2 198.3 L 430.0 198.3\" id=\"47,28\"></path><path d=\"M 354.2 205.8 L 354.2 213.4 L 474.3 213.4\" id=\"47,27\"></path><path d=\"M 433.3 236.1 L 433.3 228.5 L 563.9 228.5\" id=\"46,26\"></path><path d=\"M 433.3 236.1 L 433.3 243.6 L 503.5 243.6\" id=\"46,25\"></path><path d=\"M 339.6 270.1 L 339.6 258.8 L 444.2 258.8\" id=\"55,24\"></path><path d=\"M 394.6 281.5 L 394.6 273.9 L 526.5 273.9\" id=\"45,23\"></path><path d=\"M 394.6 281.5 L 394.6 289.0 L 455.3 289.0\" id=\"45,22\"></path><path d=\"M 361.3 311.7 L 361.3 304.2 L 422.3 304.2\" id=\"44,21\"></path><path d=\"M 361.3 311.7 L 361.3 319.3 L 519.0 319.3\" id=\"44,20\"></path><path d=\"M 356.3 345.8 L 356.3 334.4 L 556.2 334.4\" id=\"43,19\"></path><path d=\"M 368.7 357.1 L 368.7 349.6 L 508.6 349.6\" id=\"39,18\"></path><path d=\"M 368.7 357.1 L 368.7 364.7 L 423.8 364.7\" id=\"39,17\"></path><path d=\"M 244.1 404.9 L 244.1 379.8 L 295.8 379.8\" id=\"65,16\"></path><path d=\"M 289.8 406.3 L 289.8 395.0 L 480.3 395.0\" id=\"53,15\"></path><path d=\"M 357.0 417.7 L 357.0 410.1 L 461.9 410.1\" id=\"42,14\"></path><path d=\"M 357.0 417.7 L 357.0 425.2 L 442.6 425.2\" id=\"42,13\"></path><path d=\"M 299.0 453.6 L 299.0 440.4 L 401.9 440.4\" id=\"52,12\"></path><path d=\"M 327.5 466.8 L 327.5 455.5 L 422.7 455.5\" id=\"41,11\"></path><path d=\"M 339.4 478.2 L 339.4 470.6 L 495.2 470.6\" id=\"38,10\"></path><path d=\"M 339.4 478.2 L 339.4 485.7 L 375.1 485.7\" id=\"38,9\"></path><path d=\"M 156.0 514.1 L 156.0 500.9 L 245.9 500.9\" id=\"64,8\"></path><path d=\"M 187.6 527.4 L 187.6 516.0 L 322.7 516.0\" id=\"59,7\"></path><path d=\"M 248.1 538.7 L 248.1 531.1 L 352.9 531.1\" id=\"51,6\"></path><path d=\"M 248.1 538.7 L 248.1 546.3 L 408.8 546.3\" id=\"51,5\"></path><path d=\"M 207.6 575.6 L 207.6 561.4 L 412.6 561.4\" id=\"63,4\"></path><path d=\"M 227.9 589.8 L 227.9 576.5 L 303.8 576.5\" id=\"58,3\"></path><path d=\"M 310.1 603.0 L 310.1 591.7 L 451.0 591.7\" id=\"50,2\"></path><path d=\"M 417.4 614.4 L 417.4 606.8 L 781.2 606.8\" id=\"40,1\"></path><path d=\"M 417.4 614.4 L 417.4 621.9 L 429.7 621.9\" id=\"40,0\"></path></g><g class=\"toytree-Nodes\" style=\"fill:rgb(40%,76.1%,64.7%);fill-opacity:1.0;stroke:None;stroke-width:1\"><g id=\"node-0\" transform=\"translate(429.702,621.921)\"><circle r=\"0.0\"></circle></g><g id=\"node-1\" transform=\"translate(781.210,606.790)\"><circle r=\"0.0\"></circle></g><g id=\"node-2\" transform=\"translate(451.003,591.659)\"><circle r=\"0.0\"></circle></g><g id=\"node-3\" transform=\"translate(303.796,576.529)\"><circle r=\"0.0\"></circle></g><g id=\"node-4\" transform=\"translate(412.615,561.398)\"><circle r=\"0.0\"></circle></g><g id=\"node-5\" transform=\"translate(408.833,546.267)\"><circle r=\"0.0\"></circle></g><g id=\"node-6\" transform=\"translate(352.876,531.136)\"><circle r=\"0.0\"></circle></g><g id=\"node-7\" transform=\"translate(322.707,516.005)\"><circle r=\"0.0\"></circle></g><g id=\"node-8\" transform=\"translate(245.885,500.874)\"><circle r=\"0.0\"></circle></g><g id=\"node-9\" transform=\"translate(375.087,485.743)\"><circle r=\"0.0\"></circle></g><g id=\"node-10\" transform=\"translate(495.228,470.612)\"><circle r=\"0.0\"></circle></g><g id=\"node-11\" transform=\"translate(422.696,455.482)\"><circle r=\"0.0\"></circle></g><g id=\"node-12\" transform=\"translate(401.874,440.351)\"><circle r=\"0.0\"></circle></g><g id=\"node-13\" transform=\"translate(442.629,425.220)\"><circle r=\"0.0\"></circle></g><g id=\"node-14\" transform=\"translate(461.891,410.089)\"><circle r=\"0.0\"></circle></g><g id=\"node-15\" transform=\"translate(480.284,394.958)\"><circle r=\"0.0\"></circle></g><g id=\"node-16\" transform=\"translate(295.763,379.827)\"><circle r=\"0.0\"></circle></g><g id=\"node-17\" transform=\"translate(423.797,364.696)\"><circle r=\"0.0\"></circle></g><g id=\"node-18\" transform=\"translate(508.589,349.565)\"><circle r=\"0.0\"></circle></g><g id=\"node-19\" transform=\"translate(556.217,334.435)\"><circle r=\"0.0\"></circle></g><g id=\"node-20\" transform=\"translate(518.986,319.304)\"><circle r=\"0.0\"></circle></g><g id=\"node-21\" transform=\"translate(422.266,304.173)\"><circle r=\"0.0\"></circle></g><g id=\"node-22\" transform=\"translate(455.344,289.042)\"><circle r=\"0.0\"></circle></g><g id=\"node-23\" transform=\"translate(526.546,273.911)\"><circle r=\"0.0\"></circle></g><g id=\"node-24\" transform=\"translate(444.157,258.780)\"><circle r=\"0.0\"></circle></g><g id=\"node-25\" transform=\"translate(503.515,243.649)\"><circle r=\"0.0\"></circle></g><g id=\"node-26\" transform=\"translate(563.947,228.518)\"><circle r=\"0.0\"></circle></g><g id=\"node-27\" transform=\"translate(474.272,213.388)\"><circle r=\"0.0\"></circle></g><g id=\"node-28\" transform=\"translate(430.035,198.257)\"><circle r=\"0.0\"></circle></g><g id=\"node-29\" transform=\"translate(486.973,183.126)\"><circle r=\"0.0\"></circle></g><g id=\"node-30\" transform=\"translate(446.852,167.995)\"><circle r=\"0.0\"></circle></g><g id=\"node-31\" transform=\"translate(578.270,152.864)\"><circle r=\"0.0\"></circle></g><g id=\"node-32\" transform=\"translate(609.534,137.733)\"><circle r=\"0.0\"></circle></g><g id=\"node-33\" transform=\"translate(426.573,122.602)\"><circle r=\"0.0\"></circle></g><g id=\"node-34\" transform=\"translate(656.080,107.471)\"><circle r=\"0.0\"></circle></g><g id=\"node-35\" transform=\"translate(201.331,92.341)\"><circle r=\"0.0\"></circle></g><g id=\"node-36\" transform=\"translate(164.125,77.210)\"><circle r=\"0.0\"></circle></g><g id=\"node-37\" transform=\"translate(146.565,62.079)\"><circle r=\"0.0\"></circle></g><g id=\"node-38\" transform=\"translate(339.447,478.178)\"><circle r=\"7.5\"></circle></g><g id=\"node-39\" transform=\"translate(368.688,357.131)\"><circle r=\"7.5\"></circle></g><g id=\"node-40\" transform=\"translate(417.435,614.356)\"><circle r=\"7.5\"></circle></g><g id=\"node-41\" transform=\"translate(327.513,466.830)\"><circle r=\"7.5\"></circle></g><g id=\"node-42\" transform=\"translate(357.025,417.654)\"><circle r=\"7.5\"></circle></g><g id=\"node-43\" transform=\"translate(356.332,345.783)\"><circle r=\"7.5\"></circle></g><g id=\"node-44\" transform=\"translate(361.348,311.738)\"><circle r=\"7.5\"></circle></g><g id=\"node-45\" transform=\"translate(394.650,281.476)\"><circle r=\"7.5\"></circle></g><g id=\"node-46\" transform=\"translate(433.314,236.084)\"><circle r=\"7.5\"></circle></g><g id=\"node-47\" transform=\"translate(354.195,205.822)\"><circle r=\"7.5\"></circle></g><g id=\"node-48\" transform=\"translate(333.836,175.560)\"><circle r=\"7.5\"></circle></g><g id=\"node-49\" transform=\"translate(416.936,145.299)\"><circle r=\"7.5\"></circle></g><g id=\"node-50\" transform=\"translate(310.135,603.008)\"><circle r=\"7.5\"></circle></g><g id=\"node-51\" transform=\"translate(248.079,538.701)\"><circle r=\"7.5\"></circle></g><g id=\"node-52\" transform=\"translate(298.980,453.590)\"><circle r=\"7.5\"></circle></g><g id=\"node-53\" transform=\"translate(289.791,406.306)\"><circle r=\"7.5\"></circle></g><g id=\"node-54\" transform=\"translate(297.575,328.760)\"><circle r=\"7.5\"></circle></g><g id=\"node-55\" transform=\"translate(339.565,270.128)\"><circle r=\"7.5\"></circle></g><g id=\"node-56\" transform=\"translate(301.343,220.953)\"><circle r=\"7.5\"></circle></g><g id=\"node-57\" transform=\"translate(323.835,160.429)\"><circle r=\"7.5\"></circle></g><g id=\"node-58\" transform=\"translate(227.879,589.768)\"><circle r=\"7.5\"></circle></g><g id=\"node-59\" transform=\"translate(187.590,527.353)\"><circle r=\"7.5\"></circle></g><g id=\"node-60\" transform=\"translate(245.238,429.948)\"><circle r=\"7.5\"></circle></g><g id=\"node-61\" transform=\"translate(286.977,299.444)\"><circle r=\"7.5\"></circle></g><g id=\"node-62\" transform=\"translate(298.651,190.691)\"><circle r=\"7.5\"></circle></g><g id=\"node-63\" transform=\"translate(207.615,575.583)\"><circle r=\"7.5\"></circle></g><g id=\"node-64\" transform=\"translate(155.983,514.114)\"><circle r=\"7.5\"></circle></g><g id=\"node-65\" transform=\"translate(244.127,404.888)\"><circle r=\"7.5\"></circle></g><g id=\"node-66\" transform=\"translate(235.186,245.068)\"><circle r=\"7.5\"></circle></g><g id=\"node-67\" transform=\"translate(219.863,115.037)\"><circle r=\"7.5\"></circle></g><g id=\"node-68\" transform=\"translate(146.565,289.177)\"><circle r=\"7.5\"></circle></g><g id=\"node-69\" transform=\"translate(50.000,175.628)\"><circle r=\"0.0\"></circle></g></g><g class=\"toytree-NodeLabels\" style=\"fill:rgb(14.9%,14.9%,14.9%);fill-opacity:1.0;font-size:9px;stroke:none\"><g transform=\"translate(334.44,480.48)\"><text>96</text></g><g transform=\"translate(361.18,359.43)\"><text>100</text></g><g transform=\"translate(412.43,616.66)\"><text>59</text></g><g transform=\"translate(322.51,469.13)\"><text>96</text></g><g transform=\"translate(352.02,419.95)\"><text>59</text></g><g transform=\"translate(348.83,348.08)\"><text>100</text></g><g transform=\"translate(353.84,314.04)\"><text>100</text></g><g transform=\"translate(387.14,283.78)\"><text>100</text></g><g transform=\"translate(425.81,238.38)\"><text>100</text></g><g transform=\"translate(346.69,208.12)\"><text>100</text></g><g transform=\"translate(328.83,177.86)\"><text>69</text></g><g transform=\"translate(409.43,147.60)\"><text>100</text></g><g transform=\"translate(305.13,605.31)\"><text>59</text></g><g transform=\"translate(240.57,541.00)\"><text>100</text></g><g transform=\"translate(291.47,455.89)\"><text>100</text></g><g transform=\"translate(284.79,408.61)\"><text>59</text></g><g transform=\"translate(290.07,331.06)\"><text>100</text></g><g transform=\"translate(334.56,272.43)\"><text>77</text></g><g transform=\"translate(296.34,223.25)\"><text>54</text></g><g transform=\"translate(316.33,162.73)\"><text>100</text></g><g transform=\"translate(222.88,592.07)\"><text>59</text></g><g transform=\"translate(180.08,529.65)\"><text>100</text></g><g transform=\"translate(240.23,432.25)\"><text>56</text></g><g transform=\"translate(281.97,301.74)\"><text>74</text></g><g transform=\"translate(293.65,192.99)\"><text>74</text></g><g transform=\"translate(202.61,577.88)\"><text>59</text></g><g transform=\"translate(150.98,516.41)\"><text>68</text></g><g transform=\"translate(239.12,407.19)\"><text>59</text></g><g transform=\"translate(227.68,247.37)\"><text>100</text></g><g transform=\"translate(214.86,117.34)\"><text>70</text></g><g transform=\"translate(139.06,291.48)\"><text>100</text></g></g><g class=\"toytree-TipLabels\" style=\"fill:rgb(14.9%,14.9%,14.9%);fill-opacity:1.0;font-family:helvetica;font-size:11px;font-weight:normal;stroke:none;white-space:pre\"><g transform=\"translate(429.70,621.92)rotate(0)\"><text style=\"\" x=\"15.00\" y=\"2.81\">O.ximenae_Oax2_H3</text></g><g transform=\"translate(781.21,606.79)rotate(0)\"><text style=\"\" x=\"15.00\" y=\"2.81\">O.acuminata_Oax_H7</text></g><g transform=\"translate(451.00,591.66)rotate(0)\"><text style=\"\" x=\"15.00\" y=\"2.81\">O.fimbriata_F3</text></g><g transform=\"translate(303.80,576.53)rotate(0)\"><text style=\"\" x=\"15.00\" y=\"2.81\">O.ximenae_Oax1_G3</text></g><g transform=\"translate(412.62,561.40)rotate(0)\"><text style=\"\" x=\"15.00\" y=\"2.81\">O.rezdowskiourm_E3</text></g><g transform=\"translate(408.83,546.27)rotate(0)\"><text style=\"\" x=\"15.00\" y=\"2.81\">O.acuminata_PV_Jal_C3</text></g><g transform=\"translate(352.88,531.14)rotate(0)\"><text style=\"\" x=\"15.00\" y=\"2.81\">O.acuminata_Seb_Jal_B3</text></g><g transform=\"translate(322.71,516.01)rotate(0)\"><text style=\"\" x=\"15.00\" y=\"2.81\">O. odam_D3</text></g><g transform=\"translate(245.89,500.87)rotate(0)\"><text style=\"\" x=\"15.00\" y=\"2.81\">O.acuminata_SG_Jal2_A3</text></g><g transform=\"translate(375.09,485.74)rotate(0)\"><text style=\"\" x=\"15.00\" y=\"2.81\">O.acuminata_Zac2_G2</text></g><g transform=\"translate(495.23,470.61)rotate(0)\"><text style=\"\" x=\"15.00\" y=\"2.81\">O.acuminata_Zac1_F2</text></g><g transform=\"translate(422.70,455.48)rotate(0)\"><text style=\"\" x=\"15.00\" y=\"2.81\">O.acuminata_Ags2_E2</text></g><g transform=\"translate(401.87,440.35)rotate(0)\"><text style=\"\" x=\"15.00\" y=\"2.81\">O.acuminata_Ags1_D2</text></g><g transform=\"translate(442.63,425.22)rotate(0)\"><text style=\"\" x=\"15.00\" y=\"2.81\">O.acuminata_Gro_B2</text></g><g transform=\"translate(461.89,410.09)rotate(0)\"><text style=\"\" x=\"15.00\" y=\"2.81\">O.acuminata_SG_Jal1_H2</text></g><g transform=\"translate(480.28,394.96)rotate(0)\"><text style=\"\" x=\"15.00\" y=\"2.81\">O.acuminata_Mich_Luz_C2</text></g><g transform=\"translate(295.76,379.83)rotate(0)\"><text style=\"\" x=\"15.00\" y=\"2.81\">O.acuminata_Mich_A2</text></g><g transform=\"translate(423.80,364.70)rotate(0)\"><text style=\"\" x=\"15.00\" y=\"2.81\">O.acuminata_CG_Jal_G1</text></g><g transform=\"translate(508.59,349.57)rotate(0)\"><text style=\"\" x=\"15.00\" y=\"2.81\">O.acuminata_Teq_Jal_E1</text></g><g transform=\"translate(556.22,334.43)rotate(0)\"><text style=\"\" x=\"15.00\" y=\"2.81\">O.acuminata_Colima_F1</text></g><g transform=\"translate(518.99,319.30)rotate(0)\"><text style=\"\" x=\"15.00\" y=\"2.81\">O.acuminata_Ver2_B1</text></g><g transform=\"translate(422.27,304.17)rotate(0)\"><text style=\"\" x=\"15.00\" y=\"2.81\">O.acuminata_Ver1_A1</text></g><g transform=\"translate(455.34,289.04)rotate(0)\"><text style=\"\" x=\"15.00\" y=\"2.81\">O.acuminata_Oax2_D1</text></g><g transform=\"translate(526.55,273.91)rotate(0)\"><text style=\"\" x=\"15.00\" y=\"2.81\">O.acuminata_Oax1_C1</text></g><g transform=\"translate(444.16,258.78)rotate(0)\"><text style=\"\" x=\"15.00\" y=\"2.81\">O.acuminata_SLP_H1</text></g><g transform=\"translate(503.52,243.65)rotate(0)\"><text style=\"\" x=\"15.00\" y=\"2.81\">O.victoriae_Mich2_D4</text></g><g transform=\"translate(563.95,228.52)rotate(0)\"><text style=\"\" x=\"15.00\" y=\"2.81\">O.victoriae_Mich1_C4</text></g><g transform=\"translate(474.27,213.39)rotate(0)\"><text style=\"\" x=\"15.00\" y=\"2.81\">O.victoriae2_B4</text></g><g transform=\"translate(430.03,198.26)rotate(0)\"><text style=\"\" x=\"15.00\" y=\"2.81\">O.victoriae1_A4</text></g><g transform=\"translate(486.97,183.13)rotate(0)\"><text style=\"\" x=\"15.00\" y=\"2.81\">O.glauca_G4</text></g><g transform=\"translate(446.85,167.99)rotate(0)\"><text style=\"\" x=\"15.00\" y=\"2.81\">O.nayeeri_E4</text></g><g transform=\"translate(578.27,152.86)rotate(0)\"><text style=\"\" x=\"15.00\" y=\"2.81\">O.carrilloi_F4</text></g><g transform=\"translate(609.53,137.73)rotate(0)\"><text style=\"\" x=\"15.00\" y=\"2.81\">O.reynosoana_H4</text></g><g transform=\"translate(426.57,122.60)rotate(0)\"><text style=\"\" x=\"15.00\" y=\"2.81\">O.transvolcanica_B5</text></g><g transform=\"translate(656.08,107.47)rotate(0)\"><text style=\"\" x=\"15.00\" y=\"2.81\">Ol.reflexa_C5</text></g><g transform=\"translate(201.33,92.34)rotate(0)\"><text style=\"\" x=\"15.00\" y=\"2.81\">O.nayeeri_478_A5</text></g><g transform=\"translate(164.13,77.21)rotate(0)\"><text style=\"\" x=\"15.00\" y=\"2.81\">O.ramirezii_C8</text></g><g transform=\"translate(146.57,62.08)rotate(0)\"><text style=\"\" x=\"15.00\" y=\"2.81\">G.longifolia_A6</text></g></g></g></g></g></svg><div class=\"toyplot-behavior\"><script>(function()\n",
       "{\n",
       "var modules={};\n",
       "})();</script></div></div>"
      ]
     },
     "metadata": {},
     "output_type": "display_data"
    }
   ],
   "source": [
    "tree = toytree.tree(\"./analysis-raxml/RAxML_bipartitions.otatea1\")\n",
    "\n",
    "#import real names as dict\n",
    "names = pandas.read_csv(\"nombres_especies_RAD.csv\", index_col=0, squeeze=True, usecols=[0,1])\n",
    "names = names.to_dict() # put them in dict form\n",
    "\n",
    "# new_tips = [f\"{names[tip]}_{tip[3:]}\" for tip in tree.get_tip_labels()]\n",
    "\n",
    "# set dict with new tips (real name and code)\n",
    "new_tips = {tip:f\"{names[tip]}_{tip[3:]}\" for tip in tree.get_tip_labels()}\n",
    "\n",
    "# alter the tree itself to mantain new names\n",
    "tree = tree.set_node_values(feature=\"name\", values=new_tips)\n",
    "\n",
    "# root tree in Guadua\n",
    "tree = tree.root(wildcard=\"G.\")\n",
    "\n",
    "# collapse low support\n",
    "tree = tree.collapse_nodes(min_support=50)\n",
    "\n",
    "# set colors for very bad samples (few reads) AFTER ROOTING\n",
    "# bad_samples = [\"MM_B3\",\"MM_B2\"]  #\"MM_C8\",\"MM_H1\"\n",
    "# new_colors = [\"red\" if tip in [f\"{names[i]}_{i[3:]}\" for i in bad_samples] else \"black\" for tip in tree.get_tip_labels()]\n",
    "\n",
    "c,a,m = tree.draw(width=1000, \n",
    "                  node_labels=tree.get_node_values(\"support\"), \n",
    "                  node_sizes=15,\n",
    "                  # tip_labels_colors=new_colors,\n",
    "                 )"
   ]
  },
  {
   "cell_type": "code",
   "execution_count": 79,
   "id": "c8bed037-ddbf-49c7-b065-11e3ee82bc93",
   "metadata": {
    "tags": []
   },
   "outputs": [],
   "source": [
    "import toyplot.svg\n",
    "toyplot.svg.render(c, f\"otatea1.svg\")"
   ]
  },
  {
   "cell_type": "code",
   "execution_count": null,
   "id": "6ef4852e-cc2e-4ca3-b0a1-9da5d887c040",
   "metadata": {},
   "outputs": [],
   "source": []
  },
  {
   "cell_type": "markdown",
   "id": "ddc0f187-c735-4e5f-a8b6-faa0478a9903",
   "metadata": {},
   "source": [
    "## Otatea 7\n",
    "\n",
    "\n",
    "In this case I put only only 3 olmeca species as outgroup (MM_D5 MM_G5 MM_F5)\n",
    "\n",
    "The command used is:\n",
    "```bash\n",
    "ipyrad -p params-bambus7.txt -b otatea7 MM_A1 MM_A2 MM_A3 MM_A4 MM_A5 MM_B1 MM_B2 MM_B3 MM_B4 MM_B5 MM_C1 MM_C2 MM_C3 MM_C4 MM_C8 MM_D1 MM_D2 MM_D3 MM_D4 MM_E1 MM_E2 MM_E3 MM_E4 MM_F1 MM_F2 MM_F3 MM_F4 MM_G1 MM_G2 MM_G3 MM_G4 MM_H1 MM_H2 MM_H3 MM_H4 MM_H7 MM_D5 MM_G5 MM_F5\n",
    "```"
   ]
  },
  {
   "cell_type": "code",
   "execution_count": 32,
   "id": "ee63b0ef-a90f-4bc9-812f-dd2a39359aee",
   "metadata": {},
   "outputs": [],
   "source": [
    "import ipyrad.analysis as ipa"
   ]
  },
  {
   "cell_type": "code",
   "execution_count": 33,
   "id": "3af092e9-21a2-4a9c-a2b6-d5877a136fe4",
   "metadata": {},
   "outputs": [],
   "source": [
    "# using winddow extracter to filter bad samples\n",
    "\n",
    "# path for hdf5\n",
    "SEQS = \"./otatea7_outfiles/otatea7.seqs.hdf5\""
   ]
  },
  {
   "cell_type": "code",
   "execution_count": 34,
   "id": "ae06466a-546d-433b-90a5-fad1f850409f",
   "metadata": {},
   "outputs": [],
   "source": [
    "# ##solving bytes problems in hdf5\n",
    "# # load h5py module\n",
    "# import h5py\n",
    "# import numpy as np\n",
    "\n",
    "\n",
    "# #iterate over all names and change them to bytes\n",
    "# with h5py.File(SEQS, \"a\") as io5:\n",
    "#     names = io5[\"phymap\"].attrs[\"phynames\"]\n",
    "#     del io5[\"phymap\"].attrs[\"phynames\"]\n",
    "#     io5[\"phymap\"].attrs[\"phynames\"] = np.asarray([str.encode(i) for i in names], dtype=bytes)"
   ]
  },
  {
   "cell_type": "code",
   "execution_count": 35,
   "id": "dd446ca9-2682-421c-94de-d4e7791219ec",
   "metadata": {},
   "outputs": [],
   "source": [
    "# check the number of loci to be sure include all in the analysis.\n",
    "radloci = ipa.window_extracter(SEQS)\n",
    "n_radloci = radloci.scaffold_table.shape[0]\n",
    "\n",
    "loci_toUse = radloci.scaffold_table.index[:-1].tolist() #all loci"
   ]
  },
  {
   "cell_type": "code",
   "execution_count": 36,
   "id": "029e14ec-cf02-41c5-b630-3ee1b0a88b2e",
   "metadata": {},
   "outputs": [],
   "source": [
    "wex = ipa.window_extracter(data=SEQS,\n",
    "                           scaffold_idxs=loci_toUse,\n",
    "                           # exclude=bad_samples, #maintaining all samples\n",
    "                           name=\"otatea7\",\n",
    "                           mincov=3,\n",
    "                           # rmincov=0.1,\n",
    "                           exclude = [\"reference\"]\n",
    "                          )"
   ]
  },
  {
   "cell_type": "code",
   "execution_count": 37,
   "id": "9067178f-53ef-4928-9ad2-ad3f8b526e16",
   "metadata": {},
   "outputs": [
    {
     "data": {
      "text/html": [
       "<div>\n",
       "<style scoped>\n",
       "    .dataframe tbody tr th:only-of-type {\n",
       "        vertical-align: middle;\n",
       "    }\n",
       "\n",
       "    .dataframe tbody tr th {\n",
       "        vertical-align: top;\n",
       "    }\n",
       "\n",
       "    .dataframe thead th {\n",
       "        text-align: right;\n",
       "    }\n",
       "</style>\n",
       "<table border=\"1\" class=\"dataframe\">\n",
       "  <thead>\n",
       "    <tr style=\"text-align: right;\">\n",
       "      <th></th>\n",
       "      <th>scaffold</th>\n",
       "      <th>start</th>\n",
       "      <th>end</th>\n",
       "      <th>sites</th>\n",
       "      <th>snps</th>\n",
       "      <th>missing</th>\n",
       "      <th>samples</th>\n",
       "    </tr>\n",
       "  </thead>\n",
       "  <tbody>\n",
       "    <tr>\n",
       "      <th>0</th>\n",
       "      <td>concatenated</td>\n",
       "      <td>0</td>\n",
       "      <td>5062289</td>\n",
       "      <td>5062289</td>\n",
       "      <td>102812</td>\n",
       "      <td>0.687</td>\n",
       "      <td>39</td>\n",
       "    </tr>\n",
       "  </tbody>\n",
       "</table>\n",
       "</div>"
      ],
      "text/plain": [
       "       scaffold  start      end    sites    snps  missing  samples\n",
       "0  concatenated      0  5062289  5062289  102812    0.687       39"
      ]
     },
     "execution_count": 37,
     "metadata": {},
     "output_type": "execute_result"
    }
   ],
   "source": [
    "wex.stats"
   ]
  },
  {
   "cell_type": "code",
   "execution_count": 38,
   "id": "26d4bffc-3632-4b3e-98e5-f2731ce47f6e",
   "metadata": {},
   "outputs": [
    {
     "name": "stdout",
     "output_type": "stream",
     "text": [
      "Wrote data to /mnt/data0/camayal/GDRIVE/otherCAML/bambus/analysis-window_extracter/otatea7.phy\n"
     ]
    }
   ],
   "source": [
    "wex.run(force=True)"
   ]
  },
  {
   "cell_type": "code",
   "execution_count": 39,
   "id": "00afbe05-37f7-45f3-8a7e-27d07f37cdaa",
   "metadata": {},
   "outputs": [
    {
     "name": "stdout",
     "output_type": "stream",
     "text": [
      "/home/camayal/miniconda3/envs/ipyrad/bin/raxmlHPC-PTHREADS-AVX2 -f a -T 40 -m GTRCAT -n otatea7 -w /mnt/data0/camayal/GDRIVE/otherCAML/bambus/analysis-raxml -s /mnt/data0/camayal/GDRIVE/otherCAML/bambus/analysis-window_extracter/otatea7.phy -p 54321 -N 100 -x 12345\n"
     ]
    }
   ],
   "source": [
    "rax = ipa.raxml(wex.outfile, name=wex.name, T=40, N=100, m=\"GTRCAT\")\n",
    "print(rax.command)"
   ]
  },
  {
   "cell_type": "code",
   "execution_count": 40,
   "id": "07922991-e851-4063-83a3-57146317be25",
   "metadata": {},
   "outputs": [
    {
     "name": "stdout",
     "output_type": "stream",
     "text": [
      "job otatea7 finished successfully\n"
     ]
    }
   ],
   "source": [
    "rax.run(force=True)"
   ]
  },
  {
   "cell_type": "code",
   "execution_count": 41,
   "id": "62d65334-f9e0-462a-99ab-18620233f891",
   "metadata": {},
   "outputs": [
    {
     "data": {
      "text/plain": [
       "bestTree                   /mnt/data0/camayal/GDRIVE/otherCAML/bambus/analysis-raxml/RAxML_bestTree.otatea7\n",
       "bipartitions               /mnt/data0/camayal/GDRIVE/otherCAML/bambus/analysis-raxml/RAxML_bipartitions.otatea7\n",
       "bipartitionsBranchLabels   /mnt/data0/camayal/GDRIVE/otherCAML/bambus/analysis-raxml/RAxML_bipartitionsBranchLabels.otatea7\n",
       "bootstrap                  /mnt/data0/camayal/GDRIVE/otherCAML/bambus/analysis-raxml/RAxML_bootstrap.otatea7\n",
       "info                       /mnt/data0/camayal/GDRIVE/otherCAML/bambus/analysis-raxml/RAxML_info.otatea7"
      ]
     },
     "execution_count": 41,
     "metadata": {},
     "output_type": "execute_result"
    }
   ],
   "source": [
    "rax.trees"
   ]
  },
  {
   "cell_type": "code",
   "execution_count": 42,
   "id": "389bcf07-af22-48b9-ad70-99e218547633",
   "metadata": {},
   "outputs": [],
   "source": [
    "import toytree\n",
    "import pandas"
   ]
  },
  {
   "cell_type": "code",
   "execution_count": 44,
   "id": "b297c596-4182-4b71-85ad-f3a6208de2f1",
   "metadata": {},
   "outputs": [
    {
     "data": {
      "text/html": [
       "<div class=\"toyplot\" id=\"t633764cc7c094acea2ca2424723e23a4\" style=\"text-align:center\"><svg class=\"toyplot-canvas-Canvas\" height=\"702.0px\" id=\"t8b0c5d4e60014619b5f3b084db58a5ca\" preserveAspectRatio=\"xMidYMid meet\" style=\"background-color:transparent;border-color:#292724;border-style:none;border-width:1.0;fill:rgb(16.1%,15.3%,14.1%);fill-opacity:1.0;font-family:Helvetica;font-size:12px;opacity:1.0;stroke:rgb(16.1%,15.3%,14.1%);stroke-opacity:1.0;stroke-width:1.0\" viewBox=\"0 0 1000.0 702.0\" width=\"1000.0px\" xmlns=\"http://www.w3.org/2000/svg\" xmlns:toyplot=\"http://www.sandia.gov/toyplot\" xmlns:xlink=\"http://www.w3.org/1999/xlink\"><g class=\"toyplot-coordinates-Cartesian\" id=\"t44761ce815a84dfba4651198f072e97b\"><clipPath id=\"t005cfc9b1fae4465bf1ceaf841a30e9a\"><rect height=\"642.0\" width=\"940.0\" x=\"30.0\" y=\"30.0\"></rect></clipPath><g clip-path=\"url(#t005cfc9b1fae4465bf1ceaf841a30e9a)\"><g class=\"toytree-mark-Toytree\" id=\"t2750584072534b88961374bf12e53b94\"><g class=\"toytree-Edges\" style=\"fill:none;stroke:rgb(14.9%,14.9%,14.9%);stroke-linecap:round;stroke-opacity:1;stroke-width:2\"><path d=\"M 50.0 123.0 L 50.0 73.5 L 355.9 73.5\" id=\"71,70\"></path><path d=\"M 50.0 123.0 L 50.0 172.4 L 355.9 172.4\" id=\"71,69\"></path><path d=\"M 355.9 73.5 L 355.9 84.9 L 474.1 84.9\" id=\"70,68\"></path><path d=\"M 355.9 172.4 L 355.9 115.3 L 386.5 115.3\" id=\"69,67\"></path><path d=\"M 355.9 172.4 L 355.9 229.6 L 390.0 229.6\" id=\"69,66\"></path><path d=\"M 390.0 229.6 L 390.0 160.9 L 673.8 160.9\" id=\"66,65\"></path><path d=\"M 390.0 229.6 L 390.0 298.2 L 435.6 298.2\" id=\"66,64\"></path><path d=\"M 673.8 160.9 L 673.8 145.7 L 738.1 145.7\" id=\"65,63\"></path><path d=\"M 673.8 160.9 L 673.8 176.1 L 738.7 176.1\" id=\"65,62\"></path><path d=\"M 435.6 298.2 L 435.6 397.5 L 472.5 397.5\" id=\"64,61\"></path><path d=\"M 472.5 397.5 L 472.5 225.6 L 533.8 225.6\" id=\"61,60\"></path><path d=\"M 472.5 397.5 L 472.5 282.6 L 604.9 282.6\" id=\"61,59\"></path><path d=\"M 472.5 397.5 L 472.5 324.4 L 516.6 324.4\" id=\"61,58\"></path><path d=\"M 472.5 397.5 L 472.5 425.7 L 513.9 425.7\" id=\"61,57\"></path><path d=\"M 533.8 225.6 L 533.8 237.0 L 673.5 237.0\" id=\"60,56\"></path><path d=\"M 516.6 324.4 L 516.6 343.4 L 546.0 343.4\" id=\"58,55\"></path><path d=\"M 513.9 425.7 L 513.9 389.0 L 662.8 389.0\" id=\"57,54\"></path><path d=\"M 513.9 425.7 L 513.9 462.4 L 543.0 462.4\" id=\"57,53\"></path><path d=\"M 546.0 343.4 L 546.0 328.2 L 604.2 328.2\" id=\"55,52\"></path><path d=\"M 546.0 343.4 L 546.0 358.6 L 667.3 358.6\" id=\"55,51\"></path><path d=\"M 543.0 462.4 L 543.0 419.4 L 613.8 419.4\" id=\"53,50\"></path><path d=\"M 543.0 462.4 L 543.0 505.4 L 574.4 505.4\" id=\"53,49\"></path><path d=\"M 574.4 505.4 L 574.4 461.2 L 611.0 461.2\" id=\"49,48\"></path><path d=\"M 574.4 505.4 L 574.4 549.6 L 596.7 549.6\" id=\"49,47\"></path><path d=\"M 611.0 461.2 L 611.0 480.2 L 723.4 480.2\" id=\"48,46\"></path><path d=\"M 596.7 549.6 L 596.7 525.9 L 635.0 525.9\" id=\"47,45\"></path><path d=\"M 596.7 549.6 L 596.7 573.4 L 614.0 573.4\" id=\"47,44\"></path><path d=\"M 723.4 480.2 L 723.4 465.0 L 771.5 465.0\" id=\"46,43\"></path><path d=\"M 723.4 480.2 L 723.4 495.5 L 755.5 495.5\" id=\"46,42\"></path><path d=\"M 614.0 573.4 L 614.0 556.3 L 691.3 556.3\" id=\"44,41\"></path><path d=\"M 614.0 573.4 L 614.0 590.5 L 644.7 590.5\" id=\"44,40\"></path><path d=\"M 644.7 590.5 L 644.7 601.9 L 670.5 601.9\" id=\"40,39\"></path><path d=\"M 355.9 73.5 L 355.9 62.1 L 503.7 62.1\" id=\"70,38\"></path><path d=\"M 474.1 84.9 L 474.1 77.3 L 537.6 77.3\" id=\"68,37\"></path><path d=\"M 474.1 84.9 L 474.1 92.5 L 554.8 92.5\" id=\"68,36\"></path><path d=\"M 386.5 115.3 L 386.5 107.7 L 517.9 107.7\" id=\"67,35\"></path><path d=\"M 386.5 115.3 L 386.5 122.9 L 541.5 122.9\" id=\"67,34\"></path><path d=\"M 738.1 145.7 L 738.1 138.1 L 750.2 138.1\" id=\"63,33\"></path><path d=\"M 738.1 145.7 L 738.1 153.3 L 749.4 153.3\" id=\"63,32\"></path><path d=\"M 738.7 176.1 L 738.7 168.5 L 741.6 168.5\" id=\"62,31\"></path><path d=\"M 738.7 176.1 L 738.7 183.7 L 741.6 183.7\" id=\"62,30\"></path><path d=\"M 435.6 298.2 L 435.6 198.9 L 686.6 198.9\" id=\"64,29\"></path><path d=\"M 533.8 225.6 L 533.8 214.1 L 723.1 214.1\" id=\"60,28\"></path><path d=\"M 673.5 237.0 L 673.5 229.4 L 680.9 229.4\" id=\"56,27\"></path><path d=\"M 673.5 237.0 L 673.5 244.6 L 679.1 244.6\" id=\"56,26\"></path><path d=\"M 472.5 397.5 L 472.5 259.8 L 623.1 259.8\" id=\"61,25\"></path><path d=\"M 604.9 282.6 L 604.9 275.0 L 631.8 275.0\" id=\"59,24\"></path><path d=\"M 604.9 282.6 L 604.9 290.2 L 627.5 290.2\" id=\"59,23\"></path><path d=\"M 516.6 324.4 L 516.6 305.4 L 574.0 305.4\" id=\"58,22\"></path><path d=\"M 604.2 328.2 L 604.2 320.6 L 642.9 320.6\" id=\"52,21\"></path><path d=\"M 604.2 328.2 L 604.2 335.8 L 619.9 335.8\" id=\"52,20\"></path><path d=\"M 667.3 358.6 L 667.3 351.0 L 671.8 351.0\" id=\"51,19\"></path><path d=\"M 667.3 358.6 L 667.3 366.2 L 674.1 366.2\" id=\"51,18\"></path><path d=\"M 662.8 389.0 L 662.8 381.4 L 677.2 381.4\" id=\"54,17\"></path><path d=\"M 662.8 389.0 L 662.8 396.6 L 677.7 396.6\" id=\"54,16\"></path><path d=\"M 613.8 419.4 L 613.8 411.8 L 640.3 411.8\" id=\"50,15\"></path><path d=\"M 613.8 419.4 L 613.8 427.0 L 666.3 427.0\" id=\"50,14\"></path><path d=\"M 611.0 461.2 L 611.0 442.2 L 737.4 442.2\" id=\"48,13\"></path><path d=\"M 771.5 465.0 L 771.5 457.4 L 775.1 457.4\" id=\"43,12\"></path><path d=\"M 771.5 465.0 L 771.5 472.6 L 774.9 472.6\" id=\"43,11\"></path><path d=\"M 755.5 495.5 L 755.5 487.9 L 775.9 487.9\" id=\"42,10\"></path><path d=\"M 755.5 495.5 L 755.5 503.1 L 767.9 503.1\" id=\"42,9\"></path><path d=\"M 635.0 525.9 L 635.0 518.3 L 700.0 518.3\" id=\"45,8\"></path><path d=\"M 635.0 525.9 L 635.0 533.5 L 664.8 533.5\" id=\"45,7\"></path><path d=\"M 691.3 556.3 L 691.3 548.7 L 711.0 548.7\" id=\"41,6\"></path><path d=\"M 691.3 556.3 L 691.3 563.9 L 717.7 563.9\" id=\"41,5\"></path><path d=\"M 644.7 590.5 L 644.7 579.1 L 737.6 579.1\" id=\"40,4\"></path><path d=\"M 670.5 601.9 L 670.5 594.3 L 723.1 594.3\" id=\"39,3\"></path><path d=\"M 670.5 601.9 L 670.5 609.5 L 723.3 609.5\" id=\"39,2\"></path><path d=\"M 472.5 397.5 L 472.5 624.7 L 549.8 624.7\" id=\"61,1\"></path><path d=\"M 472.5 397.5 L 472.5 639.9 L 613.2 639.9\" id=\"61,0\"></path></g><g class=\"toytree-Nodes\" style=\"fill:rgb(40%,76.1%,64.7%);fill-opacity:1.0;stroke:None;stroke-width:1\"><g id=\"node-0\" transform=\"translate(613.183,639.906)\"><circle r=\"0.0\"></circle></g><g id=\"node-1\" transform=\"translate(549.840,624.701)\"><circle r=\"0.0\"></circle></g><g id=\"node-2\" transform=\"translate(723.311,609.495)\"><circle r=\"0.0\"></circle></g><g id=\"node-3\" transform=\"translate(723.134,594.289)\"><circle r=\"0.0\"></circle></g><g id=\"node-4\" transform=\"translate(737.588,579.084)\"><circle r=\"0.0\"></circle></g><g id=\"node-5\" transform=\"translate(717.713,563.878)\"><circle r=\"0.0\"></circle></g><g id=\"node-6\" transform=\"translate(710.996,548.673)\"><circle r=\"0.0\"></circle></g><g id=\"node-7\" transform=\"translate(664.797,533.467)\"><circle r=\"0.0\"></circle></g><g id=\"node-8\" transform=\"translate(699.950,518.262)\"><circle r=\"0.0\"></circle></g><g id=\"node-9\" transform=\"translate(767.850,503.056)\"><circle r=\"0.0\"></circle></g><g id=\"node-10\" transform=\"translate(775.888,487.850)\"><circle r=\"0.0\"></circle></g><g id=\"node-11\" transform=\"translate(774.901,472.645)\"><circle r=\"0.0\"></circle></g><g id=\"node-12\" transform=\"translate(775.139,457.439)\"><circle r=\"0.0\"></circle></g><g id=\"node-13\" transform=\"translate(737.441,442.234)\"><circle r=\"0.0\"></circle></g><g id=\"node-14\" transform=\"translate(666.337,427.028)\"><circle r=\"0.0\"></circle></g><g id=\"node-15\" transform=\"translate(640.305,411.822)\"><circle r=\"0.0\"></circle></g><g id=\"node-16\" transform=\"translate(677.693,396.617)\"><circle r=\"0.0\"></circle></g><g id=\"node-17\" transform=\"translate(677.155,381.411)\"><circle r=\"0.0\"></circle></g><g id=\"node-18\" transform=\"translate(674.104,366.206)\"><circle r=\"0.0\"></circle></g><g id=\"node-19\" transform=\"translate(671.783,351.000)\"><circle r=\"0.0\"></circle></g><g id=\"node-20\" transform=\"translate(619.934,335.794)\"><circle r=\"0.0\"></circle></g><g id=\"node-21\" transform=\"translate(642.881,320.589)\"><circle r=\"0.0\"></circle></g><g id=\"node-22\" transform=\"translate(573.996,305.383)\"><circle r=\"0.0\"></circle></g><g id=\"node-23\" transform=\"translate(627.506,290.178)\"><circle r=\"0.0\"></circle></g><g id=\"node-24\" transform=\"translate(631.802,274.972)\"><circle r=\"0.0\"></circle></g><g id=\"node-25\" transform=\"translate(623.143,259.766)\"><circle r=\"0.0\"></circle></g><g id=\"node-26\" transform=\"translate(679.102,244.561)\"><circle r=\"0.0\"></circle></g><g id=\"node-27\" transform=\"translate(680.904,229.355)\"><circle r=\"0.0\"></circle></g><g id=\"node-28\" transform=\"translate(723.138,214.150)\"><circle r=\"0.0\"></circle></g><g id=\"node-29\" transform=\"translate(686.559,198.944)\"><circle r=\"0.0\"></circle></g><g id=\"node-30\" transform=\"translate(741.572,183.738)\"><circle r=\"0.0\"></circle></g><g id=\"node-31\" transform=\"translate(741.625,168.533)\"><circle r=\"0.0\"></circle></g><g id=\"node-32\" transform=\"translate(749.420,153.327)\"><circle r=\"0.0\"></circle></g><g id=\"node-33\" transform=\"translate(750.223,138.122)\"><circle r=\"0.0\"></circle></g><g id=\"node-34\" transform=\"translate(541.541,122.916)\"><circle r=\"0.0\"></circle></g><g id=\"node-35\" transform=\"translate(517.884,107.711)\"><circle r=\"0.0\"></circle></g><g id=\"node-36\" transform=\"translate(554.848,92.505)\"><circle r=\"0.0\"></circle></g><g id=\"node-37\" transform=\"translate(537.604,77.299)\"><circle r=\"0.0\"></circle></g><g id=\"node-38\" transform=\"translate(503.748,62.094)\"><circle r=\"0.0\"></circle></g><g id=\"node-39\" transform=\"translate(670.463,601.892)\"><circle r=\"7.5\"></circle></g><g id=\"node-40\" transform=\"translate(644.683,590.488)\"><circle r=\"7.5\"></circle></g><g id=\"node-41\" transform=\"translate(691.257,556.275)\"><circle r=\"7.5\"></circle></g><g id=\"node-42\" transform=\"translate(755.460,495.453)\"><circle r=\"7.5\"></circle></g><g id=\"node-43\" transform=\"translate(771.490,465.042)\"><circle r=\"7.5\"></circle></g><g id=\"node-44\" transform=\"translate(614.030,573.382)\"><circle r=\"7.5\"></circle></g><g id=\"node-45\" transform=\"translate(634.964,525.864)\"><circle r=\"7.5\"></circle></g><g id=\"node-46\" transform=\"translate(723.405,480.248)\"><circle r=\"7.5\"></circle></g><g id=\"node-47\" transform=\"translate(596.711,549.623)\"><circle r=\"7.5\"></circle></g><g id=\"node-48\" transform=\"translate(611.027,461.241)\"><circle r=\"7.5\"></circle></g><g id=\"node-49\" transform=\"translate(574.424,505.432)\"><circle r=\"7.5\"></circle></g><g id=\"node-50\" transform=\"translate(613.826,419.425)\"><circle r=\"7.5\"></circle></g><g id=\"node-51\" transform=\"translate(667.280,358.603)\"><circle r=\"7.5\"></circle></g><g id=\"node-52\" transform=\"translate(604.192,328.192)\"><circle r=\"7.5\"></circle></g><g id=\"node-53\" transform=\"translate(542.989,462.428)\"><circle r=\"7.5\"></circle></g><g id=\"node-54\" transform=\"translate(662.816,389.014)\"><circle r=\"7.5\"></circle></g><g id=\"node-55\" transform=\"translate(545.978,343.397)\"><circle r=\"7.5\"></circle></g><g id=\"node-56\" transform=\"translate(673.467,236.958)\"><circle r=\"7.5\"></circle></g><g id=\"node-57\" transform=\"translate(513.906,425.721)\"><circle r=\"7.5\"></circle></g><g id=\"node-58\" transform=\"translate(516.583,324.390)\"><circle r=\"7.5\"></circle></g><g id=\"node-59\" transform=\"translate(604.941,282.575)\"><circle r=\"7.5\"></circle></g><g id=\"node-60\" transform=\"translate(533.846,225.554)\"><circle r=\"7.5\"></circle></g><g id=\"node-61\" transform=\"translate(472.521,397.516)\"><circle r=\"7.5\"></circle></g><g id=\"node-62\" transform=\"translate(738.739,176.136)\"><circle r=\"7.5\"></circle></g><g id=\"node-63\" transform=\"translate(738.114,145.725)\"><circle r=\"7.5\"></circle></g><g id=\"node-64\" transform=\"translate(435.649,298.230)\"><circle r=\"7.5\"></circle></g><g id=\"node-65\" transform=\"translate(673.814,160.930)\"><circle r=\"7.5\"></circle></g><g id=\"node-66\" transform=\"translate(390.006,229.580)\"><circle r=\"7.5\"></circle></g><g id=\"node-67\" transform=\"translate(386.454,115.313)\"><circle r=\"7.5\"></circle></g><g id=\"node-68\" transform=\"translate(474.120,84.902)\"><circle r=\"7.5\"></circle></g><g id=\"node-69\" transform=\"translate(355.920,172.447)\"><circle r=\"7.5\"></circle></g><g id=\"node-70\" transform=\"translate(355.920,73.498)\"><circle r=\"7.5\"></circle></g><g id=\"node-71\" transform=\"translate(50.000,122.972)\"><circle r=\"0.0\"></circle></g></g><g class=\"toytree-NodeLabels\" style=\"fill:rgb(14.9%,14.9%,14.9%);fill-opacity:1.0;font-size:9px;stroke:none\"><g transform=\"translate(665.46,604.19)\"><text>98</text></g><g transform=\"translate(639.68,592.79)\"><text>98</text></g><g transform=\"translate(683.75,558.57)\"><text>100</text></g><g transform=\"translate(747.95,497.75)\"><text>100</text></g><g transform=\"translate(763.98,467.34)\"><text>100</text></g><g transform=\"translate(609.03,575.68)\"><text>61</text></g><g transform=\"translate(627.46,528.16)\"><text>100</text></g><g transform=\"translate(715.90,482.55)\"><text>100</text></g><g transform=\"translate(591.71,551.92)\"><text>75</text></g><g transform=\"translate(603.52,463.54)\"><text>100</text></g><g transform=\"translate(569.42,507.73)\"><text>97</text></g><g transform=\"translate(606.32,421.72)\"><text>100</text></g><g transform=\"translate(662.28,360.90)\"><text>90</text></g><g transform=\"translate(596.69,330.49)\"><text>100</text></g><g transform=\"translate(537.98,464.73)\"><text>97</text></g><g transform=\"translate(657.81,391.31)\"><text>92</text></g><g transform=\"translate(540.97,345.70)\"><text>83</text></g><g transform=\"translate(665.96,239.26)\"><text>100</text></g><g transform=\"translate(508.90,428.02)\"><text>63</text></g><g transform=\"translate(511.58,326.69)\"><text>65</text></g><g transform=\"translate(599.94,284.87)\"><text>98</text></g><g transform=\"translate(528.84,227.85)\"><text>93</text></g><g transform=\"translate(467.52,399.82)\"><text>82</text></g><g transform=\"translate(731.23,178.44)\"><text>100</text></g><g transform=\"translate(730.61,148.02)\"><text>100</text></g><g transform=\"translate(430.64,300.53)\"><text>88</text></g><g transform=\"translate(666.31,163.23)\"><text>100</text></g><g transform=\"translate(385.00,231.88)\"><text>68</text></g><g transform=\"translate(378.95,117.61)\"><text>100</text></g><g transform=\"translate(466.61,87.20)\"><text>100</text></g><g transform=\"translate(348.41,174.75)\"><text>100</text></g><g transform=\"translate(348.41,75.80)\"><text>100</text></g></g><g class=\"toytree-TipLabels\" style=\"fill:rgb(14.9%,14.9%,14.9%);fill-opacity:1.0;font-family:helvetica;font-size:11px;font-weight:normal;stroke:none;white-space:pre\"><g transform=\"translate(613.18,639.91)rotate(0)\"><text style=\"\" x=\"15.00\" y=\"2.81\">O.fimbriata_F3</text></g><g transform=\"translate(549.84,624.70)rotate(0)\"><text style=\"\" x=\"15.00\" y=\"2.81\">O.ramirezii_C8</text></g><g transform=\"translate(723.31,609.50)rotate(0)\"><text style=\"\" x=\"15.00\" y=\"2.81\">O.acuminata_Colima_F1</text></g><g transform=\"translate(723.13,594.29)rotate(0)\"><text style=\"\" x=\"15.00\" y=\"2.81\">O.acuminata_CG_Jal_G1</text></g><g transform=\"translate(737.59,579.08)rotate(0)\"><text style=\"\" x=\"15.00\" y=\"2.81\">O.acuminata_Teq_Jal_E1</text></g><g transform=\"translate(717.71,563.88)rotate(0)\"><text style=\"\" x=\"15.00\" y=\"2.81\">O.acuminata_SG_Jal2_A3</text></g><g transform=\"translate(711.00,548.67)rotate(0)\"><text style=\"\" x=\"15.00\" y=\"2.81\">O.acuminata_SG_Jal1_H2</text></g><g transform=\"translate(664.80,533.47)rotate(0)\"><text style=\"\" x=\"15.00\" y=\"2.81\">O.acuminata_Mich_A2</text></g><g transform=\"translate(699.95,518.26)rotate(0)\"><text style=\"\" x=\"15.00\" y=\"2.81\">O.acuminata_Mich_Luz_C2</text></g><g transform=\"translate(767.85,503.06)rotate(0)\"><text style=\"\" x=\"15.00\" y=\"2.81\">O.acuminata_Zac2_G2</text></g><g transform=\"translate(775.89,487.85)rotate(0)\"><text style=\"\" x=\"15.00\" y=\"2.81\">O.acuminata_Zac1_F2</text></g><g transform=\"translate(774.90,472.64)rotate(0)\"><text style=\"\" x=\"15.00\" y=\"2.81\">O.acuminata_Ags1_D2</text></g><g transform=\"translate(775.14,457.44)rotate(0)\"><text style=\"\" x=\"15.00\" y=\"2.81\">O.acuminata_Ags2_E2</text></g><g transform=\"translate(737.44,442.23)rotate(0)\"><text style=\"\" x=\"15.00\" y=\"2.81\">O. odam_D3</text></g><g transform=\"translate(666.34,427.03)rotate(0)\"><text style=\"\" x=\"15.00\" y=\"2.81\">O.acuminata_PV_Jal_C3</text></g><g transform=\"translate(640.31,411.82)rotate(0)\"><text style=\"\" x=\"15.00\" y=\"2.81\">O.acuminata_Seb_Jal_B3</text></g><g transform=\"translate(677.69,396.62)rotate(0)\"><text style=\"\" x=\"15.00\" y=\"2.81\">O.nayeeri_E4</text></g><g transform=\"translate(677.15,381.41)rotate(0)\"><text style=\"\" x=\"15.00\" y=\"2.81\">O.nayeeri_478_A5</text></g><g transform=\"translate(674.10,366.21)rotate(0)\"><text style=\"\" x=\"15.00\" y=\"2.81\">O.acuminata_Ver2_B1</text></g><g transform=\"translate(671.78,351.00)rotate(0)\"><text style=\"\" x=\"15.00\" y=\"2.81\">O.acuminata_Ver1_A1</text></g><g transform=\"translate(619.93,335.79)rotate(0)\"><text style=\"\" x=\"15.00\" y=\"2.81\">O.acuminata_Gro_B2</text></g><g transform=\"translate(642.88,320.59)rotate(0)\"><text style=\"\" x=\"15.00\" y=\"2.81\">O.acuminata_Oax_H7</text></g><g transform=\"translate(574.00,305.38)rotate(0)\"><text style=\"\" x=\"15.00\" y=\"2.81\">O.acuminata_SLP_H1</text></g><g transform=\"translate(627.51,290.18)rotate(0)\"><text style=\"\" x=\"15.00\" y=\"2.81\">O.ximenae_Oax1_G3</text></g><g transform=\"translate(631.80,274.97)rotate(0)\"><text style=\"\" x=\"15.00\" y=\"2.81\">O.ximenae_Oax2_H3</text></g><g transform=\"translate(623.14,259.77)rotate(0)\"><text style=\"\" x=\"15.00\" y=\"2.81\">O.reynosoana_H4</text></g><g transform=\"translate(679.10,244.56)rotate(0)\"><text style=\"\" x=\"15.00\" y=\"2.81\">O.victoriae_Mich2_D4</text></g><g transform=\"translate(680.90,229.36)rotate(0)\"><text style=\"\" x=\"15.00\" y=\"2.81\">O.victoriae_Mich1_C4</text></g><g transform=\"translate(723.14,214.15)rotate(0)\"><text style=\"\" x=\"15.00\" y=\"2.81\">O.transvolcanica_B5</text></g><g transform=\"translate(686.56,198.94)rotate(0)\"><text style=\"\" x=\"15.00\" y=\"2.81\">O.rezdowskiourm_E3</text></g><g transform=\"translate(741.57,183.74)rotate(0)\"><text style=\"\" x=\"15.00\" y=\"2.81\">O.acuminata_Oax2_D1</text></g><g transform=\"translate(741.62,168.53)rotate(0)\"><text style=\"\" x=\"15.00\" y=\"2.81\">O.acuminata_Oax1_C1</text></g><g transform=\"translate(749.42,153.33)rotate(0)\"><text style=\"\" x=\"15.00\" y=\"2.81\">O.victoriae2_B4</text></g><g transform=\"translate(750.22,138.12)rotate(0)\"><text style=\"\" x=\"15.00\" y=\"2.81\">O.victoriae1_A4</text></g><g transform=\"translate(541.54,122.92)rotate(0)\"><text style=\"\" x=\"15.00\" y=\"2.81\">O.glauca_G4</text></g><g transform=\"translate(517.88,107.71)rotate(0)\"><text style=\"\" x=\"15.00\" y=\"2.81\">O.carrilloi_F4</text></g><g transform=\"translate(554.85,92.50)rotate(0)\"><text style=\"\" x=\"15.00\" y=\"2.81\">Ol.fulgor_G5</text></g><g transform=\"translate(537.60,77.30)rotate(0)\"><text style=\"\" x=\"15.00\" y=\"2.81\">Ol.zapoptecorum_F5</text></g><g transform=\"translate(503.75,62.09)rotate(0)\"><text style=\"\" x=\"15.00\" y=\"2.81\">Ol.clarkiae_D5</text></g></g></g></g></g></svg><div class=\"toyplot-behavior\"><script>(function()\n",
       "{\n",
       "var modules={};\n",
       "})();</script></div></div>"
      ]
     },
     "metadata": {},
     "output_type": "display_data"
    }
   ],
   "source": [
    "tree = toytree.tree(\"./analysis-raxml/RAxML_bipartitions.otatea7\")\n",
    "\n",
    "#import real names as dict\n",
    "names = pandas.read_csv(\"nombres_especies_RAD.csv\", index_col=0, squeeze=True, usecols=[0,1])\n",
    "names = names.to_dict() # put them in dict form\n",
    "names[\"reference\"] = \"ref\"\n",
    "\n",
    "# new_tips = [f\"{names[tip]}_{tip[3:]}\" for tip in tree.get_tip_labels()]\n",
    "\n",
    "# set dict with new tips (real name and code)\n",
    "new_tips = {tip:f\"{names[tip]}_{tip[3:]}\" for tip in tree.get_tip_labels()}\n",
    "\n",
    "# alter the tree itself to mantain new names\n",
    "tree = tree.set_node_values(feature=\"name\", values=new_tips)\n",
    "\n",
    "# root tree in Guadua\n",
    "tree = tree.root(wildcard=\"Ol.\")\n",
    "\n",
    "# collapse low support\n",
    "tree = tree.collapse_nodes(min_support=50)\n",
    "\n",
    "# set colors for very bad samples (few reads) AFTER ROOTING\n",
    "# bad_samples = [\"MM_B3\",\"MM_B2\"]  #\"MM_C8\",\"MM_H1\"\n",
    "# new_colors = [\"red\" if tip in [f\"{names[i]}_{i[3:]}\" for i in bad_samples] else \"black\" for tip in tree.get_tip_labels()]\n",
    "\n",
    "c,a,m = tree.draw(width=1000, \n",
    "                  node_labels=tree.get_node_values(\"support\"), \n",
    "                  node_sizes=15,\n",
    "                  # tip_labels_colors=new_colors,\n",
    "                 )"
   ]
  },
  {
   "cell_type": "code",
   "execution_count": 45,
   "id": "3141844c-f553-4a98-a59f-8417355bd808",
   "metadata": {
    "tags": []
   },
   "outputs": [],
   "source": [
    "import toyplot.svg\n",
    "toyplot.svg.render(c, f\"otatea7.svg\")"
   ]
  },
  {
   "cell_type": "markdown",
   "id": "91b59b81-e896-40ac-b781-0e84e379e199",
   "metadata": {},
   "source": [
    "## Otatea7_fullOlmeca\n",
    "\n",
    "\n",
    "In this case I put only as outgroup all olmeca species as outgroup (MM_D5 MM_G5 MM_F5)\n",
    "\n",
    "The command used is:\n",
    "```bash\n",
    "ipyrad -p params-bambus7.txt -b otatea7_fullOlmeca MM_A1 MM_A2 MM_A3 MM_A4 MM_A5 MM_B1 MM_B2 MM_B3 MM_B4 MM_B5 MM_C1 MM_C2 MM_C3 MM_C4 MM_C8 MM_D1 MM_D2 MM_D3 MM_D4 MM_E1 MM_E2 MM_E3 MM_E4 MM_F1 MM_F2 MM_F3 MM_F4 MM_G1 MM_G2 MM_G3 MM_G4 MM_H1 MM_H2 MM_H3 MM_H4 MM_H7 MM_D5 MM_G5 MM_F5 MM_C5 MM_E5\n",
    "```"
   ]
  },
  {
   "cell_type": "code",
   "execution_count": 32,
   "id": "a2882fbb-9a13-4927-adfa-602266ae1807",
   "metadata": {},
   "outputs": [],
   "source": [
    "import ipyrad.analysis as ipa"
   ]
  },
  {
   "cell_type": "code",
   "execution_count": 34,
   "id": "3cd3c5ba-6acb-448c-bb36-5710411332e5",
   "metadata": {},
   "outputs": [],
   "source": [
    "# using winddow extracter to filter bad samples\n",
    "\n",
    "# path for hdf5\n",
    "SEQS = \"./otatea7_fullOlmeca_outfiles/otatea7_fullOlmeca.seqs.hdf5\""
   ]
  },
  {
   "cell_type": "code",
   "execution_count": 48,
   "id": "fbec7cc2-9465-47f9-ae6e-1226723a4435",
   "metadata": {},
   "outputs": [],
   "source": [
    "# ##solving bytes problems in hdf5\n",
    "# # load h5py module\n",
    "# import h5py\n",
    "# import numpy as np\n",
    "\n",
    "\n",
    "# #iterate over all names and change them to bytes\n",
    "# with h5py.File(SEQS, \"a\") as io5:\n",
    "#     names = io5[\"phymap\"].attrs[\"phynames\"]\n",
    "#     del io5[\"phymap\"].attrs[\"phynames\"]\n",
    "#     io5[\"phymap\"].attrs[\"phynames\"] = np.asarray([str.encode(i) for i in names], dtype=bytes)"
   ]
  },
  {
   "cell_type": "code",
   "execution_count": 49,
   "id": "9d2aa21a-9247-42fc-959f-348689e7c83d",
   "metadata": {},
   "outputs": [],
   "source": [
    "# check the number of loci to be sure include all in the analysis.\n",
    "radloci = ipa.window_extracter(SEQS)\n",
    "n_radloci = radloci.scaffold_table.shape[0]\n",
    "\n",
    "loci_toUse = radloci.scaffold_table.index[:-1].tolist() #all loci"
   ]
  },
  {
   "cell_type": "code",
   "execution_count": 23,
   "id": "da14d2de-4367-4f2a-89ba-00bd75f6e44e",
   "metadata": {},
   "outputs": [],
   "source": [
    "wex = ipa.window_extracter(data=SEQS,\n",
    "                           scaffold_idxs=loci_toUse,\n",
    "                           # exclude=bad_samples, #maintaining all samples\n",
    "                           name=\"otatea7_fullOlmeca_min2\",\n",
    "                           mincov=2,\n",
    "                           # rmincov=0.1,\n",
    "                           exclude = [\"reference\"]\n",
    "                          )"
   ]
  },
  {
   "cell_type": "code",
   "execution_count": 24,
   "id": "145fadfb-8e78-4ba9-b5bc-0da24b8c092b",
   "metadata": {},
   "outputs": [
    {
     "data": {
      "text/plain": [
       "(       scaffold  start      end    sites   snps  missing  samples\n",
       " 0  concatenated      0  6295444  6295444  90854    0.729       36,\n",
       " 'otatea7_fullOlmeca_min2')"
      ]
     },
     "execution_count": 24,
     "metadata": {},
     "output_type": "execute_result"
    }
   ],
   "source": [
    "wex.stats, wex.name"
   ]
  },
  {
   "cell_type": "code",
   "execution_count": null,
   "id": "6bab3043-f119-42a3-99ca-7e094db5d886",
   "metadata": {},
   "outputs": [
    {
     "data": {
      "text/html": [
       "<div>\n",
       "<style scoped>\n",
       "    .dataframe tbody tr th:only-of-type {\n",
       "        vertical-align: middle;\n",
       "    }\n",
       "\n",
       "    .dataframe tbody tr th {\n",
       "        vertical-align: top;\n",
       "    }\n",
       "\n",
       "    .dataframe thead th {\n",
       "        text-align: right;\n",
       "    }\n",
       "</style>\n",
       "<table border=\"1\" class=\"dataframe\">\n",
       "  <thead>\n",
       "    <tr style=\"text-align: right;\">\n",
       "      <th></th>\n",
       "      <th>scaffold</th>\n",
       "      <th>start</th>\n",
       "      <th>end</th>\n",
       "      <th>sites</th>\n",
       "      <th>snps</th>\n",
       "      <th>missing</th>\n",
       "      <th>samples</th>\n",
       "    </tr>\n",
       "  </thead>\n",
       "  <tbody>\n",
       "    <tr>\n",
       "      <th>0</th>\n",
       "      <td>concatenated</td>\n",
       "      <td>0</td>\n",
       "      <td>4371244</td>\n",
       "      <td>4371244</td>\n",
       "      <td>111324</td>\n",
       "      <td>0.655</td>\n",
       "      <td>41</td>\n",
       "    </tr>\n",
       "  </tbody>\n",
       "</table>\n",
       "</div>"
      ],
      "text/plain": [
       "       scaffold  start      end    sites    snps  missing  samples\n",
       "0  concatenated      0  4371244  4371244  111324    0.655       41"
      ]
     },
     "execution_count": 84,
     "metadata": {},
     "output_type": "execute_result"
    }
   ],
   "source": [
    "wex.stats, wex.name"
   ]
  },
  {
   "cell_type": "code",
   "execution_count": 25,
   "id": "0bcadb3f-d7be-4d66-a926-a98b2c5d5647",
   "metadata": {},
   "outputs": [
    {
     "name": "stdout",
     "output_type": "stream",
     "text": [
      "Wrote data to /mnt/data0/camayal/GDRIVE/otherCAML/bambus/analysis-window_extracter/otatea7_fullOlmeca_min2.phy\n"
     ]
    }
   ],
   "source": [
    "wex.run(force=True)"
   ]
  },
  {
   "cell_type": "code",
   "execution_count": 86,
   "id": "a78cb6bc-dc2f-4531-bc6c-cc68b84ee38c",
   "metadata": {},
   "outputs": [
    {
     "name": "stdout",
     "output_type": "stream",
     "text": [
      "/home/camayal/miniconda3/envs/ipyrad/bin/raxmlHPC-PTHREADS-AVX2 -f a -T 40 -m GTRCAT -n otatea7_fullOlmeca -w /mnt/data0/camayal/GDRIVE/otherCAML/bambus/analysis-raxml -s /mnt/data0/camayal/GDRIVE/otherCAML/bambus/analysis-window_extracter/otatea7_fullOlmeca.phy -p 54321 -N 100 -x 12345\n"
     ]
    }
   ],
   "source": [
    "rax = ipa.raxml(wex.outfile, name=wex.name, T=40, N=100, m=\"GTRCAT\")\n",
    "print(rax.command)"
   ]
  },
  {
   "cell_type": "code",
   "execution_count": 87,
   "id": "8491f8eb-99bc-4509-af79-a53b65dfa368",
   "metadata": {},
   "outputs": [
    {
     "name": "stdout",
     "output_type": "stream",
     "text": [
      "job otatea7_fullOlmeca finished successfully\n"
     ]
    }
   ],
   "source": [
    "rax.run(force=True)"
   ]
  },
  {
   "cell_type": "code",
   "execution_count": 88,
   "id": "d01755a6-677d-4fd4-ac61-c43cac526932",
   "metadata": {},
   "outputs": [
    {
     "data": {
      "text/plain": [
       "bestTree                   /mnt/data0/camayal/GDRIVE/otherCAML/bambus/analysis-raxml/RAxML_bestTree.otatea7_fullOlmeca\n",
       "bipartitions               /mnt/data0/camayal/GDRIVE/otherCAML/bambus/analysis-raxml/RAxML_bipartitions.otatea7_fullOlmeca\n",
       "bipartitionsBranchLabels   /mnt/data0/camayal/GDRIVE/otherCAML/bambus/analysis-raxml/RAxML_bipartitionsBranchLabels.otatea7_fullOlmeca\n",
       "bootstrap                  /mnt/data0/camayal/GDRIVE/otherCAML/bambus/analysis-raxml/RAxML_bootstrap.otatea7_fullOlmeca\n",
       "info                       /mnt/data0/camayal/GDRIVE/otherCAML/bambus/analysis-raxml/RAxML_info.otatea7_fullOlmeca"
      ]
     },
     "execution_count": 88,
     "metadata": {},
     "output_type": "execute_result"
    }
   ],
   "source": [
    "rax.trees"
   ]
  },
  {
   "cell_type": "code",
   "execution_count": 89,
   "id": "9e4378bd-0d0f-4a6d-96c6-5b706bca68bd",
   "metadata": {},
   "outputs": [],
   "source": [
    "import toytree\n",
    "import pandas"
   ]
  },
  {
   "cell_type": "code",
   "execution_count": 39,
   "id": "fb46abce-4ab7-4601-92e8-55fe796905d8",
   "metadata": {},
   "outputs": [
    {
     "data": {
      "text/html": [
       "<div class=\"toyplot\" id=\"t1065454d4c104058a8b62231a140e08b\" style=\"text-align:center\"><svg class=\"toyplot-canvas-Canvas\" height=\"738.0px\" id=\"tad8bdf8916074e55a35f785a6aa97400\" preserveAspectRatio=\"xMidYMid meet\" style=\"background-color:transparent;border-color:#292724;border-style:none;border-width:1.0;fill:rgb(16.1%,15.3%,14.1%);fill-opacity:1.0;font-family:Helvetica;font-size:12px;opacity:1.0;stroke:rgb(16.1%,15.3%,14.1%);stroke-opacity:1.0;stroke-width:1.0\" viewBox=\"0 0 1000.0 738.0\" width=\"1000.0px\" xmlns=\"http://www.w3.org/2000/svg\" xmlns:toyplot=\"http://www.sandia.gov/toyplot\" xmlns:xlink=\"http://www.w3.org/1999/xlink\"><g class=\"toyplot-coordinates-Cartesian\" id=\"taa3f3dec57424d76a321e764ffb139a0\"><clipPath id=\"td1b74cf4540d4b30958f8c6224b173b1\"><rect height=\"678.0\" width=\"940.0\" x=\"30.0\" y=\"30.0\"></rect></clipPath><g clip-path=\"url(#td1b74cf4540d4b30958f8c6224b173b1)\"><g class=\"toytree-mark-Toytree\" id=\"ta06d650eca974525962dde8962575cc1\"><g class=\"toytree-Edges\" style=\"fill:none;stroke:rgb(14.9%,14.9%,14.9%);stroke-linecap:round;stroke-opacity:1;stroke-width:2\"><path d=\"M 50.0 146.9 L 50.0 87.1 L 228.7 87.1\" id=\"74,73\"></path><path d=\"M 50.0 146.9 L 50.0 206.8 L 228.7 206.8\" id=\"74,72\"></path><path d=\"M 228.7 87.1 L 228.7 69.8 L 501.5 69.8\" id=\"73,71\"></path><path d=\"M 228.7 87.1 L 228.7 104.3 L 461.6 104.3\" id=\"73,70\"></path><path d=\"M 228.7 206.8 L 228.7 146.5 L 260.2 146.5\" id=\"72,69\"></path><path d=\"M 228.7 206.8 L 228.7 267.1 L 260.6 267.1\" id=\"72,68\"></path><path d=\"M 461.6 104.3 L 461.6 115.8 L 569.7 115.8\" id=\"70,67\"></path><path d=\"M 260.6 267.1 L 260.6 192.5 L 507.1 192.5\" id=\"68,66\"></path><path d=\"M 260.6 267.1 L 260.6 341.7 L 306.5 341.7\" id=\"68,65\"></path><path d=\"M 507.1 192.5 L 507.1 177.2 L 563.7 177.2\" id=\"66,64\"></path><path d=\"M 507.1 192.5 L 507.1 207.9 L 563.9 207.9\" id=\"66,63\"></path><path d=\"M 306.5 341.7 L 306.5 452.4 L 340.3 452.4\" id=\"65,62\"></path><path d=\"M 340.3 452.4 L 340.3 280.8 L 380.6 280.8\" id=\"62,61\"></path><path d=\"M 340.3 452.4 L 340.3 392.0 L 405.3 392.0\" id=\"62,60\"></path><path d=\"M 340.3 452.4 L 340.3 488.9 L 367.1 488.9\" id=\"62,59\"></path><path d=\"M 340.3 452.4 L 340.3 668.2 L 368.4 668.2\" id=\"62,58\"></path><path d=\"M 380.6 280.8 L 380.6 257.8 L 421.9 257.8\" id=\"61,57\"></path><path d=\"M 380.6 280.8 L 380.6 303.8 L 435.0 303.8\" id=\"61,56\"></path><path d=\"M 405.3 392.0 L 405.3 376.7 L 456.8 376.7\" id=\"60,55\"></path><path d=\"M 405.3 392.0 L 405.3 407.4 L 511.6 407.4\" id=\"60,54\"></path><path d=\"M 367.1 488.9 L 367.1 438.0 L 431.1 438.0\" id=\"59,53\"></path><path d=\"M 367.1 488.9 L 367.1 539.7 L 396.7 539.7\" id=\"59,52\"></path><path d=\"M 421.9 257.8 L 421.9 269.3 L 538.1 269.3\" id=\"57,51\"></path><path d=\"M 435.0 303.8 L 435.0 315.3 L 557.8 315.3\" id=\"56,50\"></path><path d=\"M 396.7 539.7 L 396.7 480.2 L 429.4 480.2\" id=\"52,49\"></path><path d=\"M 396.7 539.7 L 396.7 545.5 L 430.4 545.5\" id=\"52,48\"></path><path d=\"M 396.7 539.7 L 396.7 593.4 L 412.3 593.4\" id=\"52,47\"></path><path d=\"M 429.4 480.2 L 429.4 499.4 L 527.1 499.4\" id=\"49,46\"></path><path d=\"M 412.3 593.4 L 412.3 576.1 L 482.0 576.1\" id=\"47,45\"></path><path d=\"M 412.3 593.4 L 412.3 610.7 L 437.6 610.7\" id=\"47,44\"></path><path d=\"M 527.1 499.4 L 527.1 484.1 L 555.0 484.1\" id=\"46,43\"></path><path d=\"M 527.1 499.4 L 527.1 514.8 L 568.4 514.8\" id=\"46,42\"></path><path d=\"M 437.6 610.7 L 437.6 622.2 L 461.2 622.2\" id=\"44,41\"></path><path d=\"M 501.5 69.8 L 501.5 62.1 L 790.5 62.1\" id=\"71,40\"></path><path d=\"M 501.5 69.8 L 501.5 77.5 L 837.7 77.5\" id=\"71,39\"></path><path d=\"M 461.6 104.3 L 461.6 92.8 L 600.4 92.8\" id=\"70,38\"></path><path d=\"M 569.7 115.8 L 569.7 108.2 L 645.7 108.2\" id=\"67,37\"></path><path d=\"M 569.7 115.8 L 569.7 123.5 L 627.2 123.5\" id=\"67,36\"></path><path d=\"M 260.2 146.5 L 260.2 138.8 L 380.2 138.8\" id=\"69,35\"></path><path d=\"M 260.2 146.5 L 260.2 154.2 L 403.2 154.2\" id=\"69,34\"></path><path d=\"M 563.7 177.2 L 563.7 169.5 L 573.6 169.5\" id=\"64,33\"></path><path d=\"M 563.7 177.2 L 563.7 184.9 L 573.2 184.9\" id=\"64,32\"></path><path d=\"M 563.9 207.9 L 563.9 200.2 L 566.4 200.2\" id=\"63,31\"></path><path d=\"M 563.9 207.9 L 563.9 215.6 L 566.5 215.6\" id=\"63,30\"></path><path d=\"M 306.5 341.7 L 306.5 230.9 L 534.0 230.9\" id=\"65,29\"></path><path d=\"M 421.9 257.8 L 421.9 246.2 L 576.7 246.2\" id=\"57,28\"></path><path d=\"M 538.1 269.3 L 538.1 261.6 L 560.8 261.6\" id=\"51,27\"></path><path d=\"M 538.1 269.3 L 538.1 276.9 L 556.9 276.9\" id=\"51,26\"></path><path d=\"M 435.0 303.8 L 435.0 292.3 L 602.3 292.3\" id=\"56,25\"></path><path d=\"M 557.8 315.3 L 557.8 307.6 L 564.1 307.6\" id=\"50,24\"></path><path d=\"M 557.8 315.3 L 557.8 323.0 L 562.3 323.0\" id=\"50,23\"></path><path d=\"M 340.3 452.4 L 340.3 338.3 L 475.6 338.3\" id=\"62,22\"></path><path d=\"M 340.3 452.4 L 340.3 353.7 L 403.3 353.7\" id=\"62,21\"></path><path d=\"M 456.8 376.7 L 456.8 369.0 L 491.2 369.0\" id=\"55,20\"></path><path d=\"M 456.8 376.7 L 456.8 384.3 L 470.1 384.3\" id=\"55,19\"></path><path d=\"M 511.6 407.4 L 511.6 399.7 L 515.5 399.7\" id=\"54,18\"></path><path d=\"M 511.6 407.4 L 511.6 415.0 L 517.3 415.0\" id=\"54,17\"></path><path d=\"M 431.1 438.0 L 431.1 430.4 L 476.5 430.4\" id=\"53,16\"></path><path d=\"M 431.1 438.0 L 431.1 445.7 L 453.9 445.7\" id=\"53,15\"></path><path d=\"M 429.4 480.2 L 429.4 461.1 L 541.1 461.1\" id=\"49,14\"></path><path d=\"M 555.0 484.1 L 555.0 476.4 L 565.7 476.4\" id=\"43,13\"></path><path d=\"M 555.0 484.1 L 555.0 491.8 L 572.8 491.8\" id=\"43,12\"></path><path d=\"M 568.4 514.8 L 568.4 507.1 L 571.8 507.1\" id=\"42,11\"></path><path d=\"M 568.4 514.8 L 568.4 522.4 L 571.7 522.4\" id=\"42,10\"></path><path d=\"M 430.4 545.5 L 430.4 537.8 L 488.2 537.8\" id=\"48,9\"></path><path d=\"M 430.4 545.5 L 430.4 553.1 L 455.8 553.1\" id=\"48,8\"></path><path d=\"M 482.0 576.1 L 482.0 568.5 L 504.6 568.5\" id=\"45,7\"></path><path d=\"M 482.0 576.1 L 482.0 583.8 L 499.1 583.8\" id=\"45,6\"></path><path d=\"M 437.6 610.7 L 437.6 599.2 L 519.1 599.2\" id=\"44,5\"></path><path d=\"M 461.2 622.2 L 461.2 614.5 L 507.6 614.5\" id=\"41,4\"></path><path d=\"M 461.2 622.2 L 461.2 629.8 L 506.9 629.8\" id=\"41,3\"></path><path d=\"M 340.3 452.4 L 340.3 645.2 L 427.0 645.2\" id=\"62,2\"></path><path d=\"M 368.4 668.2 L 368.4 660.5 L 381.1 660.5\" id=\"58,1\"></path><path d=\"M 368.4 668.2 L 368.4 675.9 L 380.6 675.9\" id=\"58,0\"></path></g><g class=\"toytree-Nodes\" style=\"fill:rgb(40%,76.1%,64.7%);fill-opacity:1.0;stroke:None;stroke-width:1\"><g id=\"node-0\" transform=\"translate(380.590,675.879)\"><circle r=\"0.0\"></circle></g><g id=\"node-1\" transform=\"translate(381.068,660.535)\"><circle r=\"0.0\"></circle></g><g id=\"node-2\" transform=\"translate(427.002,645.191)\"><circle r=\"0.0\"></circle></g><g id=\"node-3\" transform=\"translate(506.861,629.847)\"><circle r=\"0.0\"></circle></g><g id=\"node-4\" transform=\"translate(507.608,614.503)\"><circle r=\"0.0\"></circle></g><g id=\"node-5\" transform=\"translate(519.089,599.159)\"><circle r=\"0.0\"></circle></g><g id=\"node-6\" transform=\"translate(499.076,583.815)\"><circle r=\"0.0\"></circle></g><g id=\"node-7\" transform=\"translate(504.601,568.471)\"><circle r=\"0.0\"></circle></g><g id=\"node-8\" transform=\"translate(455.811,553.127)\"><circle r=\"0.0\"></circle></g><g id=\"node-9\" transform=\"translate(488.194,537.783)\"><circle r=\"0.0\"></circle></g><g id=\"node-10\" transform=\"translate(571.717,522.439)\"><circle r=\"0.0\"></circle></g><g id=\"node-11\" transform=\"translate(571.847,507.095)\"><circle r=\"0.0\"></circle></g><g id=\"node-12\" transform=\"translate(572.761,491.752)\"><circle r=\"0.0\"></circle></g><g id=\"node-13\" transform=\"translate(565.660,476.408)\"><circle r=\"0.0\"></circle></g><g id=\"node-14\" transform=\"translate(541.056,461.064)\"><circle r=\"0.0\"></circle></g><g id=\"node-15\" transform=\"translate(453.887,445.720)\"><circle r=\"0.0\"></circle></g><g id=\"node-16\" transform=\"translate(476.458,430.376)\"><circle r=\"0.0\"></circle></g><g id=\"node-17\" transform=\"translate(517.297,415.032)\"><circle r=\"0.0\"></circle></g><g id=\"node-18\" transform=\"translate(515.541,399.688)\"><circle r=\"0.0\"></circle></g><g id=\"node-19\" transform=\"translate(470.072,384.344)\"><circle r=\"0.0\"></circle></g><g id=\"node-20\" transform=\"translate(491.166,369.000)\"><circle r=\"0.0\"></circle></g><g id=\"node-21\" transform=\"translate(403.308,353.656)\"><circle r=\"0.0\"></circle></g><g id=\"node-22\" transform=\"translate(475.603,338.312)\"><circle r=\"0.0\"></circle></g><g id=\"node-23\" transform=\"translate(562.339,322.968)\"><circle r=\"0.0\"></circle></g><g id=\"node-24\" transform=\"translate(564.076,307.624)\"><circle r=\"0.0\"></circle></g><g id=\"node-25\" transform=\"translate(602.325,292.280)\"><circle r=\"0.0\"></circle></g><g id=\"node-26\" transform=\"translate(556.854,276.936)\"><circle r=\"0.0\"></circle></g><g id=\"node-27\" transform=\"translate(560.804,261.592)\"><circle r=\"0.0\"></circle></g><g id=\"node-28\" transform=\"translate(576.656,246.248)\"><circle r=\"0.0\"></circle></g><g id=\"node-29\" transform=\"translate(533.994,230.905)\"><circle r=\"0.0\"></circle></g><g id=\"node-30\" transform=\"translate(566.513,215.561)\"><circle r=\"0.0\"></circle></g><g id=\"node-31\" transform=\"translate(566.430,200.217)\"><circle r=\"0.0\"></circle></g><g id=\"node-32\" transform=\"translate(573.193,184.873)\"><circle r=\"0.0\"></circle></g><g id=\"node-33\" transform=\"translate(573.582,169.529)\"><circle r=\"0.0\"></circle></g><g id=\"node-34\" transform=\"translate(403.227,154.185)\"><circle r=\"0.0\"></circle></g><g id=\"node-35\" transform=\"translate(380.208,138.841)\"><circle r=\"0.0\"></circle></g><g id=\"node-36\" transform=\"translate(627.193,123.497)\"><circle r=\"0.0\"></circle></g><g id=\"node-37\" transform=\"translate(645.650,108.153)\"><circle r=\"0.0\"></circle></g><g id=\"node-38\" transform=\"translate(600.384,92.809)\"><circle r=\"0.0\"></circle></g><g id=\"node-39\" transform=\"translate(837.652,77.465)\"><circle r=\"0.0\"></circle></g><g id=\"node-40\" transform=\"translate(790.470,62.121)\"><circle r=\"0.0\"></circle></g><g id=\"node-41\" transform=\"translate(461.191,622.175)\"><circle r=\"7.5\"></circle></g><g id=\"node-42\" transform=\"translate(568.440,514.767)\"><circle r=\"7.5\"></circle></g><g id=\"node-43\" transform=\"translate(554.953,484.080)\"><circle r=\"7.5\"></circle></g><g id=\"node-44\" transform=\"translate(437.608,610.667)\"><circle r=\"7.5\"></circle></g><g id=\"node-45\" transform=\"translate(482.021,576.143)\"><circle r=\"7.5\"></circle></g><g id=\"node-46\" transform=\"translate(527.129,499.423)\"><circle r=\"7.5\"></circle></g><g id=\"node-47\" transform=\"translate(412.272,593.405)\"><circle r=\"7.5\"></circle></g><g id=\"node-48\" transform=\"translate(430.389,545.455)\"><circle r=\"7.5\"></circle></g><g id=\"node-49\" transform=\"translate(429.399,480.244)\"><circle r=\"7.5\"></circle></g><g id=\"node-50\" transform=\"translate(557.833,315.296)\"><circle r=\"7.5\"></circle></g><g id=\"node-51\" transform=\"translate(538.112,269.264)\"><circle r=\"7.5\"></circle></g><g id=\"node-52\" transform=\"translate(396.655,539.701)\"><circle r=\"7.5\"></circle></g><g id=\"node-53\" transform=\"translate(431.062,438.048)\"><circle r=\"7.5\"></circle></g><g id=\"node-54\" transform=\"translate(511.610,407.360)\"><circle r=\"7.5\"></circle></g><g id=\"node-55\" transform=\"translate(456.785,376.672)\"><circle r=\"7.5\"></circle></g><g id=\"node-56\" transform=\"translate(434.981,303.788)\"><circle r=\"7.5\"></circle></g><g id=\"node-57\" transform=\"translate(421.870,257.756)\"><circle r=\"7.5\"></circle></g><g id=\"node-58\" transform=\"translate(368.391,668.207)\"><circle r=\"7.5\"></circle></g><g id=\"node-59\" transform=\"translate(367.072,488.875)\"><circle r=\"7.5\"></circle></g><g id=\"node-60\" transform=\"translate(405.318,392.016)\"><circle r=\"7.5\"></circle></g><g id=\"node-61\" transform=\"translate(380.568,280.772)\"><circle r=\"7.5\"></circle></g><g id=\"node-62\" transform=\"translate(340.310,452.433)\"><circle r=\"7.5\"></circle></g><g id=\"node-63\" transform=\"translate(563.865,207.889)\"><circle r=\"7.5\"></circle></g><g id=\"node-64\" transform=\"translate(563.669,177.201)\"><circle r=\"7.5\"></circle></g><g id=\"node-65\" transform=\"translate(306.499,341.669)\"><circle r=\"7.5\"></circle></g><g id=\"node-66\" transform=\"translate(507.076,192.545)\"><circle r=\"7.5\"></circle></g><g id=\"node-67\" transform=\"translate(569.659,115.825)\"><circle r=\"7.5\"></circle></g><g id=\"node-68\" transform=\"translate(260.649,267.107)\"><circle r=\"7.5\"></circle></g><g id=\"node-69\" transform=\"translate(260.179,146.513)\"><circle r=\"7.5\"></circle></g><g id=\"node-70\" transform=\"translate(461.575,104.317)\"><circle r=\"7.5\"></circle></g><g id=\"node-71\" transform=\"translate(501.548,69.793)\"><circle r=\"7.5\"></circle></g><g id=\"node-72\" transform=\"translate(228.737,206.810)\"><circle r=\"7.5\"></circle></g><g id=\"node-73\" transform=\"translate(228.737,87.055)\"><circle r=\"7.5\"></circle></g><g id=\"node-74\" transform=\"translate(50.000,146.932)\"><circle r=\"0.0\"></circle></g></g><g class=\"toytree-NodeLabels\" style=\"fill:rgb(14.9%,14.9%,14.9%);fill-opacity:1.0;font-size:9px;stroke:none\"><g transform=\"translate(456.19,624.47)\"><text>99</text></g><g transform=\"translate(560.93,517.07)\"><text>100</text></g><g transform=\"translate(547.45,486.38)\"><text>100</text></g><g transform=\"translate(432.60,612.97)\"><text>99</text></g><g transform=\"translate(474.51,578.44)\"><text>100</text></g><g transform=\"translate(519.62,501.72)\"><text>100</text></g><g transform=\"translate(407.27,595.70)\"><text>99</text></g><g transform=\"translate(425.39,547.75)\"><text>99</text></g><g transform=\"translate(421.89,482.54)\"><text>100</text></g><g transform=\"translate(550.33,317.60)\"><text>100</text></g><g transform=\"translate(533.11,271.56)\"><text>99</text></g><g transform=\"translate(391.65,542.00)\"><text>98</text></g><g transform=\"translate(423.56,440.35)\"><text>100</text></g><g transform=\"translate(506.61,409.66)\"><text>95</text></g><g transform=\"translate(449.28,378.97)\"><text>100</text></g><g transform=\"translate(429.98,306.09)\"><text>97</text></g><g transform=\"translate(416.87,260.06)\"><text>92</text></g><g transform=\"translate(363.39,670.51)\"><text>98</text></g><g transform=\"translate(362.07,491.17)\"><text>97</text></g><g transform=\"translate(400.31,394.32)\"><text>95</text></g><g transform=\"translate(375.56,283.07)\"><text>85</text></g><g transform=\"translate(335.31,454.73)\"><text>55</text></g><g transform=\"translate(556.36,210.19)\"><text>100</text></g><g transform=\"translate(556.16,179.50)\"><text>100</text></g><g transform=\"translate(301.49,343.97)\"><text>93</text></g><g transform=\"translate(499.57,194.84)\"><text>100</text></g><g transform=\"translate(562.15,118.12)\"><text>100</text></g><g transform=\"translate(255.65,269.41)\"><text>82</text></g><g transform=\"translate(255.17,148.81)\"><text>96</text></g><g transform=\"translate(454.07,106.62)\"><text>100</text></g><g transform=\"translate(494.04,72.09)\"><text>100</text></g><g transform=\"translate(221.23,209.11)\"><text>100</text></g><g transform=\"translate(221.23,89.35)\"><text>100</text></g></g><g class=\"toytree-TipLabels\" style=\"fill:rgb(14.9%,14.9%,14.9%);fill-opacity:1.0;font-family:helvetica;font-size:11px;font-weight:normal;stroke:none;white-space:pre\"><g transform=\"translate(380.59,675.88)rotate(0)\"><text style=\"\" x=\"15.00\" y=\"2.81\">O.nayeeri_478_A5</text></g><g transform=\"translate(381.07,660.53)rotate(0)\"><text style=\"\" x=\"15.00\" y=\"2.81\">O.nayeeri_E4</text></g><g transform=\"translate(427.00,645.19)rotate(0)\"><text style=\"\" x=\"15.00\" y=\"2.81\">O.ramirezii_C8</text></g><g transform=\"translate(506.86,629.85)rotate(0)\"><text style=\"\" x=\"15.00\" y=\"2.81\">O.acuminata_Colima_F1</text></g><g transform=\"translate(507.61,614.50)rotate(0)\"><text style=\"\" x=\"15.00\" y=\"2.81\">O.acuminata_CG_Jal_G1</text></g><g transform=\"translate(519.09,599.16)rotate(0)\"><text style=\"\" x=\"15.00\" y=\"2.81\">O.acuminata_Teq_Jal_E1</text></g><g transform=\"translate(499.08,583.82)rotate(0)\"><text style=\"\" x=\"15.00\" y=\"2.81\">O.acuminata_SG_Jal1_H2</text></g><g transform=\"translate(504.60,568.47)rotate(0)\"><text style=\"\" x=\"15.00\" y=\"2.81\">O.acuminata_SG_Jal2_A3</text></g><g transform=\"translate(455.81,553.13)rotate(0)\"><text style=\"\" x=\"15.00\" y=\"2.81\">O.acuminata_Mich_A2</text></g><g transform=\"translate(488.19,537.78)rotate(0)\"><text style=\"\" x=\"15.00\" y=\"2.81\">O.acuminata_Mich_Luz_C2</text></g><g transform=\"translate(571.72,522.44)rotate(0)\"><text style=\"\" x=\"15.00\" y=\"2.81\">O.acuminata_Ags2_E2</text></g><g transform=\"translate(571.85,507.10)rotate(0)\"><text style=\"\" x=\"15.00\" y=\"2.81\">O.acuminata_Ags1_D2</text></g><g transform=\"translate(572.76,491.75)rotate(0)\"><text style=\"\" x=\"15.00\" y=\"2.81\">O.acuminata_Zac1_F2</text></g><g transform=\"translate(565.66,476.41)rotate(0)\"><text style=\"\" x=\"15.00\" y=\"2.81\">O.acuminata_Zac2_G2</text></g><g transform=\"translate(541.06,461.06)rotate(0)\"><text style=\"\" x=\"15.00\" y=\"2.81\">O. odam_D3</text></g><g transform=\"translate(453.89,445.72)rotate(0)\"><text style=\"\" x=\"15.00\" y=\"2.81\">O.acuminata_Seb_Jal_B3</text></g><g transform=\"translate(476.46,430.38)rotate(0)\"><text style=\"\" x=\"15.00\" y=\"2.81\">O.acuminata_PV_Jal_C3</text></g><g transform=\"translate(517.30,415.03)rotate(0)\"><text style=\"\" x=\"15.00\" y=\"2.81\">O.acuminata_Ver2_B1</text></g><g transform=\"translate(515.54,399.69)rotate(0)\"><text style=\"\" x=\"15.00\" y=\"2.81\">O.acuminata_Ver1_A1</text></g><g transform=\"translate(470.07,384.34)rotate(0)\"><text style=\"\" x=\"15.00\" y=\"2.81\">O.acuminata_Gro_B2</text></g><g transform=\"translate(491.17,369.00)rotate(0)\"><text style=\"\" x=\"15.00\" y=\"2.81\">O.acuminata_Oax_H7</text></g><g transform=\"translate(403.31,353.66)rotate(0)\"><text style=\"\" x=\"15.00\" y=\"2.81\">O.acuminata_SLP_H1</text></g><g transform=\"translate(475.60,338.31)rotate(0)\"><text style=\"\" x=\"15.00\" y=\"2.81\">O.reynosoana_H4</text></g><g transform=\"translate(562.34,322.97)rotate(0)\"><text style=\"\" x=\"15.00\" y=\"2.81\">O.victoriae_Mich2_D4</text></g><g transform=\"translate(564.08,307.62)rotate(0)\"><text style=\"\" x=\"15.00\" y=\"2.81\">O.victoriae_Mich1_C4</text></g><g transform=\"translate(602.33,292.28)rotate(0)\"><text style=\"\" x=\"15.00\" y=\"2.81\">O.transvolcanica_B5</text></g><g transform=\"translate(556.85,276.94)rotate(0)\"><text style=\"\" x=\"15.00\" y=\"2.81\">O.ximenae_Oax1_G3</text></g><g transform=\"translate(560.80,261.59)rotate(0)\"><text style=\"\" x=\"15.00\" y=\"2.81\">O.ximenae_Oax2_H3</text></g><g transform=\"translate(576.66,246.25)rotate(0)\"><text style=\"\" x=\"15.00\" y=\"2.81\">O.fimbriata_F3</text></g><g transform=\"translate(533.99,230.90)rotate(0)\"><text style=\"\" x=\"15.00\" y=\"2.81\">O.rezdowskiourm_E3</text></g><g transform=\"translate(566.51,215.56)rotate(0)\"><text style=\"\" x=\"15.00\" y=\"2.81\">O.acuminata_Oax1_C1</text></g><g transform=\"translate(566.43,200.22)rotate(0)\"><text style=\"\" x=\"15.00\" y=\"2.81\">O.acuminata_Oax2_D1</text></g><g transform=\"translate(573.19,184.87)rotate(0)\"><text style=\"\" x=\"15.00\" y=\"2.81\">O.victoriae2_B4</text></g><g transform=\"translate(573.58,169.53)rotate(0)\"><text style=\"\" x=\"15.00\" y=\"2.81\">O.victoriae1_A4</text></g><g transform=\"translate(403.23,154.18)rotate(0)\"><text style=\"\" x=\"15.00\" y=\"2.81\">O.glauca_G4</text></g><g transform=\"translate(380.21,138.84)rotate(0)\"><text style=\"\" x=\"15.00\" y=\"2.81\">O.carrilloi_F4</text></g><g transform=\"translate(627.19,123.50)rotate(0)\"><text style=\"\" x=\"15.00\" y=\"2.81\">Ol.zapoptecorum_F5</text></g><g transform=\"translate(645.65,108.15)rotate(0)\"><text style=\"\" x=\"15.00\" y=\"2.81\">Ol.fulgor_G5</text></g><g transform=\"translate(600.38,92.81)rotate(0)\"><text style=\"\" x=\"15.00\" y=\"2.81\">Ol.clarkiae_D5</text></g><g transform=\"translate(837.65,77.47)rotate(0)\"><text style=\"\" x=\"15.00\" y=\"2.81\">Ol.reflexa_C5</text></g><g transform=\"translate(790.47,62.12)rotate(0)\"><text style=\"\" x=\"15.00\" y=\"2.81\">Ol.recta_E5</text></g></g></g></g></g></svg><div class=\"toyplot-behavior\"><script>(function()\n",
       "{\n",
       "var modules={};\n",
       "})();</script></div></div>"
      ]
     },
     "metadata": {},
     "output_type": "display_data"
    }
   ],
   "source": [
    "tree = toytree.tree(\"./analysis-raxml/RAxML_bipartitions.otatea7_fullOlmeca_min2\")\n",
    "\n",
    "#import real names as dict\n",
    "names = pandas.read_csv(\"nombres_especies_RAD.csv\", index_col=0, squeeze=True, usecols=[0,1])\n",
    "names = names.to_dict() # put them in dict form\n",
    "names[\"reference\"] = \"ref\"\n",
    "\n",
    "# new_tips = [f\"{names[tip]}_{tip[3:]}\" for tip in tree.get_tip_labels()]\n",
    "\n",
    "# set dict with new tips (real name and code)\n",
    "new_tips = {tip:f\"{names[tip]}_{tip[3:]}\" for tip in tree.get_tip_labels()}\n",
    "\n",
    "# alter the tree itself to mantain new names\n",
    "tree = tree.set_node_values(feature=\"name\", values=new_tips)\n",
    "\n",
    "# root tree in Guadua\n",
    "tree = tree.root(wildcard=\"Ol.\")\n",
    "\n",
    "# collapse low supports\n",
    "tree = tree.collapse_nodes(min_support=50)\n",
    "\n",
    "# set colors for very bad samples (few reads) AFTER ROOTING\n",
    "# bad_samples = [\"MM_B3\",\"MM_B2\"]  #\"MM_C8\",\"MM_H1\"\n",
    "# new_colors = [\"red\" if tip in [f\"{names[i]}_{i[3:]}\" for i in bad_samples] else \"black\" for tip in tree.get_tip_labels()]\n",
    "\n",
    "c,a,m = tree.draw(width=1000, \n",
    "                  node_labels=tree.get_node_values(\"support\"), \n",
    "                  node_sizes=15,\n",
    "                  # tip_labels_colors=new_colors,\n",
    "                 )"
   ]
  },
  {
   "cell_type": "code",
   "execution_count": 91,
   "id": "0824a114-dd7c-4b72-9270-97eb29d28b5c",
   "metadata": {
    "tags": []
   },
   "outputs": [],
   "source": [
    "import toyplot.svg\n",
    "toyplot.svg.render(c, f\"otatea7_fullOlmeca_mincov2.svg\")"
   ]
  },
  {
   "cell_type": "markdown",
   "id": "6df9ece4-a95f-478a-b751-bbbcc8e14f79",
   "metadata": {},
   "source": [
    "Values of missing data for all experiments\n",
    "\n",
    "```\n",
    "{'otatea7_fullOlmeca_min2':        scaffold  start      end    sites    snps  missing  samples\n",
    " 0  concatenated      0  6971558  6971558  112990    0.762       41,\n",
    " 'otatea7_fullOlmeca_min3':        scaffold  start      end    sites    snps  missing  samples\n",
    " 0  concatenated      0  5218909  5218909  112778    0.699       41,\n",
    " 'otatea7_fullOlmeca_min4':        scaffold  start      end    sites    snps  missing  samples\n",
    " 0  concatenated      0  4371244  4371244  111324    0.655       41,\n",
    " 'otatea7_fullOlmeca_min5':        scaffold  start      end    sites    snps  missing  samples\n",
    " 0  concatenated      0  3787908  3787908  106232    0.616       41}\n",
    " ```"
   ]
  },
  {
   "cell_type": "markdown",
   "id": "b1e7e0da-44c1-47e4-8409-e6f5ee4c97d7",
   "metadata": {
    "tags": []
   },
   "source": [
    "## Only otatea without outgroup\n",
    "\n",
    "ipyrad -p params-bambus7.txt -b otatea7_ONLY MM_A1 MM_A2 MM_A3 MM_A4 MM_A5 MM_B1 MM_B2 MM_B3 MM_B4 MM_B5 MM_C1 MM_C2 MM_C3 MM_C4 MM_C8 MM_D1 MM_D2 MM_D3 MM_D4 MM_E1 MM_E2 MM_E3 MM_E4 MM_F1 MM_F2 MM_F3 MM_F4 MM_G1 MM_G2 MM_G3 MM_G4 MM_H1 MM_H2 MM_H3 MM_H4 MM_H7"
   ]
  },
  {
   "cell_type": "code",
   "execution_count": 1,
   "id": "b65fa88f-5752-49a5-b09f-d44d82ace108",
   "metadata": {},
   "outputs": [],
   "source": [
    "import ipyrad.analysis as ipa"
   ]
  },
  {
   "cell_type": "code",
   "execution_count": 4,
   "id": "d493864e-8299-4206-80b2-5adc8fa8e64b",
   "metadata": {},
   "outputs": [],
   "source": [
    "# using winddow extracter to filter bad samples\n",
    "\n",
    "# path for hdf5\n",
    "SEQS = \"./otatea7_ONLY_outfiles/otatea7_ONLY.seqs.hdf5\""
   ]
  },
  {
   "cell_type": "code",
   "execution_count": 5,
   "id": "841b9c2c-1c7f-4286-b706-a7f23d5feeee",
   "metadata": {},
   "outputs": [],
   "source": [
    "# # ##solving bytes problems in hdf5\n",
    "# # # load h5py module\n",
    "# import h5py\n",
    "# import numpy as np\n",
    "\n",
    "\n",
    "# #iterate over all names and change them to bytes\n",
    "# with h5py.File(SEQS, \"a\") as io5:\n",
    "#     names = io5[\"phymap\"].attrs[\"phynames\"]\n",
    "#     del io5[\"phymap\"].attrs[\"phynames\"]\n",
    "#     io5[\"phymap\"].attrs[\"phynames\"] = np.asarray([str.encode(i) for i in names], dtype=bytes)"
   ]
  },
  {
   "cell_type": "code",
   "execution_count": 6,
   "id": "044516ec-cef5-441e-953f-9319be5b647c",
   "metadata": {},
   "outputs": [],
   "source": [
    "# check the number of loci to be sure include all in the analysis.\n",
    "radloci = ipa.window_extracter(SEQS)\n",
    "n_radloci = radloci.scaffold_table.shape[0]\n",
    "\n",
    "loci_toUse = radloci.scaffold_table.index[:-1].tolist() #all loci"
   ]
  },
  {
   "cell_type": "code",
   "execution_count": 9,
   "id": "6670301f-690b-40f3-b87b-9741a0b1aac5",
   "metadata": {},
   "outputs": [],
   "source": [
    "wex = ipa.window_extracter(data=SEQS,\n",
    "                           scaffold_idxs=loci_toUse,\n",
    "                           # exclude=bad_samples, #maintaining all samples\n",
    "                           name=\"otatea7_ONLY\",\n",
    "                           mincov=2,\n",
    "                           # rmincov=0.1,\n",
    "                           exclude = [\"reference\"]\n",
    "                          )"
   ]
  },
  {
   "cell_type": "code",
   "execution_count": 10,
   "id": "7c1bd175-8afd-4ff6-8008-0d5b158d1c15",
   "metadata": {},
   "outputs": [
    {
     "data": {
      "text/html": [
       "<div>\n",
       "<style scoped>\n",
       "    .dataframe tbody tr th:only-of-type {\n",
       "        vertical-align: middle;\n",
       "    }\n",
       "\n",
       "    .dataframe tbody tr th {\n",
       "        vertical-align: top;\n",
       "    }\n",
       "\n",
       "    .dataframe thead th {\n",
       "        text-align: right;\n",
       "    }\n",
       "</style>\n",
       "<table border=\"1\" class=\"dataframe\">\n",
       "  <thead>\n",
       "    <tr style=\"text-align: right;\">\n",
       "      <th></th>\n",
       "      <th>scaffold</th>\n",
       "      <th>start</th>\n",
       "      <th>end</th>\n",
       "      <th>sites</th>\n",
       "      <th>snps</th>\n",
       "      <th>missing</th>\n",
       "      <th>samples</th>\n",
       "    </tr>\n",
       "  </thead>\n",
       "  <tbody>\n",
       "    <tr>\n",
       "      <th>0</th>\n",
       "      <td>concatenated</td>\n",
       "      <td>0</td>\n",
       "      <td>6295444</td>\n",
       "      <td>6295444</td>\n",
       "      <td>90854</td>\n",
       "      <td>0.729</td>\n",
       "      <td>36</td>\n",
       "    </tr>\n",
       "  </tbody>\n",
       "</table>\n",
       "</div>"
      ],
      "text/plain": [
       "       scaffold  start      end    sites   snps  missing  samples\n",
       "0  concatenated      0  6295444  6295444  90854    0.729       36"
      ]
     },
     "execution_count": 10,
     "metadata": {},
     "output_type": "execute_result"
    }
   ],
   "source": [
    "wex.stats"
   ]
  },
  {
   "cell_type": "code",
   "execution_count": 11,
   "id": "df26ab47-35ec-46a9-b705-ab2a97348935",
   "metadata": {},
   "outputs": [
    {
     "name": "stdout",
     "output_type": "stream",
     "text": [
      "Wrote data to /mnt/data0/camayal/GDRIVE/otherCAML/bambus/analysis-window_extracter/otatea7_ONLY.phy\n"
     ]
    }
   ],
   "source": [
    "wex.run(force=True)"
   ]
  },
  {
   "cell_type": "code",
   "execution_count": 12,
   "id": "8f8519af-b853-457f-9d6c-b0d7598d1bb6",
   "metadata": {},
   "outputs": [
    {
     "name": "stdout",
     "output_type": "stream",
     "text": [
      "/home/camayal/miniconda3/envs/ipyrad/bin/raxmlHPC-PTHREADS-AVX2 -f a -T 40 -m GTRCAT -n otatea7_ONLY -w /mnt/data0/camayal/GDRIVE/otherCAML/bambus/analysis-raxml -s /mnt/data0/camayal/GDRIVE/otherCAML/bambus/analysis-window_extracter/otatea7_ONLY.phy -p 54321 -N 100 -x 12345\n"
     ]
    }
   ],
   "source": [
    "rax = ipa.raxml(wex.outfile, name=wex.name, T=40, N=100, m=\"GTRCAT\")\n",
    "print(rax.command)"
   ]
  },
  {
   "cell_type": "code",
   "execution_count": 13,
   "id": "59a86caa-c94b-42d6-8378-dbd00d72db53",
   "metadata": {},
   "outputs": [
    {
     "name": "stdout",
     "output_type": "stream",
     "text": [
      "job otatea7_ONLY finished successfully\n"
     ]
    }
   ],
   "source": [
    "rax.run(force=True)"
   ]
  },
  {
   "cell_type": "code",
   "execution_count": 14,
   "id": "99afebbc-f4a3-472a-bcb9-0cb53324f5db",
   "metadata": {},
   "outputs": [
    {
     "data": {
      "text/plain": [
       "bestTree                   /mnt/data0/camayal/GDRIVE/otherCAML/bambus/analysis-raxml/RAxML_bestTree.otatea7_ONLY\n",
       "bipartitions               /mnt/data0/camayal/GDRIVE/otherCAML/bambus/analysis-raxml/RAxML_bipartitions.otatea7_ONLY\n",
       "bipartitionsBranchLabels   /mnt/data0/camayal/GDRIVE/otherCAML/bambus/analysis-raxml/RAxML_bipartitionsBranchLabels.otatea7_ONLY\n",
       "bootstrap                  /mnt/data0/camayal/GDRIVE/otherCAML/bambus/analysis-raxml/RAxML_bootstrap.otatea7_ONLY\n",
       "info                       /mnt/data0/camayal/GDRIVE/otherCAML/bambus/analysis-raxml/RAxML_info.otatea7_ONLY"
      ]
     },
     "execution_count": 14,
     "metadata": {},
     "output_type": "execute_result"
    }
   ],
   "source": [
    "rax.trees"
   ]
  },
  {
   "cell_type": "code",
   "execution_count": 16,
   "id": "30bc948d-f8e5-48af-904c-8c01c5553130",
   "metadata": {},
   "outputs": [],
   "source": [
    "import toytree\n",
    "import pandas"
   ]
  },
  {
   "cell_type": "code",
   "execution_count": 20,
   "id": "9e88aa44-98d2-4d76-9404-a87a216f2cbe",
   "metadata": {},
   "outputs": [
    {
     "data": {
      "text/html": [
       "<div class=\"toyplot\" id=\"t9687f659e89e4f3a946bca74742dff22\" style=\"text-align:center\"><svg class=\"toyplot-canvas-Canvas\" height=\"648.0px\" id=\"tf93aeb142371458dba49697161395d0a\" preserveAspectRatio=\"xMidYMid meet\" style=\"background-color:transparent;border-color:#292724;border-style:none;border-width:1.0;fill:rgb(16.1%,15.3%,14.1%);fill-opacity:1.0;font-family:Helvetica;font-size:12px;opacity:1.0;stroke:rgb(16.1%,15.3%,14.1%);stroke-opacity:1.0;stroke-width:1.0\" viewBox=\"0 0 1000.0 648.0\" width=\"1000.0px\" xmlns=\"http://www.w3.org/2000/svg\" xmlns:toyplot=\"http://www.sandia.gov/toyplot\" xmlns:xlink=\"http://www.w3.org/1999/xlink\"><g class=\"toyplot-coordinates-Cartesian\" id=\"t7c3660ac0fa646809ad09360355b241a\"><clipPath id=\"td34b196f8df340f1b4d537769762b2c4\"><rect height=\"588.0\" width=\"940.0\" x=\"30.0\" y=\"30.0\"></rect></clipPath><g clip-path=\"url(#td34b196f8df340f1b4d537769762b2c4)\"><g class=\"toytree-mark-Toytree\" id=\"t4dc3392a37c54da9ba83495c613a9170\"><g class=\"toytree-Edges\" style=\"fill:none;stroke:rgb(14.9%,14.9%,14.9%);stroke-linecap:round;stroke-opacity:1;stroke-width:2\"><path d=\"M 50.0 185.6 L 50.0 69.5 L 115.5 69.5\" id=\"63,62\"></path><path d=\"M 50.0 185.6 L 50.0 301.8 L 115.5 301.8\" id=\"63,61\"></path><path d=\"M 115.5 301.8 L 115.5 129.4 L 621.7 129.4\" id=\"61,60\"></path><path d=\"M 115.5 301.8 L 115.5 215.5 L 214.0 215.5\" id=\"61,59\"></path><path d=\"M 115.5 301.8 L 115.5 309.0 L 277.7 309.0\" id=\"61,58\"></path><path d=\"M 115.5 301.8 L 115.5 397.0 L 181.5 397.0\" id=\"61,57\"></path><path d=\"M 115.5 301.8 L 115.5 578.5 L 176.5 578.5\" id=\"61,56\"></path><path d=\"M 621.7 129.4 L 621.7 114.4 L 763.4 114.4\" id=\"60,55\"></path><path d=\"M 621.7 129.4 L 621.7 144.4 L 762.8 144.4\" id=\"60,54\"></path><path d=\"M 214.0 215.5 L 214.0 193.0 L 353.5 193.0\" id=\"59,53\"></path><path d=\"M 214.0 215.5 L 214.0 237.9 L 315.5 237.9\" id=\"59,52\"></path><path d=\"M 277.7 309.0 L 277.7 294.1 L 408.9 294.1\" id=\"58,51\"></path><path d=\"M 277.7 309.0 L 277.7 324.0 L 547.4 324.0\" id=\"58,50\"></path><path d=\"M 181.5 397.0 L 181.5 353.9 L 340.5 353.9\" id=\"57,49\"></path><path d=\"M 181.5 397.0 L 181.5 440.0 L 257.0 440.0\" id=\"57,48\"></path><path d=\"M 353.5 193.0 L 353.5 204.2 L 659.3 204.2\" id=\"53,47\"></path><path d=\"M 315.5 237.9 L 315.5 249.2 L 606.8 249.2\" id=\"52,46\"></path><path d=\"M 257.0 440.0 L 257.0 400.7 L 314.4 400.7\" id=\"48,45\"></path><path d=\"M 257.0 440.0 L 257.0 479.3 L 305.8 479.3\" id=\"48,44\"></path><path d=\"M 314.4 400.7 L 314.4 383.9 L 486.9 383.9\" id=\"45,43\"></path><path d=\"M 314.4 400.7 L 314.4 417.6 L 387.9 417.6\" id=\"45,42\"></path><path d=\"M 305.8 479.3 L 305.8 458.7 L 386.4 458.7\" id=\"44,41\"></path><path d=\"M 305.8 479.3 L 305.8 499.9 L 373.5 499.9\" id=\"44,40\"></path><path d=\"M 387.9 417.6 L 387.9 428.8 L 449.1 428.8\" id=\"42,39\"></path><path d=\"M 373.5 499.9 L 373.5 518.6 L 614.2 518.6\" id=\"40,38\"></path><path d=\"M 614.2 518.6 L 614.2 503.6 L 718.3 503.6\" id=\"38,37\"></path><path d=\"M 614.2 518.6 L 614.2 533.6 L 684.2 533.6\" id=\"38,36\"></path><path d=\"M 115.5 69.5 L 115.5 62.0 L 472.6 62.0\" id=\"62,35\"></path><path d=\"M 115.5 69.5 L 115.5 77.0 L 414.3 77.0\" id=\"62,34\"></path><path d=\"M 115.5 301.8 L 115.5 92.0 L 221.1 92.0\" id=\"61,33\"></path><path d=\"M 763.4 114.4 L 763.4 107.0 L 770.0 107.0\" id=\"55,32\"></path><path d=\"M 763.4 114.4 L 763.4 121.9 L 769.7 121.9\" id=\"55,31\"></path><path d=\"M 762.8 144.4 L 762.8 136.9 L 788.3 136.9\" id=\"54,30\"></path><path d=\"M 762.8 144.4 L 762.8 151.9 L 786.5 151.9\" id=\"54,29\"></path><path d=\"M 115.5 301.8 L 115.5 166.8 L 682.7 166.8\" id=\"61,28\"></path><path d=\"M 353.5 193.0 L 353.5 181.8 L 779.3 181.8\" id=\"53,27\"></path><path d=\"M 659.3 204.2 L 659.3 196.8 L 671.5 196.8\" id=\"47,26\"></path><path d=\"M 659.3 204.2 L 659.3 211.7 L 675.1 211.7\" id=\"47,25\"></path><path d=\"M 315.5 237.9 L 315.5 226.7 L 704.2 226.7\" id=\"52,24\"></path><path d=\"M 606.8 249.2 L 606.8 241.7 L 654.1 241.7\" id=\"46,23\"></path><path d=\"M 606.8 249.2 L 606.8 256.6 L 665.1 256.6\" id=\"46,22\"></path><path d=\"M 115.5 301.8 L 115.5 271.6 L 453.6 271.6\" id=\"61,21\"></path><path d=\"M 408.9 294.1 L 408.9 286.6 L 494.7 286.6\" id=\"51,20\"></path><path d=\"M 408.9 294.1 L 408.9 301.5 L 442.4 301.5\" id=\"51,19\"></path><path d=\"M 547.4 324.0 L 547.4 316.5 L 557.2 316.5\" id=\"50,18\"></path><path d=\"M 547.4 324.0 L 547.4 331.5 L 561.7 331.5\" id=\"50,17\"></path><path d=\"M 340.5 353.9 L 340.5 346.5 L 456.9 346.5\" id=\"49,16\"></path><path d=\"M 340.5 353.9 L 340.5 361.4 L 397.6 361.4\" id=\"49,15\"></path><path d=\"M 486.9 383.9 L 486.9 376.4 L 546.1 376.4\" id=\"43,14\"></path><path d=\"M 486.9 383.9 L 486.9 391.4 L 533.9 391.4\" id=\"43,13\"></path><path d=\"M 387.9 417.6 L 387.9 406.3 L 595.0 406.3\" id=\"42,12\"></path><path d=\"M 449.1 428.8 L 449.1 421.3 L 565.5 421.3\" id=\"39,11\"></path><path d=\"M 449.1 428.8 L 449.1 436.3 L 564.1 436.3\" id=\"39,10\"></path><path d=\"M 386.4 458.7 L 386.4 451.2 L 529.7 451.2\" id=\"41,9\"></path><path d=\"M 386.4 458.7 L 386.4 466.2 L 451.7 466.2\" id=\"41,8\"></path><path d=\"M 373.5 499.9 L 373.5 481.2 L 656.8 481.2\" id=\"40,7\"></path><path d=\"M 718.3 503.6 L 718.3 496.1 L 726.8 496.1\" id=\"37,6\"></path><path d=\"M 718.3 503.6 L 718.3 511.1 L 726.5 511.1\" id=\"37,5\"></path><path d=\"M 684.2 533.6 L 684.2 526.1 L 729.9 526.1\" id=\"36,4\"></path><path d=\"M 684.2 533.6 L 684.2 541.0 L 711.0 541.0\" id=\"36,3\"></path><path d=\"M 115.5 301.8 L 115.5 556.0 L 313.5 556.0\" id=\"61,2\"></path><path d=\"M 176.5 578.5 L 176.5 571.0 L 207.7 571.0\" id=\"56,1\"></path><path d=\"M 176.5 578.5 L 176.5 586.0 L 207.1 586.0\" id=\"56,0\"></path></g><g class=\"toytree-Nodes\" style=\"fill:rgb(40%,76.1%,64.7%);fill-opacity:1.0;stroke:None;stroke-width:1\"><g id=\"node-0\" transform=\"translate(207.121,585.954)\"><circle r=\"0.0\"></circle></g><g id=\"node-1\" transform=\"translate(207.663,570.985)\"><circle r=\"0.0\"></circle></g><g id=\"node-2\" transform=\"translate(313.478,556.016)\"><circle r=\"0.0\"></circle></g><g id=\"node-3\" transform=\"translate(711.045,541.048)\"><circle r=\"0.0\"></circle></g><g id=\"node-4\" transform=\"translate(729.932,526.079)\"><circle r=\"0.0\"></circle></g><g id=\"node-5\" transform=\"translate(726.483,511.110)\"><circle r=\"0.0\"></circle></g><g id=\"node-6\" transform=\"translate(726.782,496.141)\"><circle r=\"0.0\"></circle></g><g id=\"node-7\" transform=\"translate(656.789,481.172)\"><circle r=\"0.0\"></circle></g><g id=\"node-8\" transform=\"translate(451.682,466.204)\"><circle r=\"0.0\"></circle></g><g id=\"node-9\" transform=\"translate(529.731,451.235)\"><circle r=\"0.0\"></circle></g><g id=\"node-10\" transform=\"translate(564.083,436.266)\"><circle r=\"0.0\"></circle></g><g id=\"node-11\" transform=\"translate(565.503,421.297)\"><circle r=\"0.0\"></circle></g><g id=\"node-12\" transform=\"translate(594.990,406.328)\"><circle r=\"0.0\"></circle></g><g id=\"node-13\" transform=\"translate(533.918,391.360)\"><circle r=\"0.0\"></circle></g><g id=\"node-14\" transform=\"translate(546.136,376.391)\"><circle r=\"0.0\"></circle></g><g id=\"node-15\" transform=\"translate(397.607,361.422)\"><circle r=\"0.0\"></circle></g><g id=\"node-16\" transform=\"translate(456.860,346.453)\"><circle r=\"0.0\"></circle></g><g id=\"node-17\" transform=\"translate(561.729,331.484)\"><circle r=\"0.0\"></circle></g><g id=\"node-18\" transform=\"translate(557.164,316.516)\"><circle r=\"0.0\"></circle></g><g id=\"node-19\" transform=\"translate(442.407,301.547)\"><circle r=\"0.0\"></circle></g><g id=\"node-20\" transform=\"translate(494.672,286.578)\"><circle r=\"0.0\"></circle></g><g id=\"node-21\" transform=\"translate(453.605,271.609)\"><circle r=\"0.0\"></circle></g><g id=\"node-22\" transform=\"translate(665.095,256.640)\"><circle r=\"0.0\"></circle></g><g id=\"node-23\" transform=\"translate(654.126,241.672)\"><circle r=\"0.0\"></circle></g><g id=\"node-24\" transform=\"translate(704.238,226.703)\"><circle r=\"0.0\"></circle></g><g id=\"node-25\" transform=\"translate(675.084,211.734)\"><circle r=\"0.0\"></circle></g><g id=\"node-26\" transform=\"translate(671.488,196.765)\"><circle r=\"0.0\"></circle></g><g id=\"node-27\" transform=\"translate(779.277,181.796)\"><circle r=\"0.0\"></circle></g><g id=\"node-28\" transform=\"translate(682.704,166.828)\"><circle r=\"0.0\"></circle></g><g id=\"node-29\" transform=\"translate(786.462,151.859)\"><circle r=\"0.0\"></circle></g><g id=\"node-30\" transform=\"translate(788.292,136.890)\"><circle r=\"0.0\"></circle></g><g id=\"node-31\" transform=\"translate(769.728,121.921)\"><circle r=\"0.0\"></circle></g><g id=\"node-32\" transform=\"translate(769.997,106.952)\"><circle r=\"0.0\"></circle></g><g id=\"node-33\" transform=\"translate(221.142,91.984)\"><circle r=\"0.0\"></circle></g><g id=\"node-34\" transform=\"translate(414.346,77.015)\"><circle r=\"0.0\"></circle></g><g id=\"node-35\" transform=\"translate(472.648,62.046)\"><circle r=\"0.0\"></circle></g><g id=\"node-36\" transform=\"translate(684.242,533.563)\"><circle r=\"7.5\"></circle></g><g id=\"node-37\" transform=\"translate(718.303,503.626)\"><circle r=\"7.5\"></circle></g><g id=\"node-38\" transform=\"translate(614.156,518.594)\"><circle r=\"7.5\"></circle></g><g id=\"node-39\" transform=\"translate(449.095,428.782)\"><circle r=\"7.5\"></circle></g><g id=\"node-40\" transform=\"translate(373.528,499.883)\"><circle r=\"7.5\"></circle></g><g id=\"node-41\" transform=\"translate(386.365,458.719)\"><circle r=\"7.5\"></circle></g><g id=\"node-42\" transform=\"translate(387.905,417.555)\"><circle r=\"7.5\"></circle></g><g id=\"node-43\" transform=\"translate(486.868,383.875)\"><circle r=\"7.5\"></circle></g><g id=\"node-44\" transform=\"translate(305.779,479.301)\"><circle r=\"7.5\"></circle></g><g id=\"node-45\" transform=\"translate(314.365,400.715)\"><circle r=\"7.5\"></circle></g><g id=\"node-46\" transform=\"translate(606.775,249.156)\"><circle r=\"7.5\"></circle></g><g id=\"node-47\" transform=\"translate(659.268,204.250)\"><circle r=\"7.5\"></circle></g><g id=\"node-48\" transform=\"translate(256.957,440.008)\"><circle r=\"7.5\"></circle></g><g id=\"node-49\" transform=\"translate(340.474,353.938)\"><circle r=\"7.5\"></circle></g><g id=\"node-50\" transform=\"translate(547.399,324.000)\"><circle r=\"7.5\"></circle></g><g id=\"node-51\" transform=\"translate(408.863,294.062)\"><circle r=\"7.5\"></circle></g><g id=\"node-52\" transform=\"translate(315.537,237.929)\"><circle r=\"7.5\"></circle></g><g id=\"node-53\" transform=\"translate(353.489,193.023)\"><circle r=\"7.5\"></circle></g><g id=\"node-54\" transform=\"translate(762.829,144.374)\"><circle r=\"7.5\"></circle></g><g id=\"node-55\" transform=\"translate(763.370,114.437)\"><circle r=\"7.5\"></circle></g><g id=\"node-56\" transform=\"translate(176.527,578.470)\"><circle r=\"7.5\"></circle></g><g id=\"node-57\" transform=\"translate(181.549,396.973)\"><circle r=\"7.5\"></circle></g><g id=\"node-58\" transform=\"translate(277.660,309.031)\"><circle r=\"7.5\"></circle></g><g id=\"node-59\" transform=\"translate(213.969,215.476)\"><circle r=\"7.5\"></circle></g><g id=\"node-60\" transform=\"translate(621.731,129.406)\"><circle r=\"7.5\"></circle></g><g id=\"node-61\" transform=\"translate(115.505,301.755)\"><circle r=\"7.5\"></circle></g><g id=\"node-62\" transform=\"translate(115.505,69.530)\"><circle r=\"7.5\"></circle></g><g id=\"node-63\" transform=\"translate(50.000,185.643)\"><circle r=\"0.0\"></circle></g></g><g class=\"toytree-NodeLabels\" style=\"fill:rgb(14.9%,14.9%,14.9%);fill-opacity:1.0;font-size:9px;stroke:none\"><g transform=\"translate(676.74,535.86)\"><text>100</text></g><g transform=\"translate(710.80,505.93)\"><text>100</text></g><g transform=\"translate(606.65,520.89)\"><text>100</text></g><g transform=\"translate(441.59,431.08)\"><text>100</text></g><g transform=\"translate(366.02,502.18)\"><text>100</text></g><g transform=\"translate(381.36,461.02)\"><text>99</text></g><g transform=\"translate(380.40,419.85)\"><text>100</text></g><g transform=\"translate(479.36,386.17)\"><text>100</text></g><g transform=\"translate(300.77,481.60)\"><text>94</text></g><g transform=\"translate(306.86,403.01)\"><text>100</text></g><g transform=\"translate(599.27,251.46)\"><text>100</text></g><g transform=\"translate(651.76,206.55)\"><text>100</text></g><g transform=\"translate(251.95,442.31)\"><text>99</text></g><g transform=\"translate(332.97,356.24)\"><text>100</text></g><g transform=\"translate(542.40,326.30)\"><text>97</text></g><g transform=\"translate(401.36,296.36)\"><text>100</text></g><g transform=\"translate(310.53,240.23)\"><text>90</text></g><g transform=\"translate(348.48,195.32)\"><text>96</text></g><g transform=\"translate(755.32,146.67)\"><text>100</text></g><g transform=\"translate(755.86,116.74)\"><text>100</text></g><g transform=\"translate(171.52,580.77)\"><text>98</text></g><g transform=\"translate(176.55,399.27)\"><text>99</text></g><g transform=\"translate(272.66,311.33)\"><text>97</text></g><g transform=\"translate(208.97,217.78)\"><text>80</text></g><g transform=\"translate(614.23,131.71)\"><text>100</text></g><g transform=\"translate(108.00,304.05)\"><text>100</text></g><g transform=\"translate(110.50,71.83)\"><text>89</text></g></g><g class=\"toytree-TipLabels\" style=\"fill:rgb(14.9%,14.9%,14.9%);fill-opacity:1.0;font-family:helvetica;font-size:11px;font-weight:normal;stroke:none;white-space:pre\"><g transform=\"translate(207.12,585.95)rotate(0)\"><text style=\"\" x=\"15.00\" y=\"2.81\">O.nayeeri_478_A5</text></g><g transform=\"translate(207.66,570.99)rotate(0)\"><text style=\"\" x=\"15.00\" y=\"2.81\">O.nayeeri_E4</text></g><g transform=\"translate(313.48,556.02)rotate(0)\"><text style=\"\" x=\"15.00\" y=\"2.81\">O.ramirezii_C8</text></g><g transform=\"translate(711.04,541.05)rotate(0)\"><text style=\"\" x=\"15.00\" y=\"2.81\">O.acuminata_Zac2_G2</text></g><g transform=\"translate(729.93,526.08)rotate(0)\"><text style=\"\" x=\"15.00\" y=\"2.81\">O.acuminata_Zac1_F2</text></g><g transform=\"translate(726.48,511.11)rotate(0)\"><text style=\"\" x=\"15.00\" y=\"2.81\">O.acuminata_Ags1_D2</text></g><g transform=\"translate(726.78,496.14)rotate(0)\"><text style=\"\" x=\"15.00\" y=\"2.81\">O.acuminata_Ags2_E2</text></g><g transform=\"translate(656.79,481.17)rotate(0)\"><text style=\"\" x=\"15.00\" y=\"2.81\">O. odam_D3</text></g><g transform=\"translate(451.68,466.20)rotate(0)\"><text style=\"\" x=\"15.00\" y=\"2.81\">O.acuminata_Mich_A2</text></g><g transform=\"translate(529.73,451.23)rotate(0)\"><text style=\"\" x=\"15.00\" y=\"2.81\">O.acuminata_Mich_Luz_C2</text></g><g transform=\"translate(564.08,436.27)rotate(0)\"><text style=\"\" x=\"15.00\" y=\"2.81\">O.acuminata_Colima_F1</text></g><g transform=\"translate(565.50,421.30)rotate(0)\"><text style=\"\" x=\"15.00\" y=\"2.81\">O.acuminata_CG_Jal_G1</text></g><g transform=\"translate(594.99,406.33)rotate(0)\"><text style=\"\" x=\"15.00\" y=\"2.81\">O.acuminata_Teq_Jal_E1</text></g><g transform=\"translate(533.92,391.36)rotate(0)\"><text style=\"\" x=\"15.00\" y=\"2.81\">O.acuminata_SG_Jal1_H2</text></g><g transform=\"translate(546.14,376.39)rotate(0)\"><text style=\"\" x=\"15.00\" y=\"2.81\">O.acuminata_SG_Jal2_A3</text></g><g transform=\"translate(397.61,361.42)rotate(0)\"><text style=\"\" x=\"15.00\" y=\"2.81\">O.acuminata_Seb_Jal_B3</text></g><g transform=\"translate(456.86,346.45)rotate(0)\"><text style=\"\" x=\"15.00\" y=\"2.81\">O.acuminata_PV_Jal_C3</text></g><g transform=\"translate(561.73,331.48)rotate(0)\"><text style=\"\" x=\"15.00\" y=\"2.81\">O.acuminata_Ver2_B1</text></g><g transform=\"translate(557.16,316.52)rotate(0)\"><text style=\"\" x=\"15.00\" y=\"2.81\">O.acuminata_Ver1_A1</text></g><g transform=\"translate(442.41,301.55)rotate(0)\"><text style=\"\" x=\"15.00\" y=\"2.81\">O.acuminata_Gro_B2</text></g><g transform=\"translate(494.67,286.58)rotate(0)\"><text style=\"\" x=\"15.00\" y=\"2.81\">O.acuminata_Oax_H7</text></g><g transform=\"translate(453.61,271.61)rotate(0)\"><text style=\"\" x=\"15.00\" y=\"2.81\">O.reynosoana_H4</text></g><g transform=\"translate(665.10,256.64)rotate(0)\"><text style=\"\" x=\"15.00\" y=\"2.81\">O.ximenae_Oax2_H3</text></g><g transform=\"translate(654.13,241.67)rotate(0)\"><text style=\"\" x=\"15.00\" y=\"2.81\">O.ximenae_Oax1_G3</text></g><g transform=\"translate(704.24,226.70)rotate(0)\"><text style=\"\" x=\"15.00\" y=\"2.81\">O.fimbriata_F3</text></g><g transform=\"translate(675.08,211.73)rotate(0)\"><text style=\"\" x=\"15.00\" y=\"2.81\">O.victoriae_Mich1_C4</text></g><g transform=\"translate(671.49,196.77)rotate(0)\"><text style=\"\" x=\"15.00\" y=\"2.81\">O.victoriae_Mich2_D4</text></g><g transform=\"translate(779.28,181.80)rotate(0)\"><text style=\"\" x=\"15.00\" y=\"2.81\">O.transvolcanica_B5</text></g><g transform=\"translate(682.70,166.83)rotate(0)\"><text style=\"\" x=\"15.00\" y=\"2.81\">O.rezdowskiourm_E3</text></g><g transform=\"translate(786.46,151.86)rotate(0)\"><text style=\"\" x=\"15.00\" y=\"2.81\">O.victoriae2_B4</text></g><g transform=\"translate(788.29,136.89)rotate(0)\"><text style=\"\" x=\"15.00\" y=\"2.81\">O.victoriae1_A4</text></g><g transform=\"translate(769.73,121.92)rotate(0)\"><text style=\"\" x=\"15.00\" y=\"2.81\">O.acuminata_Oax1_C1</text></g><g transform=\"translate(770.00,106.95)rotate(0)\"><text style=\"\" x=\"15.00\" y=\"2.81\">O.acuminata_Oax2_D1</text></g><g transform=\"translate(221.14,91.98)rotate(0)\"><text style=\"\" x=\"15.00\" y=\"2.81\">O.acuminata_SLP_H1</text></g><g transform=\"translate(414.35,77.01)rotate(0)\"><text style=\"\" x=\"15.00\" y=\"2.81\">O.carrilloi_F4</text></g><g transform=\"translate(472.65,62.05)rotate(0)\"><text style=\"\" x=\"15.00\" y=\"2.81\">O.glauca_G4</text></g></g></g></g></g></svg><div class=\"toyplot-behavior\"><script>(function()\n",
       "{\n",
       "var modules={};\n",
       "})();</script></div></div>"
      ]
     },
     "metadata": {},
     "output_type": "display_data"
    }
   ],
   "source": [
    "tree = toytree.tree(\"./analysis-raxml/RAxML_bipartitions.otatea7_ONLY\")\n",
    "\n",
    "#import real names as dict\n",
    "names = pandas.read_csv(\"nombres_especies_RAD.csv\", index_col=0, squeeze=True, usecols=[0,1])\n",
    "names = names.to_dict() # put them in dict form\n",
    "names[\"reference\"] = \"ref\"\n",
    "\n",
    "# new_tips = [f\"{names[tip]}_{tip[3:]}\" for tip in tree.get_tip_labels()]\n",
    "\n",
    "# set dict with new tips (real name and code)\n",
    "new_tips = {tip:f\"{names[tip]}_{tip[3:]}\" for tip in tree.get_tip_labels()}\n",
    "\n",
    "# alter the tree itself to mantain new names\n",
    "tree = tree.set_node_values(feature=\"name\", values=new_tips)\n",
    "\n",
    "# root tree in Guadua\n",
    "tree = tree.root([\"O.carrilloi_F4\",\"O.glauca_G4\"])\n",
    "\n",
    "# collapse low support\n",
    "tree = tree.collapse_nodes(min_support=50)\n",
    "\n",
    "# set colors for very bad samples (few reads) AFTER ROOTING\n",
    "# bad_samples = [\"MM_B3\",\"MM_B2\"]  #\"MM_C8\",\"MM_H1\"\n",
    "# new_colors = [\"red\" if tip in [f\"{names[i]}_{i[3:]}\" for i in bad_samples] else \"black\" for tip in tree.get_tip_labels()]\n",
    "\n",
    "c,a,m = tree.draw(width=1000, \n",
    "                  node_labels=tree.get_node_values(\"support\"), \n",
    "                  node_sizes=15,\n",
    "                  # tip_labels_colors=new_colors,\n",
    "                 )"
   ]
  },
  {
   "cell_type": "code",
   "execution_count": 21,
   "id": "01c7f1f0-4ca9-48e5-ad22-90b004b1108c",
   "metadata": {
    "tags": []
   },
   "outputs": [],
   "source": [
    "import toyplot.svg\n",
    "toyplot.svg.render(c, f\"otatea7_ONLY.svg\")"
   ]
  },
  {
   "cell_type": "code",
   "execution_count": null,
   "id": "541b7ef1-7138-4af8-803b-c41df02af9d2",
   "metadata": {},
   "outputs": [],
   "source": []
  }
 ],
 "metadata": {
  "kernelspec": {
   "display_name": "Python 3 (ipykernel)",
   "language": "python",
   "name": "python3"
  },
  "language_info": {
   "codemirror_mode": {
    "name": "ipython",
    "version": 3
   },
   "file_extension": ".py",
   "mimetype": "text/x-python",
   "name": "python",
   "nbconvert_exporter": "python",
   "pygments_lexer": "ipython3",
   "version": "3.7.12"
  }
 },
 "nbformat": 4,
 "nbformat_minor": 5
}
